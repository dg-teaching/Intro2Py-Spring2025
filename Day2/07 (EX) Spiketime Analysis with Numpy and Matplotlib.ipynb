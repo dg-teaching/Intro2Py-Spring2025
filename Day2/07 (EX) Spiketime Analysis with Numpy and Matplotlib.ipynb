{
 "cells": [
  {
   "cell_type": "code",
   "execution_count": null,
   "id": "4791b566",
   "metadata": {},
   "outputs": [],
   "source": [
    "# import numpy as np\n",
    "# import matplotlib.pyplot as plt\n",
    "# from scipy import stats"
   ]
  },
  {
   "cell_type": "markdown",
   "id": "4e8e0ca2",
   "metadata": {},
   "source": [
    "# Fundamentals of Spike-Train Analysis\n",
    "\n",
    "Understanding spikes—discrete electrical events that encode information in neurons—is the foundation on which much of computational neuroscience is built. In this first notebook we’ll take raw spike times and, step by gentle step, turn them into meaningful visualisations and summary statistics. Along the way you’ll refresh core NumPy and Matplotlib skills, setting up a toolkit you’ll reuse throughout the course and, hopefully, well beyond it."
   ]
  },
  {
   "cell_type": "markdown",
   "id": "5ef1de99",
   "metadata": {},
   "source": [
    "## Utility Functions\n",
    "\n",
    "Running the cell below will create two custom modules: `spikeutils` and `plotutils`, used in the third and fourth sections to simplify the exercises a bit."
   ]
  },
  {
   "cell_type": "code",
   "execution_count": null,
   "id": "9bd6f45e",
   "metadata": {},
   "outputs": [],
   "source": [
    "\n",
    "########## Spike Generation Utils ############\n",
    "def gen_spikes(dur=10, rate=1, stim_times = None, max_rate=10, seed=None):\n",
    "    \"Generates some poisson-distributed spikes, moduled by a stimulus period.\"\n",
    "    random = np.random.RandomState(seed=seed)\n",
    "    dt = .01\n",
    "    t0 = -rate * 10\n",
    "    times = np.arange(t0, dur, dt)\n",
    "    if stim_times:\n",
    "        pdf = stats.uniform(stim_times[0], stim_times[1] - stim_times[0]).pdf(times)\n",
    "        rates = pdf / pdf.max() * (max_rate - rate) + rate\n",
    "    else:\n",
    "        rates = np.full_like(times, rate)\n",
    "    spikes = np.array([s + t for t, rate in zip(times, rates) if (s := random.exponential(1/rate)) < dt])\n",
    "    return spikes[spikes > 0]\n",
    "    \n",
    "\n",
    "\n",
    "def gen_spikes_multi(n=1, dur=10, rate=1, stim_times = None, max_rate=10, seed=None):\n",
    "    \"Runs the spike generator many times to get a lot of trial runs.\"\n",
    "    random = np.random.RandomState(seed=seed)\n",
    "    trains = []\n",
    "    for _ in range(n):\n",
    "        train = gen_spikes(dur=dur, rate=rate, stim_times=stim_times, max_rate=max_rate, seed=random.randint(0, 1000000000))\n",
    "        trains.append(train)\n",
    "    return trains\n",
    "\n",
    "\n",
    "class spikeutils:\n",
    "    gen_spikes = gen_spikes\n",
    "    gen_spikes_multi = gen_spikes_multi\n",
    "\n",
    "\n",
    "########### Plot Utils ###############\n",
    "\n",
    "def label(title=None, x=None, y=None, ax=None):\n",
    "    if ax is None:\n",
    "        ax = plt.gca()\n",
    "    ax.set(title=title, xlabel=x, ylabel=y)\n",
    "\n",
    "\n",
    "def remove_spines(ax=None, top=True, bottom=True, left=True, right=True):\n",
    "    if ax is None:\n",
    "        ax = plt.gca()\n",
    "    ax.spines['top'].set_visible(not top)\n",
    "    ax.spines['bottom'].set_visible(not bottom)\n",
    "    ax.spines['right'].set_visible(not right)\n",
    "    ax.spines['left'].set_visible(not left)\n",
    "\n",
    "\n",
    "def show_grid(x_major=1, x_minor=.4, y_major=1, y_minor=.5, color='white', bgcolor=0.9, ax=None):\n",
    "    if ax is None:\n",
    "        ax = plt.gca()\n",
    "\n",
    "    # Set background color\n",
    "    background_color = grey(bgcolor) if isinstance(bgcolor, (float, int)) else bgcolor\n",
    "    ax.set_axisbelow(True)\n",
    "    ax.set_facecolor(background_color)\n",
    "\n",
    "    # Set line width and colors (only showing non-zero widths)\n",
    "    if y_major > 0:\n",
    "        plt.gca().yaxis.grid(which='major', color=color, linewidth=y_major);\n",
    "    if y_minor > 0:\n",
    "        plt.gca().yaxis.grid(which='minor', color=color, linewidth=y_minor);\n",
    "    if x_major > 0:\n",
    "        plt.gca().xaxis.grid(which='major', color=color, linewidth=x_major);\n",
    "    if x_minor > 0:\n",
    "        plt.gca().xaxis.grid(which='minor', color=color, linewidth=x_minor);\n",
    "\n",
    "\n",
    "\n",
    "def grey(level=0.5):\n",
    "    assert 0. <= level <= 1., \"grey level sould be between 0 and 1\"\n",
    "    l = int(level * 255)\n",
    "    return f\"#{l:02x}{l:02x}{l:02x}\"\n",
    "\n",
    "\n",
    "def xticks(major=1., minor=0., show=True, ax=None):\n",
    "    from matplotlib.ticker import MultipleLocator\n",
    "    if ax is None:\n",
    "        ax = plt.gca()\n",
    "\n",
    "    if major:\n",
    "        ax.xaxis.set_major_locator(MultipleLocator(major)) \n",
    "    if not major:\n",
    "        ax.xaxis.set_visible(False)\n",
    "    if not show:\n",
    "        ax.xaxis.set_tick_params('major', length=0)\n",
    "    if minor:\n",
    "        ax.xaxis.set_minor_locator(MultipleLocator(minor))\n",
    "    if not minor or not show:\n",
    "        ax.xaxis.set_tick_params('minor', length=0)\n",
    "\n",
    "\n",
    "def yticks(major=1., minor=0., show=True, ax=None):\n",
    "    from matplotlib.ticker import MultipleLocator\n",
    "    if ax is None:\n",
    "        ax = plt.gca()\n",
    "\n",
    "    if major:\n",
    "        ax.yaxis.set_major_locator(MultipleLocator(major))\n",
    "    if not major:\n",
    "        ax.yaxis.set_visible(False)\n",
    "    if not show:\n",
    "        ax.yaxis.set_tick_params('major', length=0)\n",
    "    if minor:\n",
    "        ax.yaxis.set_minor_locator(MultipleLocator(minor))\n",
    "    if not minor or not show:\n",
    "        ax.yaxis.set_tick_params('minor', length=0)\n",
    "\n",
    "\n",
    "\n",
    "class plotutils:\n",
    "    label = label\n",
    "    remove_spines = remove_spines\n",
    "    show_grid = show_grid\n",
    "    xticks = xticks\n",
    "    yticks = yticks\n"
   ]
  },
  {
   "cell_type": "markdown",
   "id": "8aef5cec",
   "metadata": {},
   "source": [
    "### Numpy Review with Spike Trains: Indexing and Slicing\n",
    "\n",
    "Spike times are, at heart, just numerical arrays—perfect territory for a quick NumPy warm-up. Here we’ll revisit slicing, boolean masks, and vectorised arithmetic, using real spike-train examples so that every line of code maps onto something a neuron actually did. If any of these techniques feel rusty, don’t worry: short, concrete snippets illustrate how a single NumPy expression can replace slow Python loops and make analyses both clearer and faster.\n",
    "\n",
    ".\n",
    "| Code | Description |\n",
    "| :-- | :-- |\n",
    "| **`spikes = np.array([1, 2, 4])`** | Construct a numpy array from a list of three spike events |\n",
    "| **`spikes2 = spikes + 3`** | Add 3 seconds to all spike times. |\n",
    "| **`spikes2 = spikes * 10`** | Multiply 10 seconds to all spike times. |\n",
    "| **`isi = np.diff(spikes)`** | Calculate the inter-interval spike times by subtracting neighboring values |\n",
    "| **`spikes = np.cumsum(isi)`** | Calculate spike times by adding neighboring ISIs |\n",
    "| **`rates = 1 / isi`** | Calculate the \"instantaneous\" firing rates (i.e. the inverse of ISI) |\n",
    "\n"
   ]
  },
  {
   "cell_type": "markdown",
   "id": "14261522",
   "metadata": {},
   "source": [
    "**Exercises**"
   ]
  },
  {
   "cell_type": "markdown",
   "id": "fa48dc88",
   "metadata": {},
   "source": [
    "**Example**: Convert the spike train array below from seconds to milliseconds by multiplying."
   ]
  },
  {
   "cell_type": "code",
   "execution_count": null,
   "id": "4942bb39",
   "metadata": {},
   "outputs": [],
   "source": [
    "spikes = np.array([.2, .5, .9])\n",
    "spikes"
   ]
  },
  {
   "cell_type": "code",
   "execution_count": null,
   "id": "fb29c750",
   "metadata": {
    "tags": [
     "exercise"
    ]
   },
   "outputs": [],
   "source": [
    "spikes * 1000"
   ]
  },
  {
   "cell_type": "markdown",
   "id": "459f2348",
   "metadata": {},
   "source": [
    "The spike times below show the time s that a spike happened releative to the start of a trial.  Let's change them to be post-stimulus time by subtracting."
   ]
  },
  {
   "cell_type": "code",
   "execution_count": null,
   "id": "f3c38df6",
   "metadata": {},
   "outputs": [],
   "source": [
    "spikes = np.array([.2, .5, .9, 1.3, 1.8, 2.9])\n",
    "stimtime = 0.9"
   ]
  },
  {
   "cell_type": "code",
   "execution_count": null,
   "id": "c8cd1a4b",
   "metadata": {
    "tags": [
     "exercise"
    ]
   },
   "outputs": [],
   "source": []
  },
  {
   "cell_type": "markdown",
   "id": "e93fc8f2",
   "metadata": {},
   "source": [
    "The spike times below are not in order--this makes it hard to tell what spikes happened first, and even calculate the ISI (\"Inter-Spike Interval\") between consecutive spikes.  Using `np.sort()`, let's sort the spike times in ascending order."
   ]
  },
  {
   "cell_type": "code",
   "execution_count": null,
   "id": "e1f6ef38",
   "metadata": {},
   "outputs": [],
   "source": [
    "spikes =  np.array([5.5, 1.1, 2.2, 6.6, 4.4, 3.3])\n",
    "spikes"
   ]
  },
  {
   "cell_type": "code",
   "execution_count": null,
   "id": "d598c8a7",
   "metadata": {},
   "outputs": [],
   "source": []
  },
  {
   "cell_type": "markdown",
   "id": "f3a32103",
   "metadata": {},
   "source": [
    "Make a spike train containing spike events at 0.2, 0.5, and 0.9 seconds.  Using `np.diff()`: what are the spikes' ISIs? (Note: Add `prepend=np.nan` if you'd like a placeholder for the first spike.)"
   ]
  },
  {
   "cell_type": "code",
   "execution_count": null,
   "id": "812e094f",
   "metadata": {},
   "outputs": [],
   "source": []
  },
  {
   "cell_type": "markdown",
   "id": "44f15af7",
   "metadata": {},
   "source": [
    "Make a spike train containing spike events at 0.7, 0.8, 1.0, and 1.3 seconds. Using `np.diff()`: what are the spikes' ISIs? (Note: Add `prepend=np.nan` if you'd like a placeholder for the first spike.)"
   ]
  },
  {
   "cell_type": "code",
   "execution_count": null,
   "id": "f87b481f",
   "metadata": {},
   "outputs": [],
   "source": []
  },
  {
   "cell_type": "markdown",
   "id": "46d123f4",
   "metadata": {},
   "source": [
    "The spike times below should have an average firing rate of 4 Hz (spikes per second). Let's check this:  Using the provided algorithm, calculate  the average spike rate of the spikes below:\n",
    "  1. Convert the spike times to ISIs (`np.diff()`).\n",
    "  2. Calculate the average ISI (`np.mean()`).\n",
    "  3. Calculate the inverse of the average ISI (`1 / x`)"
   ]
  },
  {
   "cell_type": "code",
   "execution_count": null,
   "id": "57c9468c",
   "metadata": {},
   "outputs": [],
   "source": [
    "spikes = np.array([0.5, 0.8, 1.3, 1.4, 1.5])"
   ]
  },
  {
   "cell_type": "code",
   "execution_count": null,
   "id": "dd5dbc98",
   "metadata": {},
   "outputs": [],
   "source": []
  },
  {
   "cell_type": "markdown",
   "id": "3d657493",
   "metadata": {},
   "source": [
    "Create a spike train from the array of ISIs belowc using `np.cumsum()`.  Using `np.append(0, arr)` to add the missing t=0 spike from the sequence, then adding the time of the first spike to all the spike times will recover the original spike times."
   ]
  },
  {
   "cell_type": "code",
   "execution_count": null,
   "id": "e47f575d",
   "metadata": {},
   "outputs": [],
   "source": [
    "isis = np.array([.1, .2, .2, .3, .1])\n",
    "first_spiketime = 0.5"
   ]
  },
  {
   "cell_type": "code",
   "execution_count": null,
   "id": "15105c8e",
   "metadata": {},
   "outputs": [],
   "source": []
  },
  {
   "cell_type": "markdown",
   "id": "67d34150",
   "metadata": {},
   "source": [
    "## Indexing and Slicing Review with Raster Plots of Spike Trains\n",
    "\n",
    "Seeing data is believing. Once you can pull out subsets of spikes with NumPy, the natural next step is to visualise them with a raster plot. This section ties indexing tricks to immediate graphical pay-offs, reinforcing the idea that a well-chosen slice not only speeds computation but also sharpens the story your data tell.\n",
    "\n",
    "| Code | Description |\n",
    "| :-- | :-- |\n",
    "| **`x[0], x[-1]`**  | get the first and last spike time in the array |\n",
    "| **`x[2:4]`** | Get the third-to-fifth spike times in the array |\n",
    "| **`x[x > 3]`** | Get all spike times that occured after t=3 |\n",
    "| **`x[(1 <= x) & (x < 4)]`** | Get all spike times between 1 and 4 secs. |\n",
    "| --- | --- |\n",
    "| **`plt.eventplot(spikes)`** | Make a rasterplot of spike events |\n"
   ]
  },
  {
   "cell_type": "markdown",
   "id": "c6ef224a",
   "metadata": {},
   "source": [
    "**Exercises**: Analyze the randomly-generated spike train below."
   ]
  },
  {
   "cell_type": "code",
   "execution_count": null,
   "id": "1c3cb65c",
   "metadata": {},
   "outputs": [],
   "source": [
    "np.random.seed(3)\n",
    "isis = np.random.exponential(1, size=40)\n",
    "isis[20:] /= 3\n",
    "spikes = np.append(0.00, isis.cumsum() ).round(3)\n",
    "spikes"
   ]
  },
  {
   "cell_type": "markdown",
   "id": "f3c938fe",
   "metadata": {},
   "source": [
    "**Example**: What time in the trial was the first spike?"
   ]
  },
  {
   "cell_type": "code",
   "execution_count": null,
   "id": "918070b1",
   "metadata": {},
   "outputs": [],
   "source": [
    "spikes[0]"
   ]
  },
  {
   "cell_type": "markdown",
   "id": "fb5f84ec",
   "metadata": {},
   "source": [
    "What time in the trial was the 3rd spike?"
   ]
  },
  {
   "cell_type": "code",
   "execution_count": null,
   "id": "63973aae",
   "metadata": {},
   "outputs": [],
   "source": []
  },
  {
   "cell_type": "markdown",
   "id": "87f259a6",
   "metadata": {},
   "source": [
    "What time in the trial was the last spike?"
   ]
  },
  {
   "cell_type": "code",
   "execution_count": null,
   "id": "a6f15789",
   "metadata": {},
   "outputs": [],
   "source": []
  },
  {
   "cell_type": "markdown",
   "id": "b96ab0f8",
   "metadata": {},
   "source": [
    "How many spikes were there before t=15?"
   ]
  },
  {
   "cell_type": "code",
   "execution_count": null,
   "id": "dfda54af",
   "metadata": {},
   "outputs": [],
   "source": []
  },
  {
   "cell_type": "markdown",
   "id": "84c5575b",
   "metadata": {},
   "source": [
    "Make a raster plot of only the first 10 seconds' worth of spikes.  (The `plt.eventplot()` function can be used to make a raster plot of spike times.)"
   ]
  },
  {
   "cell_type": "code",
   "execution_count": null,
   "id": "d9b1fc15",
   "metadata": {},
   "outputs": [],
   "source": []
  },
  {
   "cell_type": "markdown",
   "id": "97e99041",
   "metadata": {},
   "source": [
    "Make a raster plot of only the times between t=5 and t=20."
   ]
  },
  {
   "cell_type": "code",
   "execution_count": null,
   "id": "b1875bdf",
   "metadata": {},
   "outputs": [],
   "source": []
  },
  {
   "cell_type": "markdown",
   "id": "156a1ae9",
   "metadata": {},
   "source": [
    "Below are the Inter-stimulus intervals (ISIs). What is the mean ISI for the first 20 spikes? (note: because there's a NaN in the data, using `np.nanmean()` instead of `np.mean()` will help.)"
   ]
  },
  {
   "cell_type": "code",
   "execution_count": null,
   "id": "62350927",
   "metadata": {},
   "outputs": [],
   "source": [
    "isis = np.diff(spikes, prepend=np.nan).round(3)\n",
    "isis"
   ]
  },
  {
   "cell_type": "code",
   "execution_count": null,
   "id": "80697f9a",
   "metadata": {},
   "outputs": [],
   "source": []
  },
  {
   "cell_type": "markdown",
   "id": "e525a2ad",
   "metadata": {},
   "source": [
    "What is the mean ISI for the last 20 spikes?"
   ]
  },
  {
   "cell_type": "code",
   "execution_count": null,
   "id": "838952c0",
   "metadata": {},
   "outputs": [],
   "source": []
  },
  {
   "cell_type": "markdown",
   "id": "3a883977",
   "metadata": {},
   "source": [
    "(Challenge Question): What is the mean ISI for the spikes between t=0 and t=10?"
   ]
  },
  {
   "cell_type": "code",
   "execution_count": null,
   "id": "77f507c2",
   "metadata": {},
   "outputs": [],
   "source": []
  },
  {
   "cell_type": "markdown",
   "id": "8053bc80",
   "metadata": {},
   "source": [
    "(Challenge Question): Were there more spikes in the first 5 seconds or in the last 5 seconds of the trial?"
   ]
  },
  {
   "cell_type": "code",
   "execution_count": null,
   "id": "940d9238",
   "metadata": {},
   "outputs": [],
   "source": []
  },
  {
   "cell_type": "markdown",
   "id": "a77c29ab",
   "metadata": {},
   "source": [
    "### Plotting Spike Event Data: Reviewing Plotting with Matplotlib\n",
    "\n",
    "Matplotlib remains the workhorse for scientific figures in Python, and spike trains pose a few special challenges—densely packed events, multiple trials, and millisecond-scale timing. Here we’ll review core plotting commands through the lens of neural data: event plots, histogram bins, axis scaling, and annotation. The goal is to give you a reliable recipe for turning arrays of spike times into clear, publication-ready figures without getting lost in Matplotlib’s vast option space.\n",
    "\n",
    ".\n",
    "| Code | Description |\n",
    "| :-- | :-- |\n",
    "| **`plt.eventplot(events)`** | Make a raster plot. |\n",
    "| **`plt.step(x, y, where='post')`** | Make a step plot, showing a line with sudden changes at measurement points. |\n",
    "| **`plt.pcolormesh(x, y, img)`** | Make a heatmap. |\n",
    "| **`plt.fill_between(x, y1, y2)`** | Make a shaded region over x, good for representing an error region in a continuous plot. |\n",
    "| **`plt.xlabel(), plt.ylabel()`** | Make a text label for the x or y axes. |\n",
    "| **`plt.legend()`** | Show a legend. |\n",
    "| **`plt.colorbar()`** | Show a colorbar. |"
   ]
  },
  {
   "cell_type": "markdown",
   "id": "62f05795",
   "metadata": {},
   "source": [
    "**Exercise**: Plot the spike times generated below in as a rasterplot using `plt.eventplot()`, and label the x-axis as `\"Time (sec)\"` with `plt.xlabel()`. Can you see a difference in spike firing rates between t=40 and t=55?  (Note: the events might pop better if `linewidths` is set to `0.5` and `colors` is set to `\"black\"`)\n"
   ]
  },
  {
   "cell_type": "code",
   "execution_count": null,
   "id": "0ba8fcb3",
   "metadata": {},
   "outputs": [],
   "source": [
    "spikes = spikeutils.gen_spikes(dur=120, rate=1, stim_times=[70, 90], max_rate=2.3, seed=3)\n",
    "print(f'{spikes.size} spike events generated from t=0 to t=90.')\n"
   ]
  },
  {
   "cell_type": "code",
   "execution_count": null,
   "id": "86255282",
   "metadata": {},
   "outputs": [],
   "source": []
  },
  {
   "cell_type": "markdown",
   "id": "17dff5dd",
   "metadata": {},
   "source": [
    "**Exercise**: Using `plt.step()`, make a step plot showing how the the spike times vs averge spike rates (calculated below in the `times` and `rates` variables), looking at how the average number of spikes in a time bin changes.  Does this plot show a noticable change in mean firing rate between t=50 and t=70? Be sure to label the x-axis as `\"Time (sec)\"` and the y-axis as `\"Mean Firing Rate (Hz)\"`.\n",
    "  - Tip: the trainsition point might be clearer if `where` is set to `\"post\"`.\n",
    "  - How does using `plt.step()` differ from using `plt.plot()`?"
   ]
  },
  {
   "cell_type": "code",
   "execution_count": null,
   "id": "4710ab01",
   "metadata": {},
   "outputs": [],
   "source": [
    "spikes = spikeutils.gen_spikes(dur=120, rate=1, stim_times=[70, 90], max_rate=2.3, seed=3)\n",
    "print(f'{spikes.size} spike events generated from t=0 to t=90.')\n",
    "binwidth = 5\n",
    "counts, time_bins = np.histogram(spikes, bins=np.arange(0, 120.1, binwidth))\n",
    "times = time_bins[:-1]\n",
    "rates = counts / binwidth\n",
    "times, rates"
   ]
  },
  {
   "cell_type": "code",
   "execution_count": null,
   "id": "63c7e23d",
   "metadata": {},
   "outputs": [],
   "source": []
  },
  {
   "cell_type": "markdown",
   "id": "196e9061",
   "metadata": {},
   "source": [
    "**Exercise**: Let's collect many trials' worth of data from this cell.  Using the spike trains `trains` variable, which contains a list of spike time arrays, make a raster plot showing the spike times.\n",
    "  - try to make each spike event appear as distinctly as you can in the plot, by manipulating the `linewidths`, `linelengths`, and `colors` parameters of `plt.eventplot()`.\n",
    "  - Be sure to label the x and y axes, plus add the title `\"Raster Plot\"`.  \n",
    "    - A utility function has been provided to make this easier: `plotutils.label(x=\"X Label\", y=\"Y Label\", title=\"Title\")`"
   ]
  },
  {
   "cell_type": "code",
   "execution_count": null,
   "id": "a799cdee",
   "metadata": {},
   "outputs": [],
   "source": [
    "trains = spikeutils.gen_spikes_multi(n=50, dur=120, rate=1, stim_times=[70, 90], max_rate=2.3, seed=3)\n",
    "print(f\"{len(trains)} trials generated, with a total of {sum([s.size for s in trains])} Spikes.\")\n",
    "len(trains)"
   ]
  },
  {
   "cell_type": "code",
   "execution_count": null,
   "id": "a8fa30cb",
   "metadata": {},
   "outputs": [],
   "source": []
  },
  {
   "cell_type": "markdown",
   "id": "2ee7abfb",
   "metadata": {},
   "source": [
    "**Exercise**: Let's use `plt.pcolormesh(x, y, matrix)` to make a heatmap showing the mean firing rate over time for each of the trials (calculated below, in the variables `trials`, `time_bins`, and `counts`).\n",
    "  - Adding a colorbar with `plt.colorbar(label='Firing Rate (Hz)') will make it easier to interpret the colors in the heatmap.\n",
    "  - Be sure to label the x axis, y axis, and title as well."
   ]
  },
  {
   "cell_type": "code",
   "execution_count": null,
   "id": "d287ca3e",
   "metadata": {},
   "outputs": [],
   "source": [
    "t = np.arange(0, 121, (bin_size := 2))\n",
    "time_bins = t[:-1]\n",
    "counts = np.array([np.histogram(s, bins=t)[0] / bin_size for s in trains])\n",
    "trials = np.arange(1, len(trains) + 1)\n"
   ]
  },
  {
   "cell_type": "code",
   "execution_count": null,
   "id": "08f38a34",
   "metadata": {},
   "outputs": [],
   "source": []
  },
  {
   "cell_type": "markdown",
   "id": "b3538e9c",
   "metadata": {},
   "source": [
    "**Exercise**: Let's plot the mean firing rate across trials, calculated below in `mean_counts`, using `plt.plot()`.  \n",
    "  - How precisely have we estimated the expected firing rate?  Make an error band using `plt.fill_between()`, using `errorbars.low` and `errorbars.high` to define the 95% confidence interval for the error bars.\n",
    "  - Be sure to label the x-axis, y-axis, and title.\n",
    "  - Make it easy to interpret the line and shaded region by adding `label=` parameters for each of the plotting functions, and calling `plt.legend()` to make a legend.\n",
    "    - Note: if you'd like to ensure the legend is out of the way of the data, add the parameter `bbox_to_anchor=(1.0, 1.0)` to the `plt.legend()` function call.\n"
   ]
  },
  {
   "cell_type": "code",
   "execution_count": null,
   "id": "47178aec",
   "metadata": {},
   "outputs": [],
   "source": [
    "time_bins = t[:-1]\n",
    "mean_counts = np.mean(counts, axis=0)\n",
    "errorbars = stats.bootstrap((counts,), np.mean).confidence_interval"
   ]
  },
  {
   "cell_type": "code",
   "execution_count": null,
   "id": "446bc09f",
   "metadata": {},
   "outputs": [],
   "source": []
  },
  {
   "cell_type": "markdown",
   "id": "0c8b3f90",
   "metadata": {},
   "source": [
    "## Customizing Plots to Make them Really Clean \n",
    "\n",
    "Great figures distil complex data into straightforward visual messages. In this final section we’ll polish our initial plots—adjusting tick marks, colours, and labels—to make them easy for colleagues (and reviewers!) to interpret at a glance. You’ll see how small aesthetic tweaks, applied systematically, raise a figure from “good enough” to “communicates instantly,” a skill that pays dividends in every presentation and paper you create."
   ]
  },
  {
   "cell_type": "markdown",
   "id": "645f2c80",
   "metadata": {},
   "source": [
    "**Exercise**: Below is the raster plot from the last section.  It's nice, but it contains extra elements that don't have meaning in the plot, and it is missing some information to help interpret the data.  Let's improve it!  Make the following improvements to the plot:\n",
    "  1. Since the y-axis doesn't have meaning, here it can confuse readers.  We can hide it with `utils.remove_spines()\n",
    "  2. Hide the y-axis values with `plotutils.yticks(None)`\n",
    "  3. Now there is a lot of unused white space in the plot.  Let's make the figure fit the data better by setting the figure dimensions manually: `plt.figure(figsize=(8, 1))`\n",
    "  4. It's a little tough to precisely estimate the spike times.  Let's set the x-tick resolution with `plotutils.xticks(10, 2.5)`\n",
    "  5. The box around the plot (called the \"spines\") aren't really adding any information here.  Let's remove them with `plotutils.remove_spines()`.\n",
    "  5. To make the stimulus period clear in the plot (t=50 - t=70), make a shaded region using `plt.axvspan()`, setting `alpha=.1` to make it transparant and `zorder=1` to make sure it appears behind the rasters.\n"
   ]
  },
  {
   "cell_type": "code",
   "execution_count": null,
   "id": "96d0bc8e",
   "metadata": {},
   "outputs": [],
   "source": [
    "plt.eventplot(spikes, linewidths=0.5, colors='black');\n",
    "plotutils.label(x='Time (sec)');\n"
   ]
  },
  {
   "cell_type": "code",
   "execution_count": null,
   "id": "db4f4a6d",
   "metadata": {},
   "outputs": [],
   "source": []
  },
  {
   "cell_type": "markdown",
   "id": "42bfd662",
   "metadata": {},
   "source": [
    "**Exercise**: Below is the step plot made in the last section.  This is also good, but challenging aspect for readers is to estimate the firing rate at each point in time--there isn't much visual information here to help with that.  Let's work on adding a clean grid to make those estimates straightforward:\n",
    "  1. Make a grid with `plotutils.show_grid()`.  The default is a light grey grid with white lines, so it doesn't distract from the data, but the colors and line widths can be changed.\n",
    "  2. Help readers estimate the firing rate with 0.25 Hz by setting the major tick frequency to 0.5 and the minor frquency to 0.25: `plotutils.yticks(.5, .25)`.\n",
    "  3. Help readers see the change at t=70 by setting the x-tick frequency to 10: `plotutils.xticks(10)`.\n",
    "  4. Once again, the spines are in the way of reading from the numbers to the white lines.  Remove the spines with `plotutils.remove_spines()`.\n",
    "  5. The black tick marks on the x- and y- axis are now redundant.  Hiden them by setting `show=False` on both the `xticks()` and `yticks()` functions.\n",
    "  6. To make the stimulus period clear in the plot (t=50 - t=70), make a shaded region using `plt.axvspan()`, setting `alpha=.1` to make it transparant and `zorder=1` to make sure it appears behind the plot and above the grid.\n"
   ]
  },
  {
   "cell_type": "code",
   "execution_count": null,
   "id": "e73840fe",
   "metadata": {},
   "outputs": [],
   "source": [
    "plt.step(times, rates, where='post');\n",
    "plotutils.label(title='Binned Spike Rates over Time', x='Time (sec)', y='Mean Firing Rate (Hz)')\n"
   ]
  },
  {
   "cell_type": "code",
   "execution_count": null,
   "id": "58a5d1de",
   "metadata": {},
   "outputs": [],
   "source": []
  },
  {
   "cell_type": "markdown",
   "id": "4e2eb05a",
   "metadata": {},
   "source": [
    "**Exercise**: All three of the plots for the multi-trial analysis are below.  They are all important: they show the data collected, the first-level aggregation, and the inference model, respectively.  What's needed now is to put them together into a figure to tell a clear story.  Let's turn these three figures into subplots to make it more clear that they belong together!\n",
    "  1. Change each of teh `plt.figure()` calls into a `plt.subplot()` call, describing the plot as having 1 row and 3 columns by calling them this way: `plt.subplot(1, 3, 1)`, `plt.subplot(1, 3, 2)`, and `plt.subplto(1, 3, 3)`.\n",
    "  2. Make room for the plots by first creating the figure with pre-set dimensions: `plt.figure(figsize=(16, 4))`.\n",
    "  3. Add a title for the whole figure, a \"Super Title\", with `plt.suptitle(\"Firing Rates for Cell 3 Across All Trials\")`\n",
    "  4. Let Matplotlib clean up the whitespace layout a bit by calling `plt.tight_layout()` right at the end."
   ]
  },
  {
   "cell_type": "code",
   "execution_count": null,
   "id": "4815c1f2",
   "metadata": {},
   "outputs": [],
   "source": [
    "plt.figure()\n",
    "plt.eventplot(trains, linewidths=.5, colors='black', lineoffsets=1.5)\n",
    "plotutils.label('Raster Plot', x='Time (s)', y='Cell #')\n",
    "\n",
    "plt.figure()\n",
    "plt.pcolormesh(counts)\n",
    "plotutils.label('Binned Firing Rates', x='Time (s)', y='Cell #')\n",
    "\n",
    "plt.figure()\n",
    "plt.plot(time_bins, mean_counts, label='Mean Firing Rate')\n",
    "plt.fill_between(x=time_bins, y1=errorbars.low, y2=errorbars.high, alpha=.3, label='95% CI', zorder=1)\n",
    "plt.legend(bbox_to_anchor=(1.0, 1.0)) \n",
    "plt.xlim(0)\n",
    "plotutils.remove_spines()\n",
    "plotutils.xticks(10, show=False)\n",
    "plotutils.yticks(.5, show=False)\n",
    "plotutils.label('Mean Binned Firing Rates', x='Time (s)', y='Mean Firing Rate')\n",
    "plotutils.show_grid()\n"
   ]
  },
  {
   "cell_type": "code",
   "execution_count": null,
   "id": "4bd6e592",
   "metadata": {},
   "outputs": [],
   "source": []
  }
 ],
 "metadata": {
  "kernelspec": {
   "display_name": "default",
   "language": "python",
   "name": "python3"
  },
  "language_info": {
   "codemirror_mode": {
    "name": "ipython",
    "version": 3
   },
   "file_extension": ".py",
   "mimetype": "text/x-python",
   "name": "python",
   "nbconvert_exporter": "python",
   "pygments_lexer": "ipython3",
   "version": "3.12.10"
  }
 },
 "nbformat": 4,
 "nbformat_minor": 5
}

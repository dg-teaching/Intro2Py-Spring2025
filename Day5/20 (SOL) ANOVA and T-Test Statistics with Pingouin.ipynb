{
 "cells": [
  {
   "cell_type": "code",
   "execution_count": null,
   "id": "7438b378",
   "metadata": {},
   "outputs": [],
   "source": [
    "%pip install --upgrade numpy matplotlib scipy pingouin seaborn pyarrow xarray netcdf4 pyocclient"
   ]
  },
  {
   "cell_type": "code",
   "execution_count": null,
   "id": "b517f752",
   "metadata": {},
   "outputs": [],
   "source": [
    "%matplotlib inline"
   ]
  },
  {
   "cell_type": "code",
   "execution_count": 75,
   "id": "050439d6",
   "metadata": {
    "cell_id": "00007-c41041df-aa03-4b5f-808e-68b79b41952b",
    "deepnote_cell_type": "code",
    "deepnote_to_be_reexecuted": false,
    "execution_millis": 4,
    "execution_start": 1636618509664,
    "source_hash": "fb7cc69d",
    "tags": []
   },
   "outputs": [],
   "source": [
    "import numpy as np\n",
    "import pandas as pd\n",
    "import pingouin as pg\n",
    "import seaborn as sns\n",
    "import matplotlib.pyplot as plt"
   ]
  },
  {
   "cell_type": "markdown",
   "id": "56c3d653",
   "metadata": {
    "cell_id": "00003-44f1e943-1946-4d75-ad48-00950d13809a",
    "deepnote_cell_type": "markdown",
    "id": "athletic-conditioning"
   },
   "source": [
    "# T-Tests with Pingouin\n",
    "\n",
    "[**Pingouin**](https://pingouin-stats.org/index.html) is a statistics package in Python that wraps pandas and [scipy-stats](https://docs.scipy.org/doc/scipy/reference/stats.html), creating more-complete statistics reports and presenting the results in a readable way.\n"
   ]
  },
  {
   "cell_type": "markdown",
   "id": "f011e52f",
   "metadata": {
    "cell_id": "00006-7ecfd47a-9742-49cd-ab32-67732ccc818b",
    "deepnote_cell_type": "markdown",
    "tags": []
   },
   "source": [
    "### T-Tests\n",
    "\n",
    "T-tests compare the means of two samples of data generated from a normally-distributed population and compute the probability that they have the same mean.\n",
    "\n",
    "\n",
    "| Code, | Statistical Test | Description |\n",
    "| :-- | :-- | :-- |\n",
    "| `pg.ttest(x, 0)` | One-Sampled T-Test | \"Is the mean of my data unlikely to be zero?\" |\n",
    "| `pg.ttest(x, y)` | Independent-Samples T-Test | \"Do the means of x and y indicate they are unlikely to be from the same distribution?\" |\n",
    "| `pg.ttest(x, y, paired=True)` | Paired-Samples T-test | \"Comparing each value directly to its neighbor, are the mean differences of x and y's data unlikely to be zero?\" |\n"
   ]
  },
  {
   "cell_type": "markdown",
   "id": "8769dd0f",
   "metadata": {
    "cell_id": "00007-cd4f75ec-03f0-4143-a914-e14ba3feff58",
    "deepnote_cell_type": "markdown",
    "tags": []
   },
   "source": [
    "**Exercises** let's do some analysis on some fake data to get a feel for these two statistics tools."
   ]
  },
  {
   "cell_type": "markdown",
   "id": "838e762d",
   "metadata": {
    "cell_id": "00005-d9203f16-7bbf-45ba-88e1-ad09099e7f62",
    "deepnote_cell_type": "markdown",
    "deepnote_to_be_reexecuted": false,
    "execution_millis": 42,
    "execution_start": 1636618898586,
    "source_hash": "8ddf4792",
    "tags": []
   },
   "source": [
    "Generate the Data: Run the code below to create the dataset `df`."
   ]
  },
  {
   "cell_type": "code",
   "execution_count": 76,
   "id": "94ff3c3a",
   "metadata": {
    "cell_id": "00005-3bfe7d22-ac1b-4281-8239-9840b84be665",
    "deepnote_cell_type": "code",
    "deepnote_to_be_reexecuted": false,
    "execution_millis": 157,
    "execution_start": 1636618872868,
    "source_hash": "30d6b9bd",
    "tags": []
   },
   "outputs": [
    {
     "data": {
      "text/plain": [
       "<Axes: >"
      ]
     },
     "execution_count": 76,
     "metadata": {},
     "output_type": "execute_result"
    },
    {
     "data": {
      "image/png": "[encoded data removed]",
      "text/plain": [
       "<Figure size 640x480 with 1 Axes>"
      ]
     },
     "metadata": {},
     "output_type": "display_data"
    }
   ],
   "source": [
    "randomizer = np.random.RandomState(17)  # Makes sure the pseudorandom number generators reproduce the same data for us all.\n",
    "df = pd.DataFrame()\n",
    "df['A'] = randomizer.normal(0, 1, size=20)\n",
    "df['B'] = randomizer.normal(0.2, 1, size=20)\n",
    "df['C'] = randomizer.normal(0.7, 1, size=20)\n",
    "df['D'] = df.A * 0.3 + randomizer.normal(0, 0.3, size=20)\n",
    "df.plot.box()"
   ]
  },
  {
   "cell_type": "markdown",
   "id": "8c5dffd6",
   "metadata": {
    "cell_id": "00008-9788637e-733d-47af-ade1-6b7d088bfd5c",
    "deepnote_cell_type": "markdown",
    "tags": []
   },
   "source": [
    "### Analyze the Data with T-Tests in Pingouin"
   ]
  },
  {
   "cell_type": "markdown",
   "id": "2818f8db",
   "metadata": {},
   "source": [
    "**A vs 0, One-Sampled T-Test (Example)**: Is the mean of the normally-distributed population that the the dataset A is generated from unlikely to be zero?"
   ]
  },
  {
   "cell_type": "code",
   "execution_count": 77,
   "id": "da2e7630",
   "metadata": {
    "tags": [
     "exercise"
    ]
   },
   "outputs": [
    {
     "data": {
      "text/html": [
       "<div>\n",
       "<style scoped>\n",
       "    .dataframe tbody tr th:only-of-type {\n",
       "        vertical-align: middle;\n",
       "    }\n",
       "\n",
       "    .dataframe tbody tr th {\n",
       "        vertical-align: top;\n",
       "    }\n",
       "\n",
       "    .dataframe thead th {\n",
       "        text-align: right;\n",
       "    }\n",
       "</style>\n",
       "<table border=\"1\" class=\"dataframe\">\n",
       "  <thead>\n",
       "    <tr style=\"text-align: right;\">\n",
       "      <th></th>\n",
       "      <th>T</th>\n",
       "      <th>dof</th>\n",
       "      <th>alternative</th>\n",
       "      <th>p-val</th>\n",
       "      <th>CI95%</th>\n",
       "      <th>cohen-d</th>\n",
       "      <th>BF10</th>\n",
       "      <th>power</th>\n",
       "    </tr>\n",
       "  </thead>\n",
       "  <tbody>\n",
       "    <tr>\n",
       "      <th>T-test</th>\n",
       "      <td>0.378652</td>\n",
       "      <td>19</td>\n",
       "      <td>two-sided</td>\n",
       "      <td>0.709144</td>\n",
       "      <td>[-0.45, 0.65]</td>\n",
       "      <td>0.084669</td>\n",
       "      <td>0.248</td>\n",
       "      <td>0.064966</td>\n",
       "    </tr>\n",
       "  </tbody>\n",
       "</table>\n",
       "</div>"
      ],
      "text/plain": [
       "               T  dof alternative     p-val          CI95%   cohen-d   BF10  \\\n",
       "T-test  0.378652   19   two-sided  0.709144  [-0.45, 0.65]  0.084669  0.248   \n",
       "\n",
       "           power  \n",
       "T-test  0.064966  "
      ]
     },
     "execution_count": 77,
     "metadata": {},
     "output_type": "execute_result"
    }
   ],
   "source": [
    "pg.ttest(df['A'], 0)"
   ]
  },
  {
   "cell_type": "markdown",
   "id": "1834ea70",
   "metadata": {},
   "source": [
    "**B vs 1, One-Sampled T-Test**: Is the mean of the normally-distributed population that the the dataset B is generated from unlikely to be one?"
   ]
  },
  {
   "cell_type": "code",
   "execution_count": 78,
   "id": "4eb87cc8",
   "metadata": {
    "tags": [
     "exercise"
    ]
   },
   "outputs": [
    {
     "data": {
      "text/html": [
       "<div>\n",
       "<style scoped>\n",
       "    .dataframe tbody tr th:only-of-type {\n",
       "        vertical-align: middle;\n",
       "    }\n",
       "\n",
       "    .dataframe tbody tr th {\n",
       "        vertical-align: top;\n",
       "    }\n",
       "\n",
       "    .dataframe thead th {\n",
       "        text-align: right;\n",
       "    }\n",
       "</style>\n",
       "<table border=\"1\" class=\"dataframe\">\n",
       "  <thead>\n",
       "    <tr style=\"text-align: right;\">\n",
       "      <th></th>\n",
       "      <th>T</th>\n",
       "      <th>dof</th>\n",
       "      <th>alternative</th>\n",
       "      <th>p-val</th>\n",
       "      <th>CI95%</th>\n",
       "      <th>cohen-d</th>\n",
       "      <th>BF10</th>\n",
       "      <th>power</th>\n",
       "    </tr>\n",
       "  </thead>\n",
       "  <tbody>\n",
       "    <tr>\n",
       "      <th>T-test</th>\n",
       "      <td>-4.449603</td>\n",
       "      <td>19</td>\n",
       "      <td>two-sided</td>\n",
       "      <td>0.000275</td>\n",
       "      <td>[-0.26, 0.55]</td>\n",
       "      <td>0.994961</td>\n",
       "      <td>113.454</td>\n",
       "      <td>0.98794</td>\n",
       "    </tr>\n",
       "  </tbody>\n",
       "</table>\n",
       "</div>"
      ],
      "text/plain": [
       "               T  dof alternative     p-val          CI95%   cohen-d     BF10  \\\n",
       "T-test -4.449603   19   two-sided  0.000275  [-0.26, 0.55]  0.994961  113.454   \n",
       "\n",
       "          power  \n",
       "T-test  0.98794  "
      ]
     },
     "execution_count": 78,
     "metadata": {},
     "output_type": "execute_result"
    }
   ],
   "source": [
    "pg.ttest(df['B'], 1)"
   ]
  },
  {
   "cell_type": "markdown",
   "id": "67930529",
   "metadata": {},
   "source": [
    "**A vs B, Independent Samples T-Test**: Is the mean of the normally-distributed population that the the dataset `A` is generated from unlikely to be the same as the mean of the normally-distributed population that the the dataset `B` is generated from?"
   ]
  },
  {
   "cell_type": "code",
   "execution_count": 6,
   "id": "e998e123",
   "metadata": {
    "tags": [
     "exercise"
    ]
   },
   "outputs": [
    {
     "data": {
      "text/html": [
       "<div>\n",
       "<style scoped>\n",
       "    .dataframe tbody tr th:only-of-type {\n",
       "        vertical-align: middle;\n",
       "    }\n",
       "\n",
       "    .dataframe tbody tr th {\n",
       "        vertical-align: top;\n",
       "    }\n",
       "\n",
       "    .dataframe thead th {\n",
       "        text-align: right;\n",
       "    }\n",
       "</style>\n",
       "<table border=\"1\" class=\"dataframe\">\n",
       "  <thead>\n",
       "    <tr style=\"text-align: right;\">\n",
       "      <th></th>\n",
       "      <th>T</th>\n",
       "      <th>dof</th>\n",
       "      <th>alternative</th>\n",
       "      <th>p-val</th>\n",
       "      <th>CI95%</th>\n",
       "      <th>cohen-d</th>\n",
       "      <th>BF10</th>\n",
       "      <th>power</th>\n",
       "    </tr>\n",
       "  </thead>\n",
       "  <tbody>\n",
       "    <tr>\n",
       "      <th>T-test</th>\n",
       "      <td>-0.137189</td>\n",
       "      <td>38</td>\n",
       "      <td>two-sided</td>\n",
       "      <td>0.891606</td>\n",
       "      <td>[-0.7, 0.61]</td>\n",
       "      <td>0.043383</td>\n",
       "      <td>0.311</td>\n",
       "      <td>0.052052</td>\n",
       "    </tr>\n",
       "  </tbody>\n",
       "</table>\n",
       "</div>"
      ],
      "text/plain": [
       "               T  dof alternative     p-val         CI95%   cohen-d   BF10  \\\n",
       "T-test -0.137189   38   two-sided  0.891606  [-0.7, 0.61]  0.043383  0.311   \n",
       "\n",
       "           power  \n",
       "T-test  0.052052  "
      ]
     },
     "execution_count": 6,
     "metadata": {},
     "output_type": "execute_result"
    }
   ],
   "source": [
    "pg.ttest(df['A'], df['B'])"
   ]
  },
  {
   "cell_type": "markdown",
   "id": "21e7c886",
   "metadata": {},
   "source": [
    "**A vs C, Independent Samples T-Test**: Is the mean of the normally-distributed population that the the dataset `A` is generated from unlikely to be the same as the mean of the normally-distributed population that the the dataset `C` is generated from?"
   ]
  },
  {
   "cell_type": "code",
   "execution_count": 7,
   "id": "b033e99f",
   "metadata": {
    "cell_id": "00013-7bf57931-725d-490f-86dd-bad0d3481205",
    "deepnote_cell_type": "code",
    "tags": [
     "exercise"
    ]
   },
   "outputs": [
    {
     "data": {
      "text/html": [
       "<div>\n",
       "<style scoped>\n",
       "    .dataframe tbody tr th:only-of-type {\n",
       "        vertical-align: middle;\n",
       "    }\n",
       "\n",
       "    .dataframe tbody tr th {\n",
       "        vertical-align: top;\n",
       "    }\n",
       "\n",
       "    .dataframe thead th {\n",
       "        text-align: right;\n",
       "    }\n",
       "</style>\n",
       "<table border=\"1\" class=\"dataframe\">\n",
       "  <thead>\n",
       "    <tr style=\"text-align: right;\">\n",
       "      <th></th>\n",
       "      <th>T</th>\n",
       "      <th>dof</th>\n",
       "      <th>alternative</th>\n",
       "      <th>p-val</th>\n",
       "      <th>CI95%</th>\n",
       "      <th>cohen-d</th>\n",
       "      <th>BF10</th>\n",
       "      <th>power</th>\n",
       "    </tr>\n",
       "  </thead>\n",
       "  <tbody>\n",
       "    <tr>\n",
       "      <th>T-test</th>\n",
       "      <td>-1.978874</td>\n",
       "      <td>38</td>\n",
       "      <td>two-sided</td>\n",
       "      <td>0.055111</td>\n",
       "      <td>[-1.42, 0.02]</td>\n",
       "      <td>0.625775</td>\n",
       "      <td>1.409</td>\n",
       "      <td>0.487608</td>\n",
       "    </tr>\n",
       "  </tbody>\n",
       "</table>\n",
       "</div>"
      ],
      "text/plain": [
       "               T  dof alternative     p-val          CI95%   cohen-d   BF10  \\\n",
       "T-test -1.978874   38   two-sided  0.055111  [-1.42, 0.02]  0.625775  1.409   \n",
       "\n",
       "           power  \n",
       "T-test  0.487608  "
      ]
     },
     "execution_count": 7,
     "metadata": {},
     "output_type": "execute_result"
    }
   ],
   "source": [
    "pg.ttest(df['A'], df['C'])"
   ]
  },
  {
   "cell_type": "markdown",
   "id": "c7f48a4c",
   "metadata": {
    "cell_id": "00014-1acad45d-9edc-4327-9d4a-a75100f221a6",
    "deepnote_cell_type": "markdown",
    "tags": []
   },
   "source": [
    "**A vs C, Paired Samples T-Test**: Is the mean of the differences between each pair of samples in generated from the two normally-distributed populations `A` and `C`  unlikely to be 0?"
   ]
  },
  {
   "cell_type": "code",
   "execution_count": 8,
   "id": "62a86b72",
   "metadata": {
    "tags": [
     "exercise"
    ]
   },
   "outputs": [
    {
     "data": {
      "text/html": [
       "<div>\n",
       "<style scoped>\n",
       "    .dataframe tbody tr th:only-of-type {\n",
       "        vertical-align: middle;\n",
       "    }\n",
       "\n",
       "    .dataframe tbody tr th {\n",
       "        vertical-align: top;\n",
       "    }\n",
       "\n",
       "    .dataframe thead th {\n",
       "        text-align: right;\n",
       "    }\n",
       "</style>\n",
       "<table border=\"1\" class=\"dataframe\">\n",
       "  <thead>\n",
       "    <tr style=\"text-align: right;\">\n",
       "      <th></th>\n",
       "      <th>T</th>\n",
       "      <th>dof</th>\n",
       "      <th>alternative</th>\n",
       "      <th>p-val</th>\n",
       "      <th>CI95%</th>\n",
       "      <th>cohen-d</th>\n",
       "      <th>BF10</th>\n",
       "      <th>power</th>\n",
       "    </tr>\n",
       "  </thead>\n",
       "  <tbody>\n",
       "    <tr>\n",
       "      <th>T-test</th>\n",
       "      <td>-1.728432</td>\n",
       "      <td>19</td>\n",
       "      <td>two-sided</td>\n",
       "      <td>0.100128</td>\n",
       "      <td>[-1.55, 0.15]</td>\n",
       "      <td>0.625775</td>\n",
       "      <td>0.818</td>\n",
       "      <td>0.756449</td>\n",
       "    </tr>\n",
       "  </tbody>\n",
       "</table>\n",
       "</div>"
      ],
      "text/plain": [
       "               T  dof alternative     p-val          CI95%   cohen-d   BF10  \\\n",
       "T-test -1.728432   19   two-sided  0.100128  [-1.55, 0.15]  0.625775  0.818   \n",
       "\n",
       "           power  \n",
       "T-test  0.756449  "
      ]
     },
     "execution_count": 8,
     "metadata": {},
     "output_type": "execute_result"
    }
   ],
   "source": [
    "pg.ttest(df['A'], df['C'], paired=True)"
   ]
  },
  {
   "cell_type": "markdown",
   "id": "f4d2e3ee",
   "metadata": {
    "cell_id": "00017-72ede8ff-a028-4ad9-af67-d9ee5dd2ec58",
    "deepnote_cell_type": "markdown",
    "tags": []
   },
   "source": [
    "**A vs D, Paired Samples T-Test**: Is the mean of the differences between each pair of samples in generated from the two normally-distributed populations `A` and `D`  unlikely to be 0?"
   ]
  },
  {
   "cell_type": "code",
   "execution_count": 9,
   "id": "d4cc4373",
   "metadata": {
    "tags": [
     "exercise"
    ]
   },
   "outputs": [
    {
     "data": {
      "text/html": [
       "<div>\n",
       "<style scoped>\n",
       "    .dataframe tbody tr th:only-of-type {\n",
       "        vertical-align: middle;\n",
       "    }\n",
       "\n",
       "    .dataframe tbody tr th {\n",
       "        vertical-align: top;\n",
       "    }\n",
       "\n",
       "    .dataframe thead th {\n",
       "        text-align: right;\n",
       "    }\n",
       "</style>\n",
       "<table border=\"1\" class=\"dataframe\">\n",
       "  <thead>\n",
       "    <tr style=\"text-align: right;\">\n",
       "      <th></th>\n",
       "      <th>T</th>\n",
       "      <th>dof</th>\n",
       "      <th>alternative</th>\n",
       "      <th>p-val</th>\n",
       "      <th>CI95%</th>\n",
       "      <th>cohen-d</th>\n",
       "      <th>BF10</th>\n",
       "      <th>power</th>\n",
       "    </tr>\n",
       "  </thead>\n",
       "  <tbody>\n",
       "    <tr>\n",
       "      <th>T-test</th>\n",
       "      <td>0.082615</td>\n",
       "      <td>19</td>\n",
       "      <td>two-sided</td>\n",
       "      <td>0.935022</td>\n",
       "      <td>[-0.45, 0.49]</td>\n",
       "      <td>0.02152</td>\n",
       "      <td>0.233</td>\n",
       "      <td>0.050959</td>\n",
       "    </tr>\n",
       "  </tbody>\n",
       "</table>\n",
       "</div>"
      ],
      "text/plain": [
       "               T  dof alternative     p-val          CI95%  cohen-d   BF10  \\\n",
       "T-test  0.082615   19   two-sided  0.935022  [-0.45, 0.49]  0.02152  0.233   \n",
       "\n",
       "           power  \n",
       "T-test  0.050959  "
      ]
     },
     "execution_count": 9,
     "metadata": {},
     "output_type": "execute_result"
    }
   ],
   "source": [
    "pg.ttest(df['A'], df['D'], paired=True)"
   ]
  },
  {
   "cell_type": "markdown",
   "id": "9563ca18",
   "metadata": {},
   "source": [
    "## T-Tests on Real-World Data: Pupil Position Analysis\n",
    "\n",
    "In the experiments reported by [Steinmetz et al, 2019 in Nature](https://www.nature.com/articles/s41586-019-1787-x), mice performed a discrimination task where they moved the position of a stimulus using a steering wheel. During the experiment, a camera recorded the pupil position of the subject in the x and y directions.\n"
   ]
  },
  {
   "cell_type": "markdown",
   "id": "c93fd1c2",
   "metadata": {},
   "source": [
    "### Download the dataset and load it into a Pandas DataFrame"
   ]
  },
  {
   "cell_type": "code",
   "execution_count": 13,
   "id": "de6e8c1f",
   "metadata": {},
   "outputs": [],
   "source": [
    "import owncloud"
   ]
  },
  {
   "cell_type": "code",
   "execution_count": 22,
   "id": "77de3cb9",
   "metadata": {},
   "outputs": [
    {
     "data": {
      "text/plain": [
       "<owncloud.owncloud.Client at 0x22d5f2df110>"
      ]
     },
     "execution_count": 22,
     "metadata": {},
     "output_type": "execute_result"
    }
   ],
   "source": [
    "client = owncloud.Client.from_public_link('https://uni-bonn.sciebo.de/s/7TrGeBWtQFGIGlY')\n",
    "client.get_file('data/processed/steinmetz_2017-01-08_Muller.nc')"
   ]
  },
  {
   "cell_type": "markdown",
   "id": "626cfa12",
   "metadata": {},
   "source": [
    "### Load and Filter the Data\n",
    "\n",
    "Run the code below, which loads the file, extracts the variables, filters the data, and transforms it into a dataframe."
   ]
  },
  {
   "cell_type": "code",
   "execution_count": 28,
   "id": "9f1bdf16",
   "metadata": {},
   "outputs": [
    {
     "data": {
      "text/html": [
       "<div>\n",
       "<style scoped>\n",
       "    .dataframe tbody tr th:only-of-type {\n",
       "        vertical-align: middle;\n",
       "    }\n",
       "\n",
       "    .dataframe tbody tr th {\n",
       "        vertical-align: top;\n",
       "    }\n",
       "\n",
       "    .dataframe thead th {\n",
       "        text-align: right;\n",
       "    }\n",
       "</style>\n",
       "<table border=\"1\" class=\"dataframe\">\n",
       "  <thead>\n",
       "    <tr style=\"text-align: right;\">\n",
       "      <th></th>\n",
       "      <th>pupil_x</th>\n",
       "      <th>pupil_y</th>\n",
       "      <th>contrast_left</th>\n",
       "      <th>contrast_right</th>\n",
       "      <th>response_type</th>\n",
       "      <th>contrast_diff</th>\n",
       "    </tr>\n",
       "    <tr>\n",
       "      <th>trial</th>\n",
       "      <th></th>\n",
       "      <th></th>\n",
       "      <th></th>\n",
       "      <th></th>\n",
       "      <th></th>\n",
       "      <th></th>\n",
       "    </tr>\n",
       "  </thead>\n",
       "  <tbody>\n",
       "    <tr>\n",
       "      <th>1</th>\n",
       "      <td>-1.019465</td>\n",
       "      <td>0.754972</td>\n",
       "      <td>50.0</td>\n",
       "      <td>0.0</td>\n",
       "      <td>1.0</td>\n",
       "      <td>-50.0</td>\n",
       "    </tr>\n",
       "    <tr>\n",
       "      <th>2</th>\n",
       "      <td>-0.184417</td>\n",
       "      <td>0.509199</td>\n",
       "      <td>0.0</td>\n",
       "      <td>50.0</td>\n",
       "      <td>-1.0</td>\n",
       "      <td>50.0</td>\n",
       "    </tr>\n",
       "    <tr>\n",
       "      <th>3</th>\n",
       "      <td>0.799240</td>\n",
       "      <td>-0.486496</td>\n",
       "      <td>100.0</td>\n",
       "      <td>25.0</td>\n",
       "      <td>1.0</td>\n",
       "      <td>-75.0</td>\n",
       "    </tr>\n",
       "    <tr>\n",
       "      <th>4</th>\n",
       "      <td>-0.294746</td>\n",
       "      <td>-0.218956</td>\n",
       "      <td>0.0</td>\n",
       "      <td>100.0</td>\n",
       "      <td>-1.0</td>\n",
       "      <td>100.0</td>\n",
       "    </tr>\n",
       "    <tr>\n",
       "      <th>5</th>\n",
       "      <td>-0.367058</td>\n",
       "      <td>-0.259306</td>\n",
       "      <td>50.0</td>\n",
       "      <td>50.0</td>\n",
       "      <td>1.0</td>\n",
       "      <td>0.0</td>\n",
       "    </tr>\n",
       "  </tbody>\n",
       "</table>\n",
       "</div>"
      ],
      "text/plain": [
       "        pupil_x   pupil_y  contrast_left  contrast_right  response_type  \\\n",
       "trial                                                                     \n",
       "1     -1.019465  0.754972           50.0             0.0            1.0   \n",
       "2     -0.184417  0.509199            0.0            50.0           -1.0   \n",
       "3      0.799240 -0.486496          100.0            25.0            1.0   \n",
       "4     -0.294746 -0.218956            0.0           100.0           -1.0   \n",
       "5     -0.367058 -0.259306           50.0            50.0            1.0   \n",
       "\n",
       "       contrast_diff  \n",
       "trial                 \n",
       "1              -50.0  \n",
       "2               50.0  \n",
       "3              -75.0  \n",
       "4              100.0  \n",
       "5                0.0  "
      ]
     },
     "execution_count": 28,
     "metadata": {},
     "output_type": "execute_result"
    }
   ],
   "source": [
    "import xarray as xr\n",
    "\n",
    "dset = xr.load_dataset('steinmetz_2017-01-08_Muller.nc')\n",
    "dd = dset[['pupil_x', 'pupil_y', 'contrast_left', 'contrast_right', 'response_type']]\n",
    "dd = dd.where(\n",
    "    (dset.active_trials==True) \n",
    "    & (dset.response_type != 0)\n",
    "    & (dset.time >= 0.5)\n",
    "    & (dset.time <= 1.3)\n",
    "    , drop=True)\n",
    "dd['contrast_diff'] = dd['contrast_right'] - dd['contrast_left']\n",
    "trials = dd.median(dim='time')\n",
    "rdf = trials.to_dataframe()\n",
    "rdf.head()"
   ]
  },
  {
   "cell_type": "markdown",
   "id": "3cdfd4ec",
   "metadata": {},
   "source": [
    "**Exercises**\n",
    "\n",
    "Extract data from the dataframe `df1`, plot its distribution(s), and use a t-test to answer the questions below:"
   ]
  },
  {
   "cell_type": "markdown",
   "id": "843fd300",
   "metadata": {},
   "source": [
    "**Example**: For the trials where `contrast_left` was greater or equal to 50 and `contrast_right` was 0, was the average `pupil_x` position for the trial zero?"
   ]
  },
  {
   "cell_type": "code",
   "execution_count": 30,
   "id": "45fc62fa",
   "metadata": {},
   "outputs": [
    {
     "data": {
      "text/html": [
       "<div>\n",
       "<style scoped>\n",
       "    .dataframe tbody tr th:only-of-type {\n",
       "        vertical-align: middle;\n",
       "    }\n",
       "\n",
       "    .dataframe tbody tr th {\n",
       "        vertical-align: top;\n",
       "    }\n",
       "\n",
       "    .dataframe thead th {\n",
       "        text-align: right;\n",
       "    }\n",
       "</style>\n",
       "<table border=\"1\" class=\"dataframe\">\n",
       "  <thead>\n",
       "    <tr style=\"text-align: right;\">\n",
       "      <th></th>\n",
       "      <th>T</th>\n",
       "      <th>dof</th>\n",
       "      <th>alternative</th>\n",
       "      <th>p-val</th>\n",
       "      <th>CI95%</th>\n",
       "      <th>cohen-d</th>\n",
       "      <th>BF10</th>\n",
       "      <th>power</th>\n",
       "    </tr>\n",
       "  </thead>\n",
       "  <tbody>\n",
       "    <tr>\n",
       "      <th>T-test</th>\n",
       "      <td>3.447425</td>\n",
       "      <td>24</td>\n",
       "      <td>two-sided</td>\n",
       "      <td>0.002098</td>\n",
       "      <td>[0.22, 0.88]</td>\n",
       "      <td>0.689485</td>\n",
       "      <td>18.185</td>\n",
       "      <td>0.910939</td>\n",
       "    </tr>\n",
       "  </tbody>\n",
       "</table>\n",
       "</div>"
      ],
      "text/plain": [
       "               T  dof alternative     p-val         CI95%   cohen-d    BF10  \\\n",
       "T-test  3.447425   24   two-sided  0.002098  [0.22, 0.88]  0.689485  18.185   \n",
       "\n",
       "           power  \n",
       "T-test  0.910939  "
      ]
     },
     "execution_count": 30,
     "metadata": {},
     "output_type": "execute_result"
    },
    {
     "data": {
      "image/png": "[encoded data removed]",
      "text/plain": [
       "<Figure size 640x480 with 1 Axes>"
      ]
     },
     "metadata": {},
     "output_type": "display_data"
    }
   ],
   "source": [
    "left = rdf[(rdf.contrast_left >= 50) & (rdf.contrast_right == 0)]\n",
    "sns.kdeplot(left.pupil_x, label='left')\n",
    "plt.axvline(0, color='black', linestyle='dotted')\n",
    "plt.legend()\n",
    "pg.ttest(left.pupil_x, 0)"
   ]
  },
  {
   "cell_type": "markdown",
   "id": "411b8591",
   "metadata": {},
   "source": [
    "Where the mice looking at the stimulus that was presented?  In trials where there was only one stimulus present (i.e. `contrast_left` or `contrast_right` was zero), and the stimulus had at least a contrast level of 50 (quite visible), was there a difference in the average `pupil_x` position?"
   ]
  },
  {
   "cell_type": "code",
   "execution_count": 31,
   "id": "7bcd646e",
   "metadata": {},
   "outputs": [
    {
     "name": "stderr",
     "output_type": "stream",
     "text": [
      "c:\\Users\\delgr\\Desktop\\I2Py-2025-2\\Intro2Py-Spring2025\\.pixi\\envs\\default\\Lib\\site-packages\\pingouin\\parametric.py:228: UserWarning: x and y have unequal sizes. Switching to paired == False. Check your data.\n",
      "  warnings.warn(\"x and y have unequal sizes. Switching to paired == False. Check your data.\")\n"
     ]
    },
    {
     "data": {
      "text/html": [
       "<div>\n",
       "<style scoped>\n",
       "    .dataframe tbody tr th:only-of-type {\n",
       "        vertical-align: middle;\n",
       "    }\n",
       "\n",
       "    .dataframe tbody tr th {\n",
       "        vertical-align: top;\n",
       "    }\n",
       "\n",
       "    .dataframe thead th {\n",
       "        text-align: right;\n",
       "    }\n",
       "</style>\n",
       "<table border=\"1\" class=\"dataframe\">\n",
       "  <thead>\n",
       "    <tr style=\"text-align: right;\">\n",
       "      <th></th>\n",
       "      <th>T</th>\n",
       "      <th>dof</th>\n",
       "      <th>alternative</th>\n",
       "      <th>p-val</th>\n",
       "      <th>CI95%</th>\n",
       "      <th>cohen-d</th>\n",
       "      <th>BF10</th>\n",
       "      <th>power</th>\n",
       "    </tr>\n",
       "  </thead>\n",
       "  <tbody>\n",
       "    <tr>\n",
       "      <th>T-test</th>\n",
       "      <td>2.900766</td>\n",
       "      <td>41.883443</td>\n",
       "      <td>two-sided</td>\n",
       "      <td>0.005908</td>\n",
       "      <td>[0.19, 1.07]</td>\n",
       "      <td>0.855661</td>\n",
       "      <td>7.42</td>\n",
       "      <td>0.784252</td>\n",
       "    </tr>\n",
       "  </tbody>\n",
       "</table>\n",
       "</div>"
      ],
      "text/plain": [
       "               T        dof alternative     p-val         CI95%   cohen-d  \\\n",
       "T-test  2.900766  41.883443   two-sided  0.005908  [0.19, 1.07]  0.855661   \n",
       "\n",
       "        BF10     power  \n",
       "T-test  7.42  0.784252  "
      ]
     },
     "execution_count": 31,
     "metadata": {},
     "output_type": "execute_result"
    },
    {
     "data": {
      "image/png": "[encoded data removed]",
      "text/plain": [
       "<Figure size 640x480 with 1 Axes>"
      ]
     },
     "metadata": {},
     "output_type": "display_data"
    }
   ],
   "source": [
    "mask_left = np.logical_and(rdf['contrast_left'] >= 50, rdf['contrast_right'] == 0)\n",
    "df_left = rdf[mask_left]\n",
    "sns.kdeplot(df_left['pupil_x'], label = 'left')\n",
    "\n",
    "mask_right = np.logical_and(rdf['contrast_right'] >= 50, rdf['contrast_left'] == 0)\n",
    "df_right = rdf[mask_right]\n",
    "sns.kdeplot(df_right['pupil_x'], label = 'right')\n",
    "\n",
    "plt.legend()\n",
    "\n",
    "\n",
    "pg.ttest(df_left['pupil_x'], df_right['pupil_x'], paired = True)"
   ]
  },
  {
   "cell_type": "markdown",
   "id": "b2c32594",
   "metadata": {},
   "source": [
    "As a sanity check, was there a difference in vertical eye position between the left-stimulus trials and the right-stimulus trials?  In trials where there was only one stimulus present (i.e. `contrast_left` or `contrast_right` was zero), and the stimulus had at least a contrast level of 50 (quite visible), was there a difference in the average `pupil_y` position?"
   ]
  },
  {
   "cell_type": "code",
   "execution_count": 32,
   "id": "77ac4bf4",
   "metadata": {},
   "outputs": [
    {
     "data": {
      "text/html": [
       "<div>\n",
       "<style scoped>\n",
       "    .dataframe tbody tr th:only-of-type {\n",
       "        vertical-align: middle;\n",
       "    }\n",
       "\n",
       "    .dataframe tbody tr th {\n",
       "        vertical-align: top;\n",
       "    }\n",
       "\n",
       "    .dataframe thead th {\n",
       "        text-align: right;\n",
       "    }\n",
       "</style>\n",
       "<table border=\"1\" class=\"dataframe\">\n",
       "  <thead>\n",
       "    <tr style=\"text-align: right;\">\n",
       "      <th></th>\n",
       "      <th>T</th>\n",
       "      <th>dof</th>\n",
       "      <th>alternative</th>\n",
       "      <th>p-val</th>\n",
       "      <th>CI95%</th>\n",
       "      <th>cohen-d</th>\n",
       "      <th>BF10</th>\n",
       "      <th>power</th>\n",
       "    </tr>\n",
       "  </thead>\n",
       "  <tbody>\n",
       "    <tr>\n",
       "      <th>T-test</th>\n",
       "      <td>0.81158</td>\n",
       "      <td>38.482526</td>\n",
       "      <td>two-sided</td>\n",
       "      <td>0.422024</td>\n",
       "      <td>[-0.2, 0.47]</td>\n",
       "      <td>0.247714</td>\n",
       "      <td>0.39</td>\n",
       "      <td>0.125031</td>\n",
       "    </tr>\n",
       "  </tbody>\n",
       "</table>\n",
       "</div>"
      ],
      "text/plain": [
       "              T        dof alternative     p-val         CI95%   cohen-d  \\\n",
       "T-test  0.81158  38.482526   two-sided  0.422024  [-0.2, 0.47]  0.247714   \n",
       "\n",
       "        BF10     power  \n",
       "T-test  0.39  0.125031  "
      ]
     },
     "execution_count": 32,
     "metadata": {},
     "output_type": "execute_result"
    },
    {
     "data": {
      "image/png": "[encoded data removed]",
      "text/plain": [
       "<Figure size 640x480 with 1 Axes>"
      ]
     },
     "metadata": {},
     "output_type": "display_data"
    }
   ],
   "source": [
    "mask_left = np.logical_and(rdf['contrast_left'] >= 50, rdf['contrast_right'] == 0)\n",
    "df_left = rdf[mask_left]\n",
    "sns.kdeplot(df_left['pupil_y'], label = 'left')\n",
    "\n",
    "mask_right = np.logical_and(rdf['contrast_right'] >= 50, rdf['contrast_left'] == 0)\n",
    "df_right = rdf[mask_right]\n",
    "sns.kdeplot(df_right['pupil_y'], label = 'right')\n",
    "plt.legend()\n",
    "\n",
    "pg.ttest(df_left['pupil_y'], df_right['pupil_y'], paired = False)\n"
   ]
  },
  {
   "cell_type": "code",
   "execution_count": 33,
   "id": "316adad4",
   "metadata": {},
   "outputs": [
    {
     "name": "stdout",
     "output_type": "stream",
     "text": [
      "No, there is no statistical significant difference in pupil position when the stimulus is presented to the left vs. to the right.\n"
     ]
    }
   ],
   "source": [
    "print('No, there is no statistical significant difference in pupil position when the stimulus is presented to the left vs. to the right.')"
   ]
  },
  {
   "cell_type": "markdown",
   "id": "fc7904b5",
   "metadata": {},
   "source": [
    "Did mice look in the direction they turned the wheel?  Was there a difference in average `pupil_x` position between left-turning trials (i.e. `response_type` is -1) and right-turning trials (i.e. `response_type` is 1)?"
   ]
  },
  {
   "cell_type": "code",
   "execution_count": 34,
   "id": "a03e53c0",
   "metadata": {},
   "outputs": [
    {
     "data": {
      "text/html": [
       "<div>\n",
       "<style scoped>\n",
       "    .dataframe tbody tr th:only-of-type {\n",
       "        vertical-align: middle;\n",
       "    }\n",
       "\n",
       "    .dataframe tbody tr th {\n",
       "        vertical-align: top;\n",
       "    }\n",
       "\n",
       "    .dataframe thead th {\n",
       "        text-align: right;\n",
       "    }\n",
       "</style>\n",
       "<table border=\"1\" class=\"dataframe\">\n",
       "  <thead>\n",
       "    <tr style=\"text-align: right;\">\n",
       "      <th></th>\n",
       "      <th>T</th>\n",
       "      <th>dof</th>\n",
       "      <th>alternative</th>\n",
       "      <th>p-val</th>\n",
       "      <th>CI95%</th>\n",
       "      <th>cohen-d</th>\n",
       "      <th>BF10</th>\n",
       "      <th>power</th>\n",
       "    </tr>\n",
       "  </thead>\n",
       "  <tbody>\n",
       "    <tr>\n",
       "      <th>T-test</th>\n",
       "      <td>-2.472363</td>\n",
       "      <td>78.49085</td>\n",
       "      <td>two-sided</td>\n",
       "      <td>0.015585</td>\n",
       "      <td>[-0.59, -0.06]</td>\n",
       "      <td>0.50892</td>\n",
       "      <td>3.159</td>\n",
       "      <td>0.610308</td>\n",
       "    </tr>\n",
       "  </tbody>\n",
       "</table>\n",
       "</div>"
      ],
      "text/plain": [
       "               T       dof alternative     p-val           CI95%  cohen-d  \\\n",
       "T-test -2.472363  78.49085   two-sided  0.015585  [-0.59, -0.06]  0.50892   \n",
       "\n",
       "         BF10     power  \n",
       "T-test  3.159  0.610308  "
      ]
     },
     "execution_count": 34,
     "metadata": {},
     "output_type": "execute_result"
    },
    {
     "data": {
      "image/png": "[encoded data removed]",
      "text/plain": [
       "<Figure size 640x480 with 1 Axes>"
      ]
     },
     "metadata": {},
     "output_type": "display_data"
    }
   ],
   "source": [
    "mask_left = rdf['response_type'] == -1\n",
    "df_left = rdf[mask_left]\n",
    "sns.kdeplot(df_left['pupil_x'], label = 'left')\n",
    "\n",
    "mask_right = rdf['response_type'] == 1\n",
    "df_right = rdf[mask_right]\n",
    "sns.kdeplot(df_right['pupil_x'], label = 'right')\n",
    "\n",
    "plt.legend()\n",
    "\n",
    "pg.ttest(df_left['pupil_x'], df_right['pupil_x'], paired = False)\n"
   ]
  },
  {
   "cell_type": "markdown",
   "id": "824c19c1",
   "metadata": {},
   "source": [
    "As a sanity check, did vertical eye position matter?  Was there a difference in average `pupil_y` position between left-turning trials (i.e. `response_type` is -1) and right-turning trials (i.e. `response_type` is 1)?"
   ]
  },
  {
   "cell_type": "code",
   "execution_count": 35,
   "id": "7b8a02f9",
   "metadata": {},
   "outputs": [
    {
     "data": {
      "text/html": [
       "<div>\n",
       "<style scoped>\n",
       "    .dataframe tbody tr th:only-of-type {\n",
       "        vertical-align: middle;\n",
       "    }\n",
       "\n",
       "    .dataframe tbody tr th {\n",
       "        vertical-align: top;\n",
       "    }\n",
       "\n",
       "    .dataframe thead th {\n",
       "        text-align: right;\n",
       "    }\n",
       "</style>\n",
       "<table border=\"1\" class=\"dataframe\">\n",
       "  <thead>\n",
       "    <tr style=\"text-align: right;\">\n",
       "      <th></th>\n",
       "      <th>T</th>\n",
       "      <th>dof</th>\n",
       "      <th>alternative</th>\n",
       "      <th>p-val</th>\n",
       "      <th>CI95%</th>\n",
       "      <th>cohen-d</th>\n",
       "      <th>BF10</th>\n",
       "      <th>power</th>\n",
       "    </tr>\n",
       "  </thead>\n",
       "  <tbody>\n",
       "    <tr>\n",
       "      <th>T-test</th>\n",
       "      <td>1.218473</td>\n",
       "      <td>61.22414</td>\n",
       "      <td>two-sided</td>\n",
       "      <td>0.227719</td>\n",
       "      <td>[-0.1, 0.42]</td>\n",
       "      <td>0.275322</td>\n",
       "      <td>0.443</td>\n",
       "      <td>0.22797</td>\n",
       "    </tr>\n",
       "  </tbody>\n",
       "</table>\n",
       "</div>"
      ],
      "text/plain": [
       "               T       dof alternative     p-val         CI95%   cohen-d  \\\n",
       "T-test  1.218473  61.22414   two-sided  0.227719  [-0.1, 0.42]  0.275322   \n",
       "\n",
       "         BF10    power  \n",
       "T-test  0.443  0.22797  "
      ]
     },
     "execution_count": 35,
     "metadata": {},
     "output_type": "execute_result"
    },
    {
     "data": {
      "image/png": "[encoded data removed]",
      "text/plain": [
       "<Figure size 640x480 with 1 Axes>"
      ]
     },
     "metadata": {},
     "output_type": "display_data"
    }
   ],
   "source": [
    "mask_left = rdf['response_type'] == -1\n",
    "df_left = rdf[mask_left]\n",
    "sns.kdeplot(df_left['pupil_y'], label = 'left')\n",
    "mask_right = rdf['response_type'] == 1\n",
    "df_right = rdf[mask_right]\n",
    "sns.kdeplot(df_right['pupil_y'], label = 'right')\n",
    "plt.legend()\n",
    "pg.ttest(df_left['pupil_y'], df_right['pupil_y'], paired = False)"
   ]
  },
  {
   "cell_type": "markdown",
   "id": "e7ec7428-b083-4b2d-b8b9-304c72cca984",
   "metadata": {},
   "source": [
    "## Working with Long DataFrames"
   ]
  },
  {
   "cell_type": "markdown",
   "id": "3c5c7fd1",
   "metadata": {},
   "source": [
    "If data is organized as a long dataframe, it is also possible to have `pingouin` simply do all the comparisons between the groups.  Not only is this very convenient; it also makes it possible for pingouin to do richer analyses.\n",
    "\n",
    "| Test, | Function | \n",
    "| :--- | :--- |\n",
    "| Melt | `pd.melt()` |\n",
    "| ANOVA | `pg.anova(data=dfl, dv='value', between=['variable'], detailed=True, )` |\n",
    "| ANCOVA | `pg.ancova(dfl, dv='value', between=['variable'], covar=['index'], )` |\n",
    "| Pairwise T-tests | `pg.pairwise_tests(data=dfl, dv='value', between='variable', subject='index', padjust='fdr')`  |  "
   ]
  },
  {
   "cell_type": "markdown",
   "id": "8e111182-c253-4eab-90c4-ffb6707f4853",
   "metadata": {},
   "source": [
    "**Exercises**"
   ]
  },
  {
   "cell_type": "markdown",
   "id": "11b50384-3eb8-41a0-96b0-94ec0d8ccf66",
   "metadata": {},
   "source": [
    "Use the `dfl` long dataframe below:"
   ]
  },
  {
   "cell_type": "code",
   "execution_count": 82,
   "id": "e5d4df20",
   "metadata": {
    "tags": [
     "exercise"
    ]
   },
   "outputs": [
    {
     "data": {
      "text/html": [
       "<div>\n",
       "<style scoped>\n",
       "    .dataframe tbody tr th:only-of-type {\n",
       "        vertical-align: middle;\n",
       "    }\n",
       "\n",
       "    .dataframe tbody tr th {\n",
       "        vertical-align: top;\n",
       "    }\n",
       "\n",
       "    .dataframe thead th {\n",
       "        text-align: right;\n",
       "    }\n",
       "</style>\n",
       "<table border=\"1\" class=\"dataframe\">\n",
       "  <thead>\n",
       "    <tr style=\"text-align: right;\">\n",
       "      <th></th>\n",
       "      <th>index</th>\n",
       "      <th>variable</th>\n",
       "      <th>value</th>\n",
       "    </tr>\n",
       "  </thead>\n",
       "  <tbody>\n",
       "    <tr>\n",
       "      <th>14</th>\n",
       "      <td>14</td>\n",
       "      <td>A</td>\n",
       "      <td>0.539840</td>\n",
       "    </tr>\n",
       "    <tr>\n",
       "      <th>8</th>\n",
       "      <td>8</td>\n",
       "      <td>A</td>\n",
       "      <td>0.148675</td>\n",
       "    </tr>\n",
       "    <tr>\n",
       "      <th>12</th>\n",
       "      <td>12</td>\n",
       "      <td>A</td>\n",
       "      <td>-1.818812</td>\n",
       "    </tr>\n",
       "    <tr>\n",
       "      <th>26</th>\n",
       "      <td>6</td>\n",
       "      <td>B</td>\n",
       "      <td>-1.012560</td>\n",
       "    </tr>\n",
       "    <tr>\n",
       "      <th>17</th>\n",
       "      <td>17</td>\n",
       "      <td>A</td>\n",
       "      <td>-0.473448</td>\n",
       "    </tr>\n",
       "  </tbody>\n",
       "</table>\n",
       "</div>"
      ],
      "text/plain": [
       "    index variable     value\n",
       "14     14        A  0.539840\n",
       "8       8        A  0.148675\n",
       "12     12        A -1.818812\n",
       "26      6        B -1.012560\n",
       "17     17        A -0.473448"
      ]
     },
     "execution_count": 82,
     "metadata": {},
     "output_type": "execute_result"
    }
   ],
   "source": [
    "dfl = df.melt(ignore_index=False).reset_index()\n",
    "dfl.sample(5)"
   ]
  },
  {
   "cell_type": "markdown",
   "id": "374fed27-98aa-4460-aacc-cf02870e5116",
   "metadata": {},
   "source": [
    "**Example**: Before doing pairwise tests, it's often helpful to run an ANOVA analysis, which can tell you quickly whether a pairwise difference exists within a collection of potential pairs.  Below, run an ANOVA test comparing the dv 'value' between values of 'variable' to see if a significant difference is expected."
   ]
  },
  {
   "cell_type": "code",
   "execution_count": 37,
   "id": "fb58b047-6925-42c4-88bf-4ada5f0ecc65",
   "metadata": {
    "tags": [
     "exercise"
    ]
   },
   "outputs": [
    {
     "data": {
      "text/html": [
       "<div>\n",
       "<style scoped>\n",
       "    .dataframe tbody tr th:only-of-type {\n",
       "        vertical-align: middle;\n",
       "    }\n",
       "\n",
       "    .dataframe tbody tr th {\n",
       "        vertical-align: top;\n",
       "    }\n",
       "\n",
       "    .dataframe thead th {\n",
       "        text-align: right;\n",
       "    }\n",
       "</style>\n",
       "<table border=\"1\" class=\"dataframe\">\n",
       "  <thead>\n",
       "    <tr style=\"text-align: right;\">\n",
       "      <th></th>\n",
       "      <th>Source</th>\n",
       "      <th>SS</th>\n",
       "      <th>DF</th>\n",
       "      <th>MS</th>\n",
       "      <th>F</th>\n",
       "      <th>p-unc</th>\n",
       "      <th>np2</th>\n",
       "    </tr>\n",
       "  </thead>\n",
       "  <tbody>\n",
       "    <tr>\n",
       "      <th>0</th>\n",
       "      <td>variable</td>\n",
       "      <td>7.259916</td>\n",
       "      <td>3</td>\n",
       "      <td>2.419972</td>\n",
       "      <td>2.851046</td>\n",
       "      <td>0.042862</td>\n",
       "      <td>0.101157</td>\n",
       "    </tr>\n",
       "    <tr>\n",
       "      <th>1</th>\n",
       "      <td>Within</td>\n",
       "      <td>64.508906</td>\n",
       "      <td>76</td>\n",
       "      <td>0.848801</td>\n",
       "      <td>NaN</td>\n",
       "      <td>NaN</td>\n",
       "      <td>NaN</td>\n",
       "    </tr>\n",
       "  </tbody>\n",
       "</table>\n",
       "</div>"
      ],
      "text/plain": [
       "     Source         SS  DF        MS         F     p-unc       np2\n",
       "0  variable   7.259916   3  2.419972  2.851046  0.042862  0.101157\n",
       "1    Within  64.508906  76  0.848801       NaN       NaN       NaN"
      ]
     },
     "execution_count": 37,
     "metadata": {},
     "output_type": "execute_result"
    }
   ],
   "source": [
    "pg.anova(dfl, dv='value', between=['variable'], detailed=True, )"
   ]
  },
  {
   "cell_type": "markdown",
   "id": "3acbacf4",
   "metadata": {},
   "source": [
    "Do a t-tests for every possible pairwise comparison of \"variable\" (e.g. \"A\" vs \"B\", \"A\" vs \"C\", etc).  (Tip: it works similar to the `pg.anova` function)"
   ]
  },
  {
   "cell_type": "code",
   "execution_count": 38,
   "id": "5cea7477",
   "metadata": {
    "tags": [
     "exercise"
    ]
   },
   "outputs": [
    {
     "data": {
      "text/html": [
       "<div>\n",
       "<style scoped>\n",
       "    .dataframe tbody tr th:only-of-type {\n",
       "        vertical-align: middle;\n",
       "    }\n",
       "\n",
       "    .dataframe tbody tr th {\n",
       "        vertical-align: top;\n",
       "    }\n",
       "\n",
       "    .dataframe thead th {\n",
       "        text-align: right;\n",
       "    }\n",
       "</style>\n",
       "<table border=\"1\" class=\"dataframe\">\n",
       "  <thead>\n",
       "    <tr style=\"text-align: right;\">\n",
       "      <th></th>\n",
       "      <th>Contrast</th>\n",
       "      <th>A</th>\n",
       "      <th>B</th>\n",
       "      <th>Paired</th>\n",
       "      <th>Parametric</th>\n",
       "      <th>T</th>\n",
       "      <th>dof</th>\n",
       "      <th>alternative</th>\n",
       "      <th>p-unc</th>\n",
       "      <th>BF10</th>\n",
       "      <th>hedges</th>\n",
       "    </tr>\n",
       "  </thead>\n",
       "  <tbody>\n",
       "    <tr>\n",
       "      <th>0</th>\n",
       "      <td>variable</td>\n",
       "      <td>A</td>\n",
       "      <td>B</td>\n",
       "      <td>False</td>\n",
       "      <td>True</td>\n",
       "      <td>-0.137189</td>\n",
       "      <td>38.0</td>\n",
       "      <td>two-sided</td>\n",
       "      <td>0.891606</td>\n",
       "      <td>0.311</td>\n",
       "      <td>-0.042521</td>\n",
       "    </tr>\n",
       "    <tr>\n",
       "      <th>1</th>\n",
       "      <td>variable</td>\n",
       "      <td>A</td>\n",
       "      <td>C</td>\n",
       "      <td>False</td>\n",
       "      <td>True</td>\n",
       "      <td>-1.978874</td>\n",
       "      <td>38.0</td>\n",
       "      <td>two-sided</td>\n",
       "      <td>0.055111</td>\n",
       "      <td>1.409</td>\n",
       "      <td>-0.613342</td>\n",
       "    </tr>\n",
       "    <tr>\n",
       "      <th>2</th>\n",
       "      <td>variable</td>\n",
       "      <td>A</td>\n",
       "      <td>D</td>\n",
       "      <td>False</td>\n",
       "      <td>True</td>\n",
       "      <td>0.068052</td>\n",
       "      <td>38.0</td>\n",
       "      <td>two-sided</td>\n",
       "      <td>0.946101</td>\n",
       "      <td>0.309</td>\n",
       "      <td>0.021092</td>\n",
       "    </tr>\n",
       "    <tr>\n",
       "      <th>3</th>\n",
       "      <td>variable</td>\n",
       "      <td>B</td>\n",
       "      <td>C</td>\n",
       "      <td>False</td>\n",
       "      <td>True</td>\n",
       "      <td>-2.139828</td>\n",
       "      <td>38.0</td>\n",
       "      <td>two-sided</td>\n",
       "      <td>0.038851</td>\n",
       "      <td>1.806</td>\n",
       "      <td>-0.663229</td>\n",
       "    </tr>\n",
       "    <tr>\n",
       "      <th>4</th>\n",
       "      <td>variable</td>\n",
       "      <td>B</td>\n",
       "      <td>D</td>\n",
       "      <td>False</td>\n",
       "      <td>True</td>\n",
       "      <td>0.302159</td>\n",
       "      <td>38.0</td>\n",
       "      <td>two-sided</td>\n",
       "      <td>0.764179</td>\n",
       "      <td>0.32</td>\n",
       "      <td>0.093653</td>\n",
       "    </tr>\n",
       "    <tr>\n",
       "      <th>5</th>\n",
       "      <td>variable</td>\n",
       "      <td>C</td>\n",
       "      <td>D</td>\n",
       "      <td>False</td>\n",
       "      <td>True</td>\n",
       "      <td>2.845162</td>\n",
       "      <td>38.0</td>\n",
       "      <td>two-sided</td>\n",
       "      <td>0.007113</td>\n",
       "      <td>6.461</td>\n",
       "      <td>0.881844</td>\n",
       "    </tr>\n",
       "  </tbody>\n",
       "</table>\n",
       "</div>"
      ],
      "text/plain": [
       "   Contrast  A  B  Paired  Parametric         T   dof alternative     p-unc  \\\n",
       "0  variable  A  B   False        True -0.137189  38.0   two-sided  0.891606   \n",
       "1  variable  A  C   False        True -1.978874  38.0   two-sided  0.055111   \n",
       "2  variable  A  D   False        True  0.068052  38.0   two-sided  0.946101   \n",
       "3  variable  B  C   False        True -2.139828  38.0   two-sided  0.038851   \n",
       "4  variable  B  D   False        True  0.302159  38.0   two-sided  0.764179   \n",
       "5  variable  C  D   False        True  2.845162  38.0   two-sided  0.007113   \n",
       "\n",
       "    BF10    hedges  \n",
       "0  0.311 -0.042521  \n",
       "1  1.409 -0.613342  \n",
       "2  0.309  0.021092  \n",
       "3  1.806 -0.663229  \n",
       "4   0.32  0.093653  \n",
       "5  6.461  0.881844  "
      ]
     },
     "execution_count": 38,
     "metadata": {},
     "output_type": "execute_result"
    }
   ],
   "source": [
    "pg.pairwise_tests(dfl, dv = 'value', between = ['variable'])"
   ]
  },
  {
   "cell_type": "markdown",
   "id": "ea566c5d-0f2a-4829-8b78-cbd687f5fccd",
   "metadata": {},
   "source": [
    "Repeat the tests, but his time, adjust the p-value to compensate for multiple comparisons using the 'fdr' method.  Are the significant differences still significant?  How do the corrected p-values compare to the uncorrected p-values?"
   ]
  },
  {
   "cell_type": "code",
   "execution_count": 39,
   "id": "c5033a36-b7b7-4f3a-90fa-9fadbdbe558d",
   "metadata": {
    "tags": [
     "exercise"
    ]
   },
   "outputs": [
    {
     "data": {
      "text/html": [
       "<div>\n",
       "<style scoped>\n",
       "    .dataframe tbody tr th:only-of-type {\n",
       "        vertical-align: middle;\n",
       "    }\n",
       "\n",
       "    .dataframe tbody tr th {\n",
       "        vertical-align: top;\n",
       "    }\n",
       "\n",
       "    .dataframe thead th {\n",
       "        text-align: right;\n",
       "    }\n",
       "</style>\n",
       "<table border=\"1\" class=\"dataframe\">\n",
       "  <thead>\n",
       "    <tr style=\"text-align: right;\">\n",
       "      <th></th>\n",
       "      <th>Contrast</th>\n",
       "      <th>A</th>\n",
       "      <th>B</th>\n",
       "      <th>Paired</th>\n",
       "      <th>Parametric</th>\n",
       "      <th>T</th>\n",
       "      <th>dof</th>\n",
       "      <th>alternative</th>\n",
       "      <th>p-unc</th>\n",
       "      <th>p-corr</th>\n",
       "      <th>p-adjust</th>\n",
       "      <th>BF10</th>\n",
       "      <th>hedges</th>\n",
       "    </tr>\n",
       "  </thead>\n",
       "  <tbody>\n",
       "    <tr>\n",
       "      <th>0</th>\n",
       "      <td>variable</td>\n",
       "      <td>A</td>\n",
       "      <td>B</td>\n",
       "      <td>False</td>\n",
       "      <td>True</td>\n",
       "      <td>-0.137189</td>\n",
       "      <td>38.0</td>\n",
       "      <td>two-sided</td>\n",
       "      <td>0.891606</td>\n",
       "      <td>0.946101</td>\n",
       "      <td>fdr_bh</td>\n",
       "      <td>0.311</td>\n",
       "      <td>-0.042521</td>\n",
       "    </tr>\n",
       "    <tr>\n",
       "      <th>1</th>\n",
       "      <td>variable</td>\n",
       "      <td>A</td>\n",
       "      <td>C</td>\n",
       "      <td>False</td>\n",
       "      <td>True</td>\n",
       "      <td>-1.978874</td>\n",
       "      <td>38.0</td>\n",
       "      <td>two-sided</td>\n",
       "      <td>0.055111</td>\n",
       "      <td>0.110222</td>\n",
       "      <td>fdr_bh</td>\n",
       "      <td>1.409</td>\n",
       "      <td>-0.613342</td>\n",
       "    </tr>\n",
       "    <tr>\n",
       "      <th>2</th>\n",
       "      <td>variable</td>\n",
       "      <td>A</td>\n",
       "      <td>D</td>\n",
       "      <td>False</td>\n",
       "      <td>True</td>\n",
       "      <td>0.068052</td>\n",
       "      <td>38.0</td>\n",
       "      <td>two-sided</td>\n",
       "      <td>0.946101</td>\n",
       "      <td>0.946101</td>\n",
       "      <td>fdr_bh</td>\n",
       "      <td>0.309</td>\n",
       "      <td>0.021092</td>\n",
       "    </tr>\n",
       "    <tr>\n",
       "      <th>3</th>\n",
       "      <td>variable</td>\n",
       "      <td>B</td>\n",
       "      <td>C</td>\n",
       "      <td>False</td>\n",
       "      <td>True</td>\n",
       "      <td>-2.139828</td>\n",
       "      <td>38.0</td>\n",
       "      <td>two-sided</td>\n",
       "      <td>0.038851</td>\n",
       "      <td>0.110222</td>\n",
       "      <td>fdr_bh</td>\n",
       "      <td>1.806</td>\n",
       "      <td>-0.663229</td>\n",
       "    </tr>\n",
       "    <tr>\n",
       "      <th>4</th>\n",
       "      <td>variable</td>\n",
       "      <td>B</td>\n",
       "      <td>D</td>\n",
       "      <td>False</td>\n",
       "      <td>True</td>\n",
       "      <td>0.302159</td>\n",
       "      <td>38.0</td>\n",
       "      <td>two-sided</td>\n",
       "      <td>0.764179</td>\n",
       "      <td>0.946101</td>\n",
       "      <td>fdr_bh</td>\n",
       "      <td>0.32</td>\n",
       "      <td>0.093653</td>\n",
       "    </tr>\n",
       "    <tr>\n",
       "      <th>5</th>\n",
       "      <td>variable</td>\n",
       "      <td>C</td>\n",
       "      <td>D</td>\n",
       "      <td>False</td>\n",
       "      <td>True</td>\n",
       "      <td>2.845162</td>\n",
       "      <td>38.0</td>\n",
       "      <td>two-sided</td>\n",
       "      <td>0.007113</td>\n",
       "      <td>0.042681</td>\n",
       "      <td>fdr_bh</td>\n",
       "      <td>6.461</td>\n",
       "      <td>0.881844</td>\n",
       "    </tr>\n",
       "  </tbody>\n",
       "</table>\n",
       "</div>"
      ],
      "text/plain": [
       "   Contrast  A  B  Paired  Parametric         T   dof alternative     p-unc  \\\n",
       "0  variable  A  B   False        True -0.137189  38.0   two-sided  0.891606   \n",
       "1  variable  A  C   False        True -1.978874  38.0   two-sided  0.055111   \n",
       "2  variable  A  D   False        True  0.068052  38.0   two-sided  0.946101   \n",
       "3  variable  B  C   False        True -2.139828  38.0   two-sided  0.038851   \n",
       "4  variable  B  D   False        True  0.302159  38.0   two-sided  0.764179   \n",
       "5  variable  C  D   False        True  2.845162  38.0   two-sided  0.007113   \n",
       "\n",
       "     p-corr p-adjust   BF10    hedges  \n",
       "0  0.946101   fdr_bh  0.311 -0.042521  \n",
       "1  0.110222   fdr_bh  1.409 -0.613342  \n",
       "2  0.946101   fdr_bh  0.309  0.021092  \n",
       "3  0.110222   fdr_bh  1.806 -0.663229  \n",
       "4  0.946101   fdr_bh   0.32  0.093653  \n",
       "5  0.042681   fdr_bh  6.461  0.881844  "
      ]
     },
     "execution_count": 39,
     "metadata": {},
     "output_type": "execute_result"
    }
   ],
   "source": [
    "pg.pairwise_tests(dfl, dv = 'value', between = ['variable'], padjust = 'fdr_bh')"
   ]
  },
  {
   "cell_type": "markdown",
   "id": "d27a3b1f-3eeb-4cf1-a1d2-fbd4a77683f1",
   "metadata": {},
   "source": [
    "Do a pairwise test again on the long dataframe, comparing the value of 'value' between each value 'variable'.  This time, use a non-parametric comparison (not assuming a normal distribution of each variable), and still adjust for multiple comparisons.  Are your results the same?"
   ]
  },
  {
   "cell_type": "code",
   "execution_count": 40,
   "id": "325873ad-f030-4e90-81b3-0c60f16c1ec1",
   "metadata": {
    "tags": [
     "exercise"
    ]
   },
   "outputs": [
    {
     "data": {
      "text/html": [
       "<div>\n",
       "<style scoped>\n",
       "    .dataframe tbody tr th:only-of-type {\n",
       "        vertical-align: middle;\n",
       "    }\n",
       "\n",
       "    .dataframe tbody tr th {\n",
       "        vertical-align: top;\n",
       "    }\n",
       "\n",
       "    .dataframe thead th {\n",
       "        text-align: right;\n",
       "    }\n",
       "</style>\n",
       "<table border=\"1\" class=\"dataframe\">\n",
       "  <thead>\n",
       "    <tr style=\"text-align: right;\">\n",
       "      <th></th>\n",
       "      <th>Contrast</th>\n",
       "      <th>A</th>\n",
       "      <th>B</th>\n",
       "      <th>Paired</th>\n",
       "      <th>Parametric</th>\n",
       "      <th>U-val</th>\n",
       "      <th>alternative</th>\n",
       "      <th>p-unc</th>\n",
       "      <th>p-corr</th>\n",
       "      <th>p-adjust</th>\n",
       "      <th>hedges</th>\n",
       "    </tr>\n",
       "  </thead>\n",
       "  <tbody>\n",
       "    <tr>\n",
       "      <th>0</th>\n",
       "      <td>variable</td>\n",
       "      <td>A</td>\n",
       "      <td>B</td>\n",
       "      <td>False</td>\n",
       "      <td>False</td>\n",
       "      <td>192.0</td>\n",
       "      <td>two-sided</td>\n",
       "      <td>0.839232</td>\n",
       "      <td>0.967635</td>\n",
       "      <td>fdr_bh</td>\n",
       "      <td>-0.042521</td>\n",
       "    </tr>\n",
       "    <tr>\n",
       "      <th>1</th>\n",
       "      <td>variable</td>\n",
       "      <td>A</td>\n",
       "      <td>C</td>\n",
       "      <td>False</td>\n",
       "      <td>False</td>\n",
       "      <td>136.0</td>\n",
       "      <td>two-sided</td>\n",
       "      <td>0.085855</td>\n",
       "      <td>0.171710</td>\n",
       "      <td>fdr_bh</td>\n",
       "      <td>-0.613342</td>\n",
       "    </tr>\n",
       "    <tr>\n",
       "      <th>2</th>\n",
       "      <td>variable</td>\n",
       "      <td>A</td>\n",
       "      <td>D</td>\n",
       "      <td>False</td>\n",
       "      <td>False</td>\n",
       "      <td>202.0</td>\n",
       "      <td>two-sided</td>\n",
       "      <td>0.967635</td>\n",
       "      <td>0.967635</td>\n",
       "      <td>fdr_bh</td>\n",
       "      <td>0.021092</td>\n",
       "    </tr>\n",
       "    <tr>\n",
       "      <th>3</th>\n",
       "      <td>variable</td>\n",
       "      <td>B</td>\n",
       "      <td>C</td>\n",
       "      <td>False</td>\n",
       "      <td>False</td>\n",
       "      <td>132.0</td>\n",
       "      <td>two-sided</td>\n",
       "      <td>0.067868</td>\n",
       "      <td>0.171710</td>\n",
       "      <td>fdr_bh</td>\n",
       "      <td>-0.663229</td>\n",
       "    </tr>\n",
       "    <tr>\n",
       "      <th>4</th>\n",
       "      <td>variable</td>\n",
       "      <td>B</td>\n",
       "      <td>D</td>\n",
       "      <td>False</td>\n",
       "      <td>False</td>\n",
       "      <td>232.0</td>\n",
       "      <td>two-sided</td>\n",
       "      <td>0.394171</td>\n",
       "      <td>0.591256</td>\n",
       "      <td>fdr_bh</td>\n",
       "      <td>0.093653</td>\n",
       "    </tr>\n",
       "    <tr>\n",
       "      <th>5</th>\n",
       "      <td>variable</td>\n",
       "      <td>C</td>\n",
       "      <td>D</td>\n",
       "      <td>False</td>\n",
       "      <td>False</td>\n",
       "      <td>273.0</td>\n",
       "      <td>two-sided</td>\n",
       "      <td>0.049864</td>\n",
       "      <td>0.171710</td>\n",
       "      <td>fdr_bh</td>\n",
       "      <td>0.881844</td>\n",
       "    </tr>\n",
       "  </tbody>\n",
       "</table>\n",
       "</div>"
      ],
      "text/plain": [
       "   Contrast  A  B  Paired  Parametric  U-val alternative     p-unc    p-corr  \\\n",
       "0  variable  A  B   False       False  192.0   two-sided  0.839232  0.967635   \n",
       "1  variable  A  C   False       False  136.0   two-sided  0.085855  0.171710   \n",
       "2  variable  A  D   False       False  202.0   two-sided  0.967635  0.967635   \n",
       "3  variable  B  C   False       False  132.0   two-sided  0.067868  0.171710   \n",
       "4  variable  B  D   False       False  232.0   two-sided  0.394171  0.591256   \n",
       "5  variable  C  D   False       False  273.0   two-sided  0.049864  0.171710   \n",
       "\n",
       "  p-adjust    hedges  \n",
       "0   fdr_bh -0.042521  \n",
       "1   fdr_bh -0.613342  \n",
       "2   fdr_bh  0.021092  \n",
       "3   fdr_bh -0.663229  \n",
       "4   fdr_bh  0.093653  \n",
       "5   fdr_bh  0.881844  "
      ]
     },
     "execution_count": 40,
     "metadata": {},
     "output_type": "execute_result"
    }
   ],
   "source": [
    "pg.pairwise_tests(dfl, dv = 'value', between = ['variable'], padjust = 'fdr_bh', parametric = False)"
   ]
  },
  {
   "cell_type": "code",
   "execution_count": 41,
   "id": "40d095c8",
   "metadata": {},
   "outputs": [
    {
     "data": {
      "text/html": [
       "<div>\n",
       "<style scoped>\n",
       "    .dataframe tbody tr th:only-of-type {\n",
       "        vertical-align: middle;\n",
       "    }\n",
       "\n",
       "    .dataframe tbody tr th {\n",
       "        vertical-align: top;\n",
       "    }\n",
       "\n",
       "    .dataframe thead th {\n",
       "        text-align: right;\n",
       "    }\n",
       "</style>\n",
       "<table border=\"1\" class=\"dataframe\">\n",
       "  <thead>\n",
       "    <tr style=\"text-align: right;\">\n",
       "      <th></th>\n",
       "      <th>index</th>\n",
       "      <th>variable</th>\n",
       "      <th>value</th>\n",
       "    </tr>\n",
       "  </thead>\n",
       "  <tbody>\n",
       "    <tr>\n",
       "      <th>0</th>\n",
       "      <td>0</td>\n",
       "      <td>A</td>\n",
       "      <td>0.276266</td>\n",
       "    </tr>\n",
       "    <tr>\n",
       "      <th>1</th>\n",
       "      <td>1</td>\n",
       "      <td>A</td>\n",
       "      <td>-1.854628</td>\n",
       "    </tr>\n",
       "    <tr>\n",
       "      <th>2</th>\n",
       "      <td>2</td>\n",
       "      <td>A</td>\n",
       "      <td>0.623901</td>\n",
       "    </tr>\n",
       "    <tr>\n",
       "      <th>3</th>\n",
       "      <td>3</td>\n",
       "      <td>A</td>\n",
       "      <td>1.145311</td>\n",
       "    </tr>\n",
       "    <tr>\n",
       "      <th>4</th>\n",
       "      <td>4</td>\n",
       "      <td>A</td>\n",
       "      <td>1.037190</td>\n",
       "    </tr>\n",
       "    <tr>\n",
       "      <th>...</th>\n",
       "      <td>...</td>\n",
       "      <td>...</td>\n",
       "      <td>...</td>\n",
       "    </tr>\n",
       "    <tr>\n",
       "      <th>75</th>\n",
       "      <td>15</td>\n",
       "      <td>D</td>\n",
       "      <td>-0.365784</td>\n",
       "    </tr>\n",
       "    <tr>\n",
       "      <th>76</th>\n",
       "      <td>16</td>\n",
       "      <td>D</td>\n",
       "      <td>0.232169</td>\n",
       "    </tr>\n",
       "    <tr>\n",
       "      <th>77</th>\n",
       "      <td>17</td>\n",
       "      <td>D</td>\n",
       "      <td>0.315291</td>\n",
       "    </tr>\n",
       "    <tr>\n",
       "      <th>78</th>\n",
       "      <td>18</td>\n",
       "      <td>D</td>\n",
       "      <td>0.034847</td>\n",
       "    </tr>\n",
       "    <tr>\n",
       "      <th>79</th>\n",
       "      <td>19</td>\n",
       "      <td>D</td>\n",
       "      <td>-0.059625</td>\n",
       "    </tr>\n",
       "  </tbody>\n",
       "</table>\n",
       "<p>80 rows × 3 columns</p>\n",
       "</div>"
      ],
      "text/plain": [
       "    index variable     value\n",
       "0       0        A  0.276266\n",
       "1       1        A -1.854628\n",
       "2       2        A  0.623901\n",
       "3       3        A  1.145311\n",
       "4       4        A  1.037190\n",
       "..    ...      ...       ...\n",
       "75     15        D -0.365784\n",
       "76     16        D  0.232169\n",
       "77     17        D  0.315291\n",
       "78     18        D  0.034847\n",
       "79     19        D -0.059625\n",
       "\n",
       "[80 rows x 3 columns]"
      ]
     },
     "execution_count": 41,
     "metadata": {},
     "output_type": "execute_result"
    }
   ],
   "source": [
    "dfl"
   ]
  },
  {
   "cell_type": "markdown",
   "id": "ccc79cc6",
   "metadata": {},
   "source": [
    "Use the `rdf` dataframe from the pupil measurement data.  Is there a significant different in average horizontal position, when comparing all the `contrast_diff` levels in the study pairwise?"
   ]
  },
  {
   "cell_type": "code",
   "execution_count": 81,
   "id": "0e4d0e28",
   "metadata": {},
   "outputs": [
    {
     "data": {
      "text/html": [
       "<div>\n",
       "<style scoped>\n",
       "    .dataframe tbody tr th:only-of-type {\n",
       "        vertical-align: middle;\n",
       "    }\n",
       "\n",
       "    .dataframe tbody tr th {\n",
       "        vertical-align: top;\n",
       "    }\n",
       "\n",
       "    .dataframe thead th {\n",
       "        text-align: right;\n",
       "    }\n",
       "</style>\n",
       "<table border=\"1\" class=\"dataframe\">\n",
       "  <thead>\n",
       "    <tr style=\"text-align: right;\">\n",
       "      <th></th>\n",
       "      <th>Contrast</th>\n",
       "      <th>A</th>\n",
       "      <th>B</th>\n",
       "      <th>Paired</th>\n",
       "      <th>Parametric</th>\n",
       "      <th>U-val</th>\n",
       "      <th>alternative</th>\n",
       "      <th>p-unc</th>\n",
       "      <th>p-corr</th>\n",
       "      <th>p-adjust</th>\n",
       "      <th>hedges</th>\n",
       "    </tr>\n",
       "  </thead>\n",
       "  <tbody>\n",
       "    <tr>\n",
       "      <th>0</th>\n",
       "      <td>contrast_diff</td>\n",
       "      <td>-100.0</td>\n",
       "      <td>-75.0</td>\n",
       "      <td>False</td>\n",
       "      <td>False</td>\n",
       "      <td>39.0</td>\n",
       "      <td>two-sided</td>\n",
       "      <td>0.841125</td>\n",
       "      <td>1.000000</td>\n",
       "      <td>fdr_bh</td>\n",
       "      <td>0.003482</td>\n",
       "    </tr>\n",
       "    <tr>\n",
       "      <th>1</th>\n",
       "      <td>contrast_diff</td>\n",
       "      <td>-100.0</td>\n",
       "      <td>-50.0</td>\n",
       "      <td>False</td>\n",
       "      <td>False</td>\n",
       "      <td>168.0</td>\n",
       "      <td>two-sided</td>\n",
       "      <td>0.054208</td>\n",
       "      <td>0.252391</td>\n",
       "      <td>fdr_bh</td>\n",
       "      <td>0.707904</td>\n",
       "    </tr>\n",
       "    <tr>\n",
       "      <th>2</th>\n",
       "      <td>contrast_diff</td>\n",
       "      <td>-100.0</td>\n",
       "      <td>-25.0</td>\n",
       "      <td>False</td>\n",
       "      <td>False</td>\n",
       "      <td>18.0</td>\n",
       "      <td>two-sided</td>\n",
       "      <td>0.600000</td>\n",
       "      <td>0.964286</td>\n",
       "      <td>fdr_bh</td>\n",
       "      <td>0.399767</td>\n",
       "    </tr>\n",
       "    <tr>\n",
       "      <th>3</th>\n",
       "      <td>contrast_diff</td>\n",
       "      <td>-100.0</td>\n",
       "      <td>0.0</td>\n",
       "      <td>False</td>\n",
       "      <td>False</td>\n",
       "      <td>147.0</td>\n",
       "      <td>two-sided</td>\n",
       "      <td>0.070109</td>\n",
       "      <td>0.252391</td>\n",
       "      <td>fdr_bh</td>\n",
       "      <td>0.717534</td>\n",
       "    </tr>\n",
       "    <tr>\n",
       "      <th>4</th>\n",
       "      <td>contrast_diff</td>\n",
       "      <td>-100.0</td>\n",
       "      <td>25.0</td>\n",
       "      <td>False</td>\n",
       "      <td>False</td>\n",
       "      <td>42.0</td>\n",
       "      <td>two-sided</td>\n",
       "      <td>0.157516</td>\n",
       "      <td>0.472549</td>\n",
       "      <td>fdr_bh</td>\n",
       "      <td>0.644120</td>\n",
       "    </tr>\n",
       "    <tr>\n",
       "      <th>5</th>\n",
       "      <td>contrast_diff</td>\n",
       "      <td>-100.0</td>\n",
       "      <td>50.0</td>\n",
       "      <td>False</td>\n",
       "      <td>False</td>\n",
       "      <td>162.0</td>\n",
       "      <td>two-sided</td>\n",
       "      <td>0.003526</td>\n",
       "      <td>0.042318</td>\n",
       "      <td>fdr_bh</td>\n",
       "      <td>1.179199</td>\n",
       "    </tr>\n",
       "    <tr>\n",
       "      <th>6</th>\n",
       "      <td>contrast_diff</td>\n",
       "      <td>-100.0</td>\n",
       "      <td>75.0</td>\n",
       "      <td>False</td>\n",
       "      <td>False</td>\n",
       "      <td>40.0</td>\n",
       "      <td>two-sided</td>\n",
       "      <td>0.232680</td>\n",
       "      <td>0.598319</td>\n",
       "      <td>fdr_bh</td>\n",
       "      <td>0.645830</td>\n",
       "    </tr>\n",
       "    <tr>\n",
       "      <th>7</th>\n",
       "      <td>contrast_diff</td>\n",
       "      <td>-100.0</td>\n",
       "      <td>100.0</td>\n",
       "      <td>False</td>\n",
       "      <td>False</td>\n",
       "      <td>112.0</td>\n",
       "      <td>two-sided</td>\n",
       "      <td>0.015099</td>\n",
       "      <td>0.135893</td>\n",
       "      <td>fdr_bh</td>\n",
       "      <td>0.998026</td>\n",
       "    </tr>\n",
       "    <tr>\n",
       "      <th>8</th>\n",
       "      <td>contrast_diff</td>\n",
       "      <td>-75.0</td>\n",
       "      <td>-50.0</td>\n",
       "      <td>False</td>\n",
       "      <td>False</td>\n",
       "      <td>81.0</td>\n",
       "      <td>two-sided</td>\n",
       "      <td>0.036257</td>\n",
       "      <td>0.218709</td>\n",
       "      <td>fdr_bh</td>\n",
       "      <td>0.904273</td>\n",
       "    </tr>\n",
       "    <tr>\n",
       "      <th>9</th>\n",
       "      <td>contrast_diff</td>\n",
       "      <td>-75.0</td>\n",
       "      <td>-25.0</td>\n",
       "      <td>False</td>\n",
       "      <td>False</td>\n",
       "      <td>8.0</td>\n",
       "      <td>two-sided</td>\n",
       "      <td>0.642857</td>\n",
       "      <td>0.964286</td>\n",
       "      <td>fdr_bh</td>\n",
       "      <td>0.759261</td>\n",
       "    </tr>\n",
       "    <tr>\n",
       "      <th>10</th>\n",
       "      <td>contrast_diff</td>\n",
       "      <td>-75.0</td>\n",
       "      <td>0.0</td>\n",
       "      <td>False</td>\n",
       "      <td>False</td>\n",
       "      <td>72.0</td>\n",
       "      <td>two-sided</td>\n",
       "      <td>0.036451</td>\n",
       "      <td>0.218709</td>\n",
       "      <td>fdr_bh</td>\n",
       "      <td>1.122901</td>\n",
       "    </tr>\n",
       "    <tr>\n",
       "      <th>11</th>\n",
       "      <td>contrast_diff</td>\n",
       "      <td>-75.0</td>\n",
       "      <td>25.0</td>\n",
       "      <td>False</td>\n",
       "      <td>False</td>\n",
       "      <td>21.0</td>\n",
       "      <td>two-sided</td>\n",
       "      <td>0.066667</td>\n",
       "      <td>0.252391</td>\n",
       "      <td>fdr_bh</td>\n",
       "      <td>1.397436</td>\n",
       "    </tr>\n",
       "    <tr>\n",
       "      <th>12</th>\n",
       "      <td>contrast_diff</td>\n",
       "      <td>-75.0</td>\n",
       "      <td>50.0</td>\n",
       "      <td>False</td>\n",
       "      <td>False</td>\n",
       "      <td>76.0</td>\n",
       "      <td>two-sided</td>\n",
       "      <td>0.003302</td>\n",
       "      <td>0.042318</td>\n",
       "      <td>fdr_bh</td>\n",
       "      <td>1.577027</td>\n",
       "    </tr>\n",
       "    <tr>\n",
       "      <th>13</th>\n",
       "      <td>contrast_diff</td>\n",
       "      <td>-75.0</td>\n",
       "      <td>75.0</td>\n",
       "      <td>False</td>\n",
       "      <td>False</td>\n",
       "      <td>19.0</td>\n",
       "      <td>two-sided</td>\n",
       "      <td>0.171429</td>\n",
       "      <td>0.474725</td>\n",
       "      <td>fdr_bh</td>\n",
       "      <td>1.106513</td>\n",
       "    </tr>\n",
       "    <tr>\n",
       "      <th>14</th>\n",
       "      <td>contrast_diff</td>\n",
       "      <td>-75.0</td>\n",
       "      <td>100.0</td>\n",
       "      <td>False</td>\n",
       "      <td>False</td>\n",
       "      <td>56.0</td>\n",
       "      <td>two-sided</td>\n",
       "      <td>0.002997</td>\n",
       "      <td>0.042318</td>\n",
       "      <td>fdr_bh</td>\n",
       "      <td>1.534350</td>\n",
       "    </tr>\n",
       "    <tr>\n",
       "      <th>15</th>\n",
       "      <td>contrast_diff</td>\n",
       "      <td>-50.0</td>\n",
       "      <td>-25.0</td>\n",
       "      <td>False</td>\n",
       "      <td>False</td>\n",
       "      <td>15.0</td>\n",
       "      <td>two-sided</td>\n",
       "      <td>0.842105</td>\n",
       "      <td>1.000000</td>\n",
       "      <td>fdr_bh</td>\n",
       "      <td>-0.266070</td>\n",
       "    </tr>\n",
       "    <tr>\n",
       "      <th>16</th>\n",
       "      <td>contrast_diff</td>\n",
       "      <td>-50.0</td>\n",
       "      <td>0.0</td>\n",
       "      <td>False</td>\n",
       "      <td>False</td>\n",
       "      <td>124.0</td>\n",
       "      <td>two-sided</td>\n",
       "      <td>0.909802</td>\n",
       "      <td>1.000000</td>\n",
       "      <td>fdr_bh</td>\n",
       "      <td>-0.060808</td>\n",
       "    </tr>\n",
       "    <tr>\n",
       "      <th>17</th>\n",
       "      <td>contrast_diff</td>\n",
       "      <td>-50.0</td>\n",
       "      <td>25.0</td>\n",
       "      <td>False</td>\n",
       "      <td>False</td>\n",
       "      <td>34.0</td>\n",
       "      <td>two-sided</td>\n",
       "      <td>1.000000</td>\n",
       "      <td>1.000000</td>\n",
       "      <td>fdr_bh</td>\n",
       "      <td>-0.005404</td>\n",
       "    </tr>\n",
       "    <tr>\n",
       "      <th>18</th>\n",
       "      <td>contrast_diff</td>\n",
       "      <td>-50.0</td>\n",
       "      <td>50.0</td>\n",
       "      <td>False</td>\n",
       "      <td>False</td>\n",
       "      <td>163.0</td>\n",
       "      <td>two-sided</td>\n",
       "      <td>0.084222</td>\n",
       "      <td>0.275635</td>\n",
       "      <td>fdr_bh</td>\n",
       "      <td>0.568939</td>\n",
       "    </tr>\n",
       "    <tr>\n",
       "      <th>19</th>\n",
       "      <td>contrast_diff</td>\n",
       "      <td>-50.0</td>\n",
       "      <td>75.0</td>\n",
       "      <td>False</td>\n",
       "      <td>False</td>\n",
       "      <td>36.0</td>\n",
       "      <td>two-sided</td>\n",
       "      <td>0.897243</td>\n",
       "      <td>1.000000</td>\n",
       "      <td>fdr_bh</td>\n",
       "      <td>0.023733</td>\n",
       "    </tr>\n",
       "    <tr>\n",
       "      <th>20</th>\n",
       "      <td>contrast_diff</td>\n",
       "      <td>-50.0</td>\n",
       "      <td>100.0</td>\n",
       "      <td>False</td>\n",
       "      <td>False</td>\n",
       "      <td>101.0</td>\n",
       "      <td>two-sided</td>\n",
       "      <td>0.436422</td>\n",
       "      <td>0.785560</td>\n",
       "      <td>fdr_bh</td>\n",
       "      <td>0.368721</td>\n",
       "    </tr>\n",
       "    <tr>\n",
       "      <th>21</th>\n",
       "      <td>contrast_diff</td>\n",
       "      <td>-25.0</td>\n",
       "      <td>0.0</td>\n",
       "      <td>False</td>\n",
       "      <td>False</td>\n",
       "      <td>18.0</td>\n",
       "      <td>two-sided</td>\n",
       "      <td>0.720588</td>\n",
       "      <td>1.000000</td>\n",
       "      <td>fdr_bh</td>\n",
       "      <td>0.275528</td>\n",
       "    </tr>\n",
       "    <tr>\n",
       "      <th>22</th>\n",
       "      <td>contrast_diff</td>\n",
       "      <td>-25.0</td>\n",
       "      <td>25.0</td>\n",
       "      <td>False</td>\n",
       "      <td>False</td>\n",
       "      <td>5.0</td>\n",
       "      <td>two-sided</td>\n",
       "      <td>0.800000</td>\n",
       "      <td>1.000000</td>\n",
       "      <td>fdr_bh</td>\n",
       "      <td>0.258185</td>\n",
       "    </tr>\n",
       "    <tr>\n",
       "      <th>23</th>\n",
       "      <td>contrast_diff</td>\n",
       "      <td>-25.0</td>\n",
       "      <td>50.0</td>\n",
       "      <td>False</td>\n",
       "      <td>False</td>\n",
       "      <td>22.0</td>\n",
       "      <td>two-sided</td>\n",
       "      <td>0.266667</td>\n",
       "      <td>0.640000</td>\n",
       "      <td>fdr_bh</td>\n",
       "      <td>0.814132</td>\n",
       "    </tr>\n",
       "    <tr>\n",
       "      <th>24</th>\n",
       "      <td>contrast_diff</td>\n",
       "      <td>-25.0</td>\n",
       "      <td>75.0</td>\n",
       "      <td>False</td>\n",
       "      <td>False</td>\n",
       "      <td>4.0</td>\n",
       "      <td>two-sided</td>\n",
       "      <td>1.000000</td>\n",
       "      <td>1.000000</td>\n",
       "      <td>fdr_bh</td>\n",
       "      <td>0.228942</td>\n",
       "    </tr>\n",
       "    <tr>\n",
       "      <th>25</th>\n",
       "      <td>contrast_diff</td>\n",
       "      <td>-25.0</td>\n",
       "      <td>100.0</td>\n",
       "      <td>False</td>\n",
       "      <td>False</td>\n",
       "      <td>14.0</td>\n",
       "      <td>two-sided</td>\n",
       "      <td>0.484848</td>\n",
       "      <td>0.831169</td>\n",
       "      <td>fdr_bh</td>\n",
       "      <td>0.653006</td>\n",
       "    </tr>\n",
       "    <tr>\n",
       "      <th>26</th>\n",
       "      <td>contrast_diff</td>\n",
       "      <td>0.0</td>\n",
       "      <td>25.0</td>\n",
       "      <td>False</td>\n",
       "      <td>False</td>\n",
       "      <td>31.0</td>\n",
       "      <td>two-sided</td>\n",
       "      <td>0.961300</td>\n",
       "      <td>1.000000</td>\n",
       "      <td>fdr_bh</td>\n",
       "      <td>0.065340</td>\n",
       "    </tr>\n",
       "    <tr>\n",
       "      <th>27</th>\n",
       "      <td>contrast_diff</td>\n",
       "      <td>0.0</td>\n",
       "      <td>50.0</td>\n",
       "      <td>False</td>\n",
       "      <td>False</td>\n",
       "      <td>149.0</td>\n",
       "      <td>two-sided</td>\n",
       "      <td>0.057631</td>\n",
       "      <td>0.252391</td>\n",
       "      <td>fdr_bh</td>\n",
       "      <td>0.713574</td>\n",
       "    </tr>\n",
       "    <tr>\n",
       "      <th>28</th>\n",
       "      <td>contrast_diff</td>\n",
       "      <td>0.0</td>\n",
       "      <td>75.0</td>\n",
       "      <td>False</td>\n",
       "      <td>False</td>\n",
       "      <td>33.0</td>\n",
       "      <td>two-sided</td>\n",
       "      <td>0.809598</td>\n",
       "      <td>1.000000</td>\n",
       "      <td>fdr_bh</td>\n",
       "      <td>0.096288</td>\n",
       "    </tr>\n",
       "    <tr>\n",
       "      <th>29</th>\n",
       "      <td>contrast_diff</td>\n",
       "      <td>0.0</td>\n",
       "      <td>100.0</td>\n",
       "      <td>False</td>\n",
       "      <td>False</td>\n",
       "      <td>93.0</td>\n",
       "      <td>two-sided</td>\n",
       "      <td>0.331685</td>\n",
       "      <td>0.663370</td>\n",
       "      <td>fdr_bh</td>\n",
       "      <td>0.510201</td>\n",
       "    </tr>\n",
       "    <tr>\n",
       "      <th>30</th>\n",
       "      <td>contrast_diff</td>\n",
       "      <td>25.0</td>\n",
       "      <td>50.0</td>\n",
       "      <td>False</td>\n",
       "      <td>False</td>\n",
       "      <td>38.0</td>\n",
       "      <td>two-sided</td>\n",
       "      <td>0.327451</td>\n",
       "      <td>0.663370</td>\n",
       "      <td>fdr_bh</td>\n",
       "      <td>0.596998</td>\n",
       "    </tr>\n",
       "    <tr>\n",
       "      <th>31</th>\n",
       "      <td>contrast_diff</td>\n",
       "      <td>25.0</td>\n",
       "      <td>75.0</td>\n",
       "      <td>False</td>\n",
       "      <td>False</td>\n",
       "      <td>8.0</td>\n",
       "      <td>two-sided</td>\n",
       "      <td>1.000000</td>\n",
       "      <td>1.000000</td>\n",
       "      <td>fdr_bh</td>\n",
       "      <td>0.030278</td>\n",
       "    </tr>\n",
       "    <tr>\n",
       "      <th>32</th>\n",
       "      <td>contrast_diff</td>\n",
       "      <td>25.0</td>\n",
       "      <td>100.0</td>\n",
       "      <td>False</td>\n",
       "      <td>False</td>\n",
       "      <td>24.0</td>\n",
       "      <td>two-sided</td>\n",
       "      <td>0.635365</td>\n",
       "      <td>0.964286</td>\n",
       "      <td>fdr_bh</td>\n",
       "      <td>0.416863</td>\n",
       "    </tr>\n",
       "    <tr>\n",
       "      <th>33</th>\n",
       "      <td>contrast_diff</td>\n",
       "      <td>50.0</td>\n",
       "      <td>75.0</td>\n",
       "      <td>False</td>\n",
       "      <td>False</td>\n",
       "      <td>18.0</td>\n",
       "      <td>two-sided</td>\n",
       "      <td>0.327451</td>\n",
       "      <td>0.663370</td>\n",
       "      <td>fdr_bh</td>\n",
       "      <td>-0.535031</td>\n",
       "    </tr>\n",
       "    <tr>\n",
       "      <th>34</th>\n",
       "      <td>contrast_diff</td>\n",
       "      <td>50.0</td>\n",
       "      <td>100.0</td>\n",
       "      <td>False</td>\n",
       "      <td>False</td>\n",
       "      <td>55.0</td>\n",
       "      <td>two-sided</td>\n",
       "      <td>0.395863</td>\n",
       "      <td>0.750056</td>\n",
       "      <td>fdr_bh</td>\n",
       "      <td>-0.222583</td>\n",
       "    </tr>\n",
       "    <tr>\n",
       "      <th>35</th>\n",
       "      <td>contrast_diff</td>\n",
       "      <td>75.0</td>\n",
       "      <td>100.0</td>\n",
       "      <td>False</td>\n",
       "      <td>False</td>\n",
       "      <td>21.0</td>\n",
       "      <td>two-sided</td>\n",
       "      <td>0.945055</td>\n",
       "      <td>1.000000</td>\n",
       "      <td>fdr_bh</td>\n",
       "      <td>0.348996</td>\n",
       "    </tr>\n",
       "  </tbody>\n",
       "</table>\n",
       "</div>"
      ],
      "text/plain": [
       "         Contrast      A      B  Paired  Parametric  U-val alternative  \\\n",
       "0   contrast_diff -100.0  -75.0   False       False   39.0   two-sided   \n",
       "1   contrast_diff -100.0  -50.0   False       False  168.0   two-sided   \n",
       "2   contrast_diff -100.0  -25.0   False       False   18.0   two-sided   \n",
       "3   contrast_diff -100.0    0.0   False       False  147.0   two-sided   \n",
       "4   contrast_diff -100.0   25.0   False       False   42.0   two-sided   \n",
       "5   contrast_diff -100.0   50.0   False       False  162.0   two-sided   \n",
       "6   contrast_diff -100.0   75.0   False       False   40.0   two-sided   \n",
       "7   contrast_diff -100.0  100.0   False       False  112.0   two-sided   \n",
       "8   contrast_diff  -75.0  -50.0   False       False   81.0   two-sided   \n",
       "9   contrast_diff  -75.0  -25.0   False       False    8.0   two-sided   \n",
       "10  contrast_diff  -75.0    0.0   False       False   72.0   two-sided   \n",
       "11  contrast_diff  -75.0   25.0   False       False   21.0   two-sided   \n",
       "12  contrast_diff  -75.0   50.0   False       False   76.0   two-sided   \n",
       "13  contrast_diff  -75.0   75.0   False       False   19.0   two-sided   \n",
       "14  contrast_diff  -75.0  100.0   False       False   56.0   two-sided   \n",
       "15  contrast_diff  -50.0  -25.0   False       False   15.0   two-sided   \n",
       "16  contrast_diff  -50.0    0.0   False       False  124.0   two-sided   \n",
       "17  contrast_diff  -50.0   25.0   False       False   34.0   two-sided   \n",
       "18  contrast_diff  -50.0   50.0   False       False  163.0   two-sided   \n",
       "19  contrast_diff  -50.0   75.0   False       False   36.0   two-sided   \n",
       "20  contrast_diff  -50.0  100.0   False       False  101.0   two-sided   \n",
       "21  contrast_diff  -25.0    0.0   False       False   18.0   two-sided   \n",
       "22  contrast_diff  -25.0   25.0   False       False    5.0   two-sided   \n",
       "23  contrast_diff  -25.0   50.0   False       False   22.0   two-sided   \n",
       "24  contrast_diff  -25.0   75.0   False       False    4.0   two-sided   \n",
       "25  contrast_diff  -25.0  100.0   False       False   14.0   two-sided   \n",
       "26  contrast_diff    0.0   25.0   False       False   31.0   two-sided   \n",
       "27  contrast_diff    0.0   50.0   False       False  149.0   two-sided   \n",
       "28  contrast_diff    0.0   75.0   False       False   33.0   two-sided   \n",
       "29  contrast_diff    0.0  100.0   False       False   93.0   two-sided   \n",
       "30  contrast_diff   25.0   50.0   False       False   38.0   two-sided   \n",
       "31  contrast_diff   25.0   75.0   False       False    8.0   two-sided   \n",
       "32  contrast_diff   25.0  100.0   False       False   24.0   two-sided   \n",
       "33  contrast_diff   50.0   75.0   False       False   18.0   two-sided   \n",
       "34  contrast_diff   50.0  100.0   False       False   55.0   two-sided   \n",
       "35  contrast_diff   75.0  100.0   False       False   21.0   two-sided   \n",
       "\n",
       "       p-unc    p-corr p-adjust    hedges  \n",
       "0   0.841125  1.000000   fdr_bh  0.003482  \n",
       "1   0.054208  0.252391   fdr_bh  0.707904  \n",
       "2   0.600000  0.964286   fdr_bh  0.399767  \n",
       "3   0.070109  0.252391   fdr_bh  0.717534  \n",
       "4   0.157516  0.472549   fdr_bh  0.644120  \n",
       "5   0.003526  0.042318   fdr_bh  1.179199  \n",
       "6   0.232680  0.598319   fdr_bh  0.645830  \n",
       "7   0.015099  0.135893   fdr_bh  0.998026  \n",
       "8   0.036257  0.218709   fdr_bh  0.904273  \n",
       "9   0.642857  0.964286   fdr_bh  0.759261  \n",
       "10  0.036451  0.218709   fdr_bh  1.122901  \n",
       "11  0.066667  0.252391   fdr_bh  1.397436  \n",
       "12  0.003302  0.042318   fdr_bh  1.577027  \n",
       "13  0.171429  0.474725   fdr_bh  1.106513  \n",
       "14  0.002997  0.042318   fdr_bh  1.534350  \n",
       "15  0.842105  1.000000   fdr_bh -0.266070  \n",
       "16  0.909802  1.000000   fdr_bh -0.060808  \n",
       "17  1.000000  1.000000   fdr_bh -0.005404  \n",
       "18  0.084222  0.275635   fdr_bh  0.568939  \n",
       "19  0.897243  1.000000   fdr_bh  0.023733  \n",
       "20  0.436422  0.785560   fdr_bh  0.368721  \n",
       "21  0.720588  1.000000   fdr_bh  0.275528  \n",
       "22  0.800000  1.000000   fdr_bh  0.258185  \n",
       "23  0.266667  0.640000   fdr_bh  0.814132  \n",
       "24  1.000000  1.000000   fdr_bh  0.228942  \n",
       "25  0.484848  0.831169   fdr_bh  0.653006  \n",
       "26  0.961300  1.000000   fdr_bh  0.065340  \n",
       "27  0.057631  0.252391   fdr_bh  0.713574  \n",
       "28  0.809598  1.000000   fdr_bh  0.096288  \n",
       "29  0.331685  0.663370   fdr_bh  0.510201  \n",
       "30  0.327451  0.663370   fdr_bh  0.596998  \n",
       "31  1.000000  1.000000   fdr_bh  0.030278  \n",
       "32  0.635365  0.964286   fdr_bh  0.416863  \n",
       "33  0.327451  0.663370   fdr_bh -0.535031  \n",
       "34  0.395863  0.750056   fdr_bh -0.222583  \n",
       "35  0.945055  1.000000   fdr_bh  0.348996  "
      ]
     },
     "execution_count": 81,
     "metadata": {},
     "output_type": "execute_result"
    }
   ],
   "source": [
    "pg.pairwise_tests(rdf, dv = 'pupil_x', between = ['contrast_diff'], padjust = 'fdr_bh', parametric = False)"
   ]
  },
  {
   "cell_type": "markdown",
   "id": "cc23ab5d",
   "metadata": {},
   "source": [
    "## A Gallery of Plots : 2D Histograms with `sns.jointplot()`\n",
    "\n",
    "Let's try out a few different plots, for comparing two different continuous variables' distributions.\n",
    "\n",
    "| Code | Description |\n",
    "| :--  | :-- |\n",
    "| `sns.jointplot(df, x='colA', y='colB')` | Makes a joint histogram |"
   ]
  },
  {
   "cell_type": "markdown",
   "id": "980a7392",
   "metadata": {},
   "source": [
    "**Exercises**"
   ]
  },
  {
   "cell_type": "markdown",
   "id": "b11304fe",
   "metadata": {},
   "source": [
    "**Example**: Make a joint plot comparing the `pupil_x` and `pupil_y` variables:"
   ]
  },
  {
   "cell_type": "code",
   "execution_count": 43,
   "id": "bc3c2043",
   "metadata": {},
   "outputs": [
    {
     "data": {
      "image/png": "[encoded data removed]",
      "text/plain": [
       "<Figure size 600x600 with 3 Axes>"
      ]
     },
     "metadata": {},
     "output_type": "display_data"
    }
   ],
   "source": [
    "sns.jointplot(rdf, x=\"pupil_x\", y=\"pupil_y\");"
   ]
  },
  {
   "cell_type": "markdown",
   "id": "7c57a85a",
   "metadata": {},
   "source": [
    "Make a joint plot comparing the `pupil_x` and `pupil_y` variables, using `kind='kde'`."
   ]
  },
  {
   "cell_type": "code",
   "execution_count": 44,
   "id": "5d08c2cc",
   "metadata": {},
   "outputs": [
    {
     "data": {
      "text/plain": [
       "<seaborn.axisgrid.JointGrid at 0x22d62730910>"
      ]
     },
     "execution_count": 44,
     "metadata": {},
     "output_type": "execute_result"
    },
    {
     "data": {
      "image/png": "[encoded data removed]",
      "text/plain": [
       "<Figure size 600x600 with 3 Axes>"
      ]
     },
     "metadata": {},
     "output_type": "display_data"
    }
   ],
   "source": [
    "sns.jointplot(rdf, x='pupil_x', y='pupil_y', kind = 'kde')"
   ]
  },
  {
   "cell_type": "markdown",
   "id": "ff251179",
   "metadata": {},
   "source": [
    "Make a joint plot comparing the `pupil_x` and `pupil_y` variables, using `kind='kde'` and setting `hue` to `'response_type'`."
   ]
  },
  {
   "cell_type": "code",
   "execution_count": 45,
   "id": "8e82d871",
   "metadata": {},
   "outputs": [
    {
     "data": {
      "text/plain": [
       "<seaborn.axisgrid.JointGrid at 0x22d6c5e8b90>"
      ]
     },
     "execution_count": 45,
     "metadata": {},
     "output_type": "execute_result"
    },
    {
     "data": {
      "image/png": "[encoded data removed]",
      "text/plain": [
       "<Figure size 600x600 with 3 Axes>"
      ]
     },
     "metadata": {},
     "output_type": "display_data"
    }
   ],
   "source": [
    "sns.jointplot(rdf, x='pupil_x', y='pupil_y', kind = 'kde', hue='response_type')"
   ]
  },
  {
   "cell_type": "markdown",
   "id": "a8a03367",
   "metadata": {},
   "source": [
    "Make a joint plot comparing the `pupil_x` and `pupil_y` variables, using `kind='hex'`."
   ]
  },
  {
   "cell_type": "code",
   "execution_count": 46,
   "id": "2e7a86db",
   "metadata": {},
   "outputs": [
    {
     "data": {
      "text/plain": [
       "<seaborn.axisgrid.JointGrid at 0x22d5fd71480>"
      ]
     },
     "execution_count": 46,
     "metadata": {},
     "output_type": "execute_result"
    },
    {
     "data": {
      "image/png": "[encoded data removed]",
      "text/plain": [
       "<Figure size 600x600 with 3 Axes>"
      ]
     },
     "metadata": {},
     "output_type": "display_data"
    }
   ],
   "source": [
    "sns.jointplot(rdf, x='pupil_x', y='pupil_y', kind='hex')"
   ]
  },
  {
   "cell_type": "markdown",
   "id": "0a7a601c",
   "metadata": {
    "cell_id": "00028-47e23c09-42f1-4eaa-b027-43c8707fc77b",
    "deepnote_cell_type": "markdown",
    "id": "documentary-effects"
   },
   "source": [
    "## Further Reading\n",
    "\n",
    "Nice article on Pingouin here: https://towardsdatascience.com/the-new-kid-on-the-statistics-in-python-block-pingouin-6b353a1db57c\n",
    "\n",
    "Nice summary of the different effect size metrics and when to pick which: https://www.socscistatistics.com/effectsize/default3.aspx"
   ]
  },
  {
   "cell_type": "markdown",
   "id": "be6ef0ca-998f-441e-97cd-3d0e96011a33",
   "metadata": {},
   "source": [
    "## Extra: Correlations and Simpson's Paradox\n",
    "\n",
    "| Function | Description |\n",
    "| :-- | :-- |\n",
    "| `pg.corr(A, B)` | The correlation between variables A and B |\n",
    "| `pg.pairwise_corr(flowers)` | Pairwise correlations |\n",
    "| `df.plot.scatter(x='A', y='B')` | Make a scatter plot |\n",
    "| `sns.lmplot(data=df, x='Col1', y='Col2', hue='Col3')` | Make a scatter plot with a regression line |"
   ]
  },
  {
   "cell_type": "markdown",
   "id": "460f3510-69cc-4964-a329-c3d40fb5e3d9",
   "metadata": {},
   "source": [
    "Download the iris dataset for this section:"
   ]
  },
  {
   "cell_type": "code",
   "execution_count": 47,
   "id": "7c406ae2",
   "metadata": {},
   "outputs": [
    {
     "name": "stdout",
     "output_type": "stream",
     "text": [
      "Collecting bokeh\n",
      "  Downloading bokeh-3.7.3-py3-none-any.whl.metadata (12 kB)\n",
      "Collecting bokeh_sampledata\n",
      "  Downloading bokeh_sampledata-2024.2-py3-none-any.whl.metadata (2.6 kB)\n",
      "Collecting Jinja2>=2.9 (from bokeh)\n",
      "  Using cached jinja2-3.1.6-py3-none-any.whl.metadata (2.9 kB)\n",
      "Requirement already satisfied: contourpy>=1.2 in c:\\users\\delgr\\desktop\\i2py-2025-2\\intro2py-spring2025\\.pixi\\envs\\default\\lib\\site-packages (from bokeh) (1.3.2)\n",
      "Collecting narwhals>=1.13 (from bokeh)\n",
      "  Downloading narwhals-1.40.0-py3-none-any.whl.metadata (11 kB)\n",
      "Requirement already satisfied: numpy>=1.16 in c:\\users\\delgr\\desktop\\i2py-2025-2\\intro2py-spring2025\\.pixi\\envs\\default\\lib\\site-packages (from bokeh) (2.2.6)\n",
      "Requirement already satisfied: packaging>=16.8 in c:\\users\\delgr\\desktop\\i2py-2025-2\\intro2py-spring2025\\.pixi\\envs\\default\\lib\\site-packages (from bokeh) (25.0)\n",
      "Requirement already satisfied: pandas>=1.2 in c:\\users\\delgr\\desktop\\i2py-2025-2\\intro2py-spring2025\\.pixi\\envs\\default\\lib\\site-packages (from bokeh) (2.2.3)\n",
      "Requirement already satisfied: pillow>=7.1.0 in c:\\users\\delgr\\desktop\\i2py-2025-2\\intro2py-spring2025\\.pixi\\envs\\default\\lib\\site-packages (from bokeh) (11.2.1)\n",
      "Collecting PyYAML>=3.10 (from bokeh)\n",
      "  Using cached PyYAML-6.0.2-cp313-cp313-win_amd64.whl.metadata (2.1 kB)\n",
      "Requirement already satisfied: tornado>=6.2 in c:\\users\\delgr\\desktop\\i2py-2025-2\\intro2py-spring2025\\.pixi\\envs\\default\\lib\\site-packages (from bokeh) (6.4.2)\n",
      "Collecting xyzservices>=2021.09.1 (from bokeh)\n",
      "  Downloading xyzservices-2025.4.0-py3-none-any.whl.metadata (4.3 kB)\n",
      "Collecting icalendar (from bokeh_sampledata)\n",
      "  Downloading icalendar-6.3.1-py3-none-any.whl.metadata (9.0 kB)\n",
      "Collecting MarkupSafe>=2.0 (from Jinja2>=2.9->bokeh)\n",
      "  Downloading MarkupSafe-3.0.2-cp313-cp313-win_amd64.whl.metadata (4.1 kB)\n",
      "Requirement already satisfied: python-dateutil>=2.8.2 in c:\\users\\delgr\\desktop\\i2py-2025-2\\intro2py-spring2025\\.pixi\\envs\\default\\lib\\site-packages (from pandas>=1.2->bokeh) (2.9.0.post0)\n",
      "Requirement already satisfied: pytz>=2020.1 in c:\\users\\delgr\\desktop\\i2py-2025-2\\intro2py-spring2025\\.pixi\\envs\\default\\lib\\site-packages (from pandas>=1.2->bokeh) (2025.2)\n",
      "Requirement already satisfied: tzdata>=2022.7 in c:\\users\\delgr\\desktop\\i2py-2025-2\\intro2py-spring2025\\.pixi\\envs\\default\\lib\\site-packages (from pandas>=1.2->bokeh) (2025.2)\n",
      "Requirement already satisfied: six>=1.5 in c:\\users\\delgr\\desktop\\i2py-2025-2\\intro2py-spring2025\\.pixi\\envs\\default\\lib\\site-packages (from python-dateutil>=2.8.2->pandas>=1.2->bokeh) (1.17.0)\n",
      "Downloading bokeh-3.7.3-py3-none-any.whl (7.0 MB)\n",
      "   ---------------------------------------- 0.0/7.0 MB ? eta -:--:--\n",
      "   -------- ------------------------------- 1.6/7.0 MB 8.4 MB/s eta 0:00:01\n",
      "   ---------------- ----------------------- 2.9/7.0 MB 7.0 MB/s eta 0:00:01\n",
      "   ------------------------- -------------- 4.5/7.0 MB 7.5 MB/s eta 0:00:01\n",
      "   ---------------------------------- ----- 6.0/7.0 MB 7.6 MB/s eta 0:00:01\n",
      "   ---------------------------------------- 7.0/7.0 MB 7.5 MB/s eta 0:00:00\n",
      "Downloading bokeh_sampledata-2024.2-py3-none-any.whl (17.6 MB)\n",
      "   ---------------------------------------- 0.0/17.6 MB ? eta -:--:--\n",
      "   -- ------------------------------------- 1.3/17.6 MB 6.8 MB/s eta 0:00:03\n",
      "   ------ --------------------------------- 2.9/17.6 MB 7.7 MB/s eta 0:00:02\n",
      "   ---------- ----------------------------- 4.5/17.6 MB 7.4 MB/s eta 0:00:02\n",
      "   ------------- -------------------------- 5.8/17.6 MB 7.0 MB/s eta 0:00:02\n",
      "   ---------------- ----------------------- 7.3/17.6 MB 7.4 MB/s eta 0:00:02\n",
      "   -------------------- ------------------- 8.9/17.6 MB 7.2 MB/s eta 0:00:02\n",
      "   ----------------------- ---------------- 10.5/17.6 MB 7.3 MB/s eta 0:00:01\n",
      "   -------------------------- ------------- 11.8/17.6 MB 7.2 MB/s eta 0:00:01\n",
      "   ------------------------------ --------- 13.4/17.6 MB 7.2 MB/s eta 0:00:01\n",
      "   --------------------------------- ------ 14.9/17.6 MB 7.3 MB/s eta 0:00:01\n",
      "   -------------------------------------- - 16.8/17.6 MB 7.4 MB/s eta 0:00:01\n",
      "   ---------------------------------------- 17.6/17.6 MB 7.2 MB/s eta 0:00:00\n",
      "Using cached jinja2-3.1.6-py3-none-any.whl (134 kB)\n",
      "Downloading MarkupSafe-3.0.2-cp313-cp313-win_amd64.whl (15 kB)\n",
      "Downloading narwhals-1.40.0-py3-none-any.whl (357 kB)\n",
      "Using cached PyYAML-6.0.2-cp313-cp313-win_amd64.whl (156 kB)\n",
      "Downloading xyzservices-2025.4.0-py3-none-any.whl (90 kB)\n",
      "Downloading icalendar-6.3.1-py3-none-any.whl (242 kB)\n",
      "Installing collected packages: xyzservices, PyYAML, narwhals, MarkupSafe, Jinja2, icalendar, bokeh_sampledata, bokeh\n",
      "\n",
      "   ----- ---------------------------------- 1/8 [PyYAML]\n",
      "   ----- ---------------------------------- 1/8 [PyYAML]\n",
      "   ----- ---------------------------------- 1/8 [PyYAML]\n",
      "   ----- ---------------------------------- 1/8 [PyYAML]\n",
      "   ---------- ----------------------------- 2/8 [narwhals]\n",
      "   ---------- ----------------------------- 2/8 [narwhals]\n",
      "   ---------- ----------------------------- 2/8 [narwhals]\n",
      "   ---------- ----------------------------- 2/8 [narwhals]\n",
      "   ---------- ----------------------------- 2/8 [narwhals]\n",
      "   ---------- ----------------------------- 2/8 [narwhals]\n",
      "   ---------- ----------------------------- 2/8 [narwhals]\n",
      "   ---------- ----------------------------- 2/8 [narwhals]\n",
      "   ---------- ----------------------------- 2/8 [narwhals]\n",
      "   ---------- ----------------------------- 2/8 [narwhals]\n",
      "   ---------- ----------------------------- 2/8 [narwhals]\n",
      "   ---------- ----------------------------- 2/8 [narwhals]\n",
      "   ---------- ----------------------------- 2/8 [narwhals]\n",
      "   ---------- ----------------------------- 2/8 [narwhals]\n",
      "   ---------- ----------------------------- 2/8 [narwhals]\n",
      "   ---------- ----------------------------- 2/8 [narwhals]\n",
      "   ---------- ----------------------------- 2/8 [narwhals]\n",
      "   ---------- ----------------------------- 2/8 [narwhals]\n",
      "   ---------- ----------------------------- 2/8 [narwhals]\n",
      "   ---------- ----------------------------- 2/8 [narwhals]\n",
      "   ---------- ----------------------------- 2/8 [narwhals]\n",
      "   ---------- ----------------------------- 2/8 [narwhals]\n",
      "   ---------- ----------------------------- 2/8 [narwhals]\n",
      "   ---------- ----------------------------- 2/8 [narwhals]\n",
      "   -------------------- ------------------- 4/8 [Jinja2]\n",
      "   -------------------- ------------------- 4/8 [Jinja2]\n",
      "   -------------------- ------------------- 4/8 [Jinja2]\n",
      "   -------------------- ------------------- 4/8 [Jinja2]\n",
      "   -------------------- ------------------- 4/8 [Jinja2]\n",
      "   -------------------- ------------------- 4/8 [Jinja2]\n",
      "   ------------------------- -------------- 5/8 [icalendar]\n",
      "   ------------------------- -------------- 5/8 [icalendar]\n",
      "   ------------------------- -------------- 5/8 [icalendar]\n",
      "   ------------------------- -------------- 5/8 [icalendar]\n",
      "   ------------------------- -------------- 5/8 [icalendar]\n",
      "   ------------------------- -------------- 5/8 [icalendar]\n",
      "   ------------------------- -------------- 5/8 [icalendar]\n",
      "   ------------------------- -------------- 5/8 [icalendar]\n",
      "   ------------------------- -------------- 5/8 [icalendar]\n",
      "   ------------------------- -------------- 5/8 [icalendar]\n",
      "   ------------------------- -------------- 5/8 [icalendar]\n",
      "   ------------------------- -------------- 5/8 [icalendar]\n",
      "   ------------------------- -------------- 5/8 [icalendar]\n",
      "   ------------------------- -------------- 5/8 [icalendar]\n",
      "   ------------------------- -------------- 5/8 [icalendar]\n",
      "   ------------------------- -------------- 5/8 [icalendar]\n",
      "   ------------------------------ --------- 6/8 [bokeh_sampledata]\n",
      "   ------------------------------ --------- 6/8 [bokeh_sampledata]\n",
      "   ------------------------------ --------- 6/8 [bokeh_sampledata]\n",
      "   ------------------------------ --------- 6/8 [bokeh_sampledata]\n",
      "   ------------------------------ --------- 6/8 [bokeh_sampledata]\n",
      "   ------------------------------ --------- 6/8 [bokeh_sampledata]\n",
      "   ------------------------------ --------- 6/8 [bokeh_sampledata]\n",
      "   ------------------------------ --------- 6/8 [bokeh_sampledata]\n",
      "   ----------------------------------- ---- 7/8 [bokeh]\n",
      "   ----------------------------------- ---- 7/8 [bokeh]\n",
      "   ----------------------------------- ---- 7/8 [bokeh]\n",
      "   ----------------------------------- ---- 7/8 [bokeh]\n",
      "   ----------------------------------- ---- 7/8 [bokeh]\n",
      "   ----------------------------------- ---- 7/8 [bokeh]\n",
      "   ----------------------------------- ---- 7/8 [bokeh]\n",
      "   ----------------------------------- ---- 7/8 [bokeh]\n",
      "   ----------------------------------- ---- 7/8 [bokeh]\n",
      "   ----------------------------------- ---- 7/8 [bokeh]\n",
      "   ----------------------------------- ---- 7/8 [bokeh]\n",
      "   ----------------------------------- ---- 7/8 [bokeh]\n",
      "   ----------------------------------- ---- 7/8 [bokeh]\n",
      "   ----------------------------------- ---- 7/8 [bokeh]\n",
      "   ----------------------------------- ---- 7/8 [bokeh]\n",
      "   ----------------------------------- ---- 7/8 [bokeh]\n",
      "   ----------------------------------- ---- 7/8 [bokeh]\n",
      "   ----------------------------------- ---- 7/8 [bokeh]\n",
      "   ----------------------------------- ---- 7/8 [bokeh]\n",
      "   ----------------------------------- ---- 7/8 [bokeh]\n",
      "   ----------------------------------- ---- 7/8 [bokeh]\n",
      "   ----------------------------------- ---- 7/8 [bokeh]\n",
      "   ----------------------------------- ---- 7/8 [bokeh]\n",
      "   ----------------------------------- ---- 7/8 [bokeh]\n",
      "   ----------------------------------- ---- 7/8 [bokeh]\n",
      "   ----------------------------------- ---- 7/8 [bokeh]\n",
      "   ----------------------------------- ---- 7/8 [bokeh]\n",
      "   ----------------------------------- ---- 7/8 [bokeh]\n",
      "   ----------------------------------- ---- 7/8 [bokeh]\n",
      "   ----------------------------------- ---- 7/8 [bokeh]\n",
      "   ----------------------------------- ---- 7/8 [bokeh]\n",
      "   ----------------------------------- ---- 7/8 [bokeh]\n",
      "   ----------------------------------- ---- 7/8 [bokeh]\n",
      "   ----------------------------------- ---- 7/8 [bokeh]\n",
      "   ----------------------------------- ---- 7/8 [bokeh]\n",
      "   ----------------------------------- ---- 7/8 [bokeh]\n",
      "   ----------------------------------- ---- 7/8 [bokeh]\n",
      "   ----------------------------------- ---- 7/8 [bokeh]\n",
      "   ----------------------------------- ---- 7/8 [bokeh]\n",
      "   ----------------------------------- ---- 7/8 [bokeh]\n",
      "   ----------------------------------- ---- 7/8 [bokeh]\n",
      "   ----------------------------------- ---- 7/8 [bokeh]\n",
      "   ----------------------------------- ---- 7/8 [bokeh]\n",
      "   ----------------------------------- ---- 7/8 [bokeh]\n",
      "   ----------------------------------- ---- 7/8 [bokeh]\n",
      "   ----------------------------------- ---- 7/8 [bokeh]\n",
      "   ----------------------------------- ---- 7/8 [bokeh]\n",
      "   ----------------------------------- ---- 7/8 [bokeh]\n",
      "   ----------------------------------- ---- 7/8 [bokeh]\n",
      "   ----------------------------------- ---- 7/8 [bokeh]\n",
      "   ----------------------------------- ---- 7/8 [bokeh]\n",
      "   ----------------------------------- ---- 7/8 [bokeh]\n",
      "   ----------------------------------- ---- 7/8 [bokeh]\n",
      "   ----------------------------------- ---- 7/8 [bokeh]\n",
      "   ----------------------------------- ---- 7/8 [bokeh]\n",
      "   ----------------------------------- ---- 7/8 [bokeh]\n",
      "   ----------------------------------- ---- 7/8 [bokeh]\n",
      "   ----------------------------------- ---- 7/8 [bokeh]\n",
      "   ----------------------------------- ---- 7/8 [bokeh]\n",
      "   ----------------------------------- ---- 7/8 [bokeh]\n",
      "   ----------------------------------- ---- 7/8 [bokeh]\n",
      "   ----------------------------------- ---- 7/8 [bokeh]\n",
      "   ----------------------------------- ---- 7/8 [bokeh]\n",
      "   ----------------------------------- ---- 7/8 [bokeh]\n",
      "   ----------------------------------- ---- 7/8 [bokeh]\n",
      "   ----------------------------------- ---- 7/8 [bokeh]\n",
      "   ----------------------------------- ---- 7/8 [bokeh]\n",
      "   ----------------------------------- ---- 7/8 [bokeh]\n",
      "   ----------------------------------- ---- 7/8 [bokeh]\n",
      "   ----------------------------------- ---- 7/8 [bokeh]\n",
      "   ----------------------------------- ---- 7/8 [bokeh]\n",
      "   ----------------------------------- ---- 7/8 [bokeh]\n",
      "   ---------------------------------------- 8/8 [bokeh]\n",
      "\n",
      "Successfully installed Jinja2-3.1.6 MarkupSafe-3.0.2 PyYAML-6.0.2 bokeh-3.7.3 bokeh_sampledata-2024.2 icalendar-6.3.1 narwhals-1.40.0 xyzservices-2025.4.0\n",
      "Note: you may need to restart the kernel to use updated packages.\n"
     ]
    }
   ],
   "source": [
    "%pip install bokeh bokeh_sampledata"
   ]
  },
  {
   "cell_type": "code",
   "execution_count": 48,
   "id": "c19d0c1c-20c1-4e8e-8100-1ea23b7134da",
   "metadata": {},
   "outputs": [],
   "source": [
    "from bokeh import sampledata\n",
    "# sampledata.download()"
   ]
  },
  {
   "cell_type": "code",
   "execution_count": 49,
   "id": "a493e650-a257-4ce9-866d-e23b596d4cf4",
   "metadata": {},
   "outputs": [
    {
     "data": {
      "text/html": [
       "<div>\n",
       "<style scoped>\n",
       "    .dataframe tbody tr th:only-of-type {\n",
       "        vertical-align: middle;\n",
       "    }\n",
       "\n",
       "    .dataframe tbody tr th {\n",
       "        vertical-align: top;\n",
       "    }\n",
       "\n",
       "    .dataframe thead th {\n",
       "        text-align: right;\n",
       "    }\n",
       "</style>\n",
       "<table border=\"1\" class=\"dataframe\">\n",
       "  <thead>\n",
       "    <tr style=\"text-align: right;\">\n",
       "      <th></th>\n",
       "      <th>sepal_length</th>\n",
       "      <th>sepal_width</th>\n",
       "      <th>petal_length</th>\n",
       "      <th>petal_width</th>\n",
       "      <th>species</th>\n",
       "    </tr>\n",
       "  </thead>\n",
       "  <tbody>\n",
       "    <tr>\n",
       "      <th>0</th>\n",
       "      <td>5.1</td>\n",
       "      <td>3.5</td>\n",
       "      <td>1.4</td>\n",
       "      <td>0.2</td>\n",
       "      <td>setosa</td>\n",
       "    </tr>\n",
       "    <tr>\n",
       "      <th>1</th>\n",
       "      <td>4.9</td>\n",
       "      <td>3.0</td>\n",
       "      <td>1.4</td>\n",
       "      <td>0.2</td>\n",
       "      <td>setosa</td>\n",
       "    </tr>\n",
       "    <tr>\n",
       "      <th>2</th>\n",
       "      <td>4.7</td>\n",
       "      <td>3.2</td>\n",
       "      <td>1.3</td>\n",
       "      <td>0.2</td>\n",
       "      <td>setosa</td>\n",
       "    </tr>\n",
       "    <tr>\n",
       "      <th>3</th>\n",
       "      <td>4.6</td>\n",
       "      <td>3.1</td>\n",
       "      <td>1.5</td>\n",
       "      <td>0.2</td>\n",
       "      <td>setosa</td>\n",
       "    </tr>\n",
       "    <tr>\n",
       "      <th>4</th>\n",
       "      <td>5.0</td>\n",
       "      <td>3.6</td>\n",
       "      <td>1.4</td>\n",
       "      <td>0.2</td>\n",
       "      <td>setosa</td>\n",
       "    </tr>\n",
       "  </tbody>\n",
       "</table>\n",
       "</div>"
      ],
      "text/plain": [
       "   sepal_length  sepal_width  petal_length  petal_width species\n",
       "0           5.1          3.5           1.4          0.2  setosa\n",
       "1           4.9          3.0           1.4          0.2  setosa\n",
       "2           4.7          3.2           1.3          0.2  setosa\n",
       "3           4.6          3.1           1.5          0.2  setosa\n",
       "4           5.0          3.6           1.4          0.2  setosa"
      ]
     },
     "execution_count": 49,
     "metadata": {},
     "output_type": "execute_result"
    }
   ],
   "source": [
    "from bokeh.sampledata import iris\n",
    "flowers = iris.flowers\n",
    "flowers.head()"
   ]
  },
  {
   "cell_type": "markdown",
   "id": "1c6d95fb-45f8-426b-a560-bbe9dd44a34d",
   "metadata": {},
   "source": [
    "**Exercises**:"
   ]
  },
  {
   "cell_type": "markdown",
   "id": "0c929132-e638-4ff1-91a0-91dfd292bae9",
   "metadata": {},
   "source": [
    "Is there a correlation between flowers' sepal widths and their petal lengths?"
   ]
  },
  {
   "cell_type": "code",
   "execution_count": 50,
   "id": "6969952b-80e1-414c-aae2-ba4e22163137",
   "metadata": {
    "tags": [
     "exercise"
    ]
   },
   "outputs": [
    {
     "data": {
      "text/html": [
       "<div>\n",
       "<style scoped>\n",
       "    .dataframe tbody tr th:only-of-type {\n",
       "        vertical-align: middle;\n",
       "    }\n",
       "\n",
       "    .dataframe tbody tr th {\n",
       "        vertical-align: top;\n",
       "    }\n",
       "\n",
       "    .dataframe thead th {\n",
       "        text-align: right;\n",
       "    }\n",
       "</style>\n",
       "<table border=\"1\" class=\"dataframe\">\n",
       "  <thead>\n",
       "    <tr style=\"text-align: right;\">\n",
       "      <th></th>\n",
       "      <th>n</th>\n",
       "      <th>r</th>\n",
       "      <th>CI95%</th>\n",
       "      <th>p-val</th>\n",
       "      <th>BF10</th>\n",
       "      <th>power</th>\n",
       "    </tr>\n",
       "  </thead>\n",
       "  <tbody>\n",
       "    <tr>\n",
       "      <th>pearson</th>\n",
       "      <td>150</td>\n",
       "      <td>-0.42844</td>\n",
       "      <td>[-0.55, -0.29]</td>\n",
       "      <td>4.513314e-08</td>\n",
       "      <td>2.762e+05</td>\n",
       "      <td>0.999847</td>\n",
       "    </tr>\n",
       "  </tbody>\n",
       "</table>\n",
       "</div>"
      ],
      "text/plain": [
       "           n        r           CI95%         p-val       BF10     power\n",
       "pearson  150 -0.42844  [-0.55, -0.29]  4.513314e-08  2.762e+05  0.999847"
      ]
     },
     "execution_count": 50,
     "metadata": {},
     "output_type": "execute_result"
    }
   ],
   "source": [
    "pg.corr(flowers['sepal_width'], flowers['petal_length'])"
   ]
  },
  {
   "cell_type": "code",
   "execution_count": 52,
   "id": "d9bd0786",
   "metadata": {},
   "outputs": [
    {
     "data": {
      "text/html": [
       "<div>\n",
       "<style scoped>\n",
       "    .dataframe tbody tr th:only-of-type {\n",
       "        vertical-align: middle;\n",
       "    }\n",
       "\n",
       "    .dataframe tbody tr th {\n",
       "        vertical-align: top;\n",
       "    }\n",
       "\n",
       "    .dataframe thead th {\n",
       "        text-align: right;\n",
       "    }\n",
       "</style>\n",
       "<table border=\"1\" class=\"dataframe\">\n",
       "  <thead>\n",
       "    <tr style=\"text-align: right;\">\n",
       "      <th></th>\n",
       "      <th>n</th>\n",
       "      <th>r</th>\n",
       "      <th>CI95%</th>\n",
       "      <th>p-val</th>\n",
       "      <th>power</th>\n",
       "    </tr>\n",
       "  </thead>\n",
       "  <tbody>\n",
       "    <tr>\n",
       "      <th>spearman</th>\n",
       "      <td>150</td>\n",
       "      <td>-0.309635</td>\n",
       "      <td>[-0.45, -0.16]</td>\n",
       "      <td>0.000115</td>\n",
       "      <td>0.973396</td>\n",
       "    </tr>\n",
       "  </tbody>\n",
       "</table>\n",
       "</div>"
      ],
      "text/plain": [
       "            n         r           CI95%     p-val     power\n",
       "spearman  150 -0.309635  [-0.45, -0.16]  0.000115  0.973396"
      ]
     },
     "execution_count": 52,
     "metadata": {},
     "output_type": "execute_result"
    }
   ],
   "source": [
    "pg.corr(flowers['sepal_width'], flowers['petal_length'], method='spearman')"
   ]
  },
  {
   "cell_type": "markdown",
   "id": "574a1915-6e82-4327-9a99-f4d88e52727a",
   "metadata": {},
   "source": [
    "Use seaborn's `lmplot()` function to plot a regression line showing the sepal widths and petal lengths.  Does the direction of this line match the results?  Looking closely at the data's distribution, what is missing from this story?"
   ]
  },
  {
   "cell_type": "code",
   "execution_count": 58,
   "id": "50c1d511-6651-4ac2-ba4d-d9a21f5ee2c6",
   "metadata": {
    "tags": [
     "exercise"
    ]
   },
   "outputs": [
    {
     "data": {
      "text/plain": [
       "<seaborn.axisgrid.FacetGrid at 0x22d5f308910>"
      ]
     },
     "execution_count": 58,
     "metadata": {},
     "output_type": "execute_result"
    },
    {
     "data": {
      "image/png": "[encoded data removed]",
      "text/plain": [
       "<Figure size 500x500 with 1 Axes>"
      ]
     },
     "metadata": {},
     "output_type": "display_data"
    }
   ],
   "source": [
    "sns.lmplot(data=flowers, x='sepal_width', y = 'petal_length')"
   ]
  },
  {
   "cell_type": "markdown",
   "id": "13f21fd7-797b-4c87-be8e-dd6ba45934d3",
   "metadata": {},
   "source": [
    "This time factor in the `species` variable into the `lmplot()` visualization.  What kind of relationship do you see between `sepal_width` and `petal_length` now?"
   ]
  },
  {
   "cell_type": "code",
   "execution_count": 59,
   "id": "363fa626-be6b-4cd9-80a8-a1136f0238fd",
   "metadata": {
    "tags": [
     "exercise"
    ]
   },
   "outputs": [
    {
     "data": {
      "text/plain": [
       "<seaborn.axisgrid.FacetGrid at 0x22d704bb250>"
      ]
     },
     "execution_count": 59,
     "metadata": {},
     "output_type": "execute_result"
    },
    {
     "data": {
      "image/png": "[encoded data removed]",
      "text/plain": [
       "<Figure size 617.75x500 with 1 Axes>"
      ]
     },
     "metadata": {},
     "output_type": "display_data"
    }
   ],
   "source": [
    "sns.lmplot(data=flowers, x='sepal_width', y='petal_length', hue='species')"
   ]
  },
  {
   "cell_type": "markdown",
   "id": "e6a59f3f-304c-4da9-bcb6-b35ad3427955",
   "metadata": {},
   "source": [
    "What's happening here is that a third variable, `\"species\"`, is influencing both the petal and the sepal shape; this effect is called \"Simpson's Paradox\".   Unfortunately, at this time (as far as I know) pengouin doesn't have a way to split a correlation into multiple groups; one way to do this, though, is to use a `df.groupby()` analysis:"
   ]
  },
  {
   "cell_type": "code",
   "execution_count": 74,
   "id": "6c7e05f1-6064-4c3d-a371-f697ce9fdecb",
   "metadata": {},
   "outputs": [
    {
     "data": {
      "text/html": [
       "<div>\n",
       "<style scoped>\n",
       "    .dataframe tbody tr th:only-of-type {\n",
       "        vertical-align: middle;\n",
       "    }\n",
       "\n",
       "    .dataframe tbody tr th {\n",
       "        vertical-align: top;\n",
       "    }\n",
       "\n",
       "    .dataframe thead th {\n",
       "        text-align: right;\n",
       "    }\n",
       "</style>\n",
       "<table border=\"1\" class=\"dataframe\">\n",
       "  <thead>\n",
       "    <tr style=\"text-align: right;\">\n",
       "      <th></th>\n",
       "      <th></th>\n",
       "      <th>n</th>\n",
       "      <th>r</th>\n",
       "      <th>CI95%</th>\n",
       "      <th>p-val</th>\n",
       "      <th>BF10</th>\n",
       "      <th>power</th>\n",
       "    </tr>\n",
       "    <tr>\n",
       "      <th>species</th>\n",
       "      <th></th>\n",
       "      <th></th>\n",
       "      <th></th>\n",
       "      <th></th>\n",
       "      <th></th>\n",
       "      <th></th>\n",
       "      <th></th>\n",
       "    </tr>\n",
       "  </thead>\n",
       "  <tbody>\n",
       "    <tr>\n",
       "      <th>setosa</th>\n",
       "      <th>pearson</th>\n",
       "      <td>50</td>\n",
       "      <td>0.177700</td>\n",
       "      <td>[-0.11, 0.43]</td>\n",
       "      <td>0.216979</td>\n",
       "      <td>0.37</td>\n",
       "      <td>0.236771</td>\n",
       "    </tr>\n",
       "    <tr>\n",
       "      <th>versicolor</th>\n",
       "      <th>pearson</th>\n",
       "      <td>50</td>\n",
       "      <td>0.560522</td>\n",
       "      <td>[0.33, 0.73]</td>\n",
       "      <td>0.000023</td>\n",
       "      <td>1061.04</td>\n",
       "      <td>0.992245</td>\n",
       "    </tr>\n",
       "    <tr>\n",
       "      <th>virginica</th>\n",
       "      <th>pearson</th>\n",
       "      <td>50</td>\n",
       "      <td>0.401045</td>\n",
       "      <td>[0.14, 0.61]</td>\n",
       "      <td>0.003898</td>\n",
       "      <td>10.094</td>\n",
       "      <td>0.836041</td>\n",
       "    </tr>\n",
       "  </tbody>\n",
       "</table>\n",
       "</div>"
      ],
      "text/plain": [
       "                     n         r          CI95%     p-val     BF10     power\n",
       "species                                                                     \n",
       "setosa     pearson  50  0.177700  [-0.11, 0.43]  0.216979     0.37  0.236771\n",
       "versicolor pearson  50  0.560522   [0.33, 0.73]  0.000023  1061.04  0.992245\n",
       "virginica  pearson  50  0.401045   [0.14, 0.61]  0.003898   10.094  0.836041"
      ]
     },
     "execution_count": 74,
     "metadata": {},
     "output_type": "execute_result"
    }
   ],
   "source": [
    "fun = lambda data: pg.corr(data['sepal_width'], data['petal_length'])\n",
    "flowers.groupby('species').apply(fun, include_groups=False)"
   ]
  },
  {
   "cell_type": "markdown",
   "id": "f16ef249-6c23-4209-96e4-b7ae233e5e31",
   "metadata": {},
   "source": [
    "To summarize, accounting for the right variables is a big part of science; we should always be aware that the patterns we see in our data can be turned completely upside down when new aspects of a problem are understood and factored in!  "
   ]
  }
 ],
 "metadata": {
  "colab": {
   "name": "20_Stats_With_Pingouin.ipynb",
   "provenance": []
  },
  "deepnote": {},
  "deepnote_execution_queue": [],
  "deepnote_notebook_id": "2622f8ad-4a8a-45f5-9f7f-6e1d67bd04f0",
  "kernelspec": {
   "display_name": "default",
   "language": "python",
   "name": "python3"
  },
  "language_info": {
   "codemirror_mode": {
    "name": "ipython",
    "version": 3
   },
   "file_extension": ".py",
   "mimetype": "text/x-python",
   "name": "python",
   "nbconvert_exporter": "python",
   "pygments_lexer": "ipython3",
   "version": "3.13.3"
  }
 },
 "nbformat": 4,
 "nbformat_minor": 5
}

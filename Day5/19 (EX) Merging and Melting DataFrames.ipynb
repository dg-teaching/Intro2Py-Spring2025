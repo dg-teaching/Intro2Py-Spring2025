{
 "cells": [
  {
   "cell_type": "code",
   "execution_count": 1,
   "id": "bc983bc7",
   "metadata": {},
   "outputs": [],
   "source": [
    "# %pip install numpy pandas sqlalchemy"
   ]
  },
  {
   "cell_type": "code",
   "execution_count": 2,
   "id": "6787528b",
   "metadata": {
    "cell_id": "00000-db897cd6-3f70-429c-a98c-008563ade8ed",
    "deepnote_cell_type": "code"
   },
   "outputs": [],
   "source": [
    "import numpy as np\n",
    "import pandas as pd"
   ]
  },
  {
   "cell_type": "markdown",
   "id": "985890a5",
   "metadata": {
    "cell_id": "00001-9330c10e-8ab9-44a4-bd1c-3e3f730a85e5",
    "deepnote_cell_type": "markdown"
   },
   "source": [
    "# Reorganizing Data in DataFrames"
   ]
  },
  {
   "cell_type": "markdown",
   "id": "b5fa357e",
   "metadata": {
    "cell_id": "00002-61e3c02f-1c31-46c4-b037-871e5b50816c",
    "deepnote_cell_type": "markdown"
   },
   "source": [
    "## Concatenation / Appends\n",
    "\n",
    "The `pd.concat()` fucntion and `DataFrame.append()` method takes DataFrames with identical columns and makes a DataFrame that is **taller** than either of them by stacking them on top of each other.\n",
    "\n",
    "For example, it can turn this `df1` DataFrame:\n",
    "\n",
    "| Day | Weather |\n",
    "| :-: | :---:   |\n",
    "| Monday | Sunny   |\n",
    "| Tuesday | Rainy |\n",
    "\n",
    "and this `df2` DataFrame:\n",
    "\n",
    "| Day | Weather |\n",
    "| :-: | :---:   |\n",
    "| Wednesday | Sunny   |\n",
    "| Thursday | Rainy |\n",
    "\n",
    "into this:\n",
    "\n",
    "| Day | Weather |\n",
    "| :-: | :---:   |\n",
    "| Monday | Sunny   |\n",
    "| Tuesday | Rainy |\n",
    "| Wednesday | Sunny   |\n",
    "| Thursday | Rainy |\n",
    "\n",
    "\n",
    "with one line of code:\n",
    "\n",
    "```python\n",
    "pd.concat([df1, df2])\n",
    "```\n",
    "\n",
    "**Note:** If you'd like pandas to ignore the index of the dataframes when appending them, the following option is helpful:\n",
    "\n",
    "```python\n",
    "pd.concat([df1, df2], ignore_index=True)\n",
    "```\n",
    "\n",
    "**Note:** With the `pd.concat()` function, you can concatenate as many dataframes in one step as you want!"
   ]
  },
  {
   "cell_type": "markdown",
   "id": "19f4c3c2",
   "metadata": {
    "cell_id": "00003-e6a66cd9-651e-488a-afb1-a17274d9f424",
    "deepnote_cell_type": "markdown"
   },
   "source": [
    "#### Exercise\n",
    "\n",
    "Let's practice concatenating DataFrames with the `pd.concat` function:"
   ]
  },
  {
   "cell_type": "code",
   "execution_count": 3,
   "id": "b88fe182",
   "metadata": {
    "cell_id": "00004-c6c147aa-d805-4448-abcf-ac3679177d8f",
    "deepnote_cell_type": "code"
   },
   "outputs": [
    {
     "data": {
      "text/html": [
       "<div>\n",
       "<style scoped>\n",
       "    .dataframe tbody tr th:only-of-type {\n",
       "        vertical-align: middle;\n",
       "    }\n",
       "\n",
       "    .dataframe tbody tr th {\n",
       "        vertical-align: top;\n",
       "    }\n",
       "\n",
       "    .dataframe thead th {\n",
       "        text-align: right;\n",
       "    }\n",
       "</style>\n",
       "<table border=\"1\" class=\"dataframe\">\n",
       "  <thead>\n",
       "    <tr style=\"text-align: right;\">\n",
       "      <th></th>\n",
       "      <th>Name</th>\n",
       "      <th>Age</th>\n",
       "    </tr>\n",
       "  </thead>\n",
       "  <tbody>\n",
       "    <tr>\n",
       "      <th>0</th>\n",
       "      <td>Jackson</td>\n",
       "      <td>16</td>\n",
       "    </tr>\n",
       "    <tr>\n",
       "      <th>1</th>\n",
       "      <td>Josh</td>\n",
       "      <td>19</td>\n",
       "    </tr>\n",
       "    <tr>\n",
       "      <th>2</th>\n",
       "      <td>Jenny</td>\n",
       "      <td>17</td>\n",
       "    </tr>\n",
       "  </tbody>\n",
       "</table>\n",
       "</div>"
      ],
      "text/plain": [
       "      Name  Age\n",
       "0  Jackson   16\n",
       "1     Josh   19\n",
       "2    Jenny   17"
      ]
     },
     "execution_count": 3,
     "metadata": {},
     "output_type": "execute_result"
    }
   ],
   "source": [
    "df1 = pd.DataFrame({'Name': ['Jackson', 'Josh', 'Jenny'], 'Age': [16, 19, 17]})\n",
    "df1"
   ]
  },
  {
   "cell_type": "code",
   "execution_count": 4,
   "id": "1d81a746",
   "metadata": {
    "cell_id": "00005-5451c245-d99f-4bd3-aab4-6e168fe5060f",
    "deepnote_cell_type": "code",
    "tags": []
   },
   "outputs": [
    {
     "data": {
      "text/html": [
       "<div>\n",
       "<style scoped>\n",
       "    .dataframe tbody tr th:only-of-type {\n",
       "        vertical-align: middle;\n",
       "    }\n",
       "\n",
       "    .dataframe tbody tr th {\n",
       "        vertical-align: top;\n",
       "    }\n",
       "\n",
       "    .dataframe thead th {\n",
       "        text-align: right;\n",
       "    }\n",
       "</style>\n",
       "<table border=\"1\" class=\"dataframe\">\n",
       "  <thead>\n",
       "    <tr style=\"text-align: right;\">\n",
       "      <th></th>\n",
       "      <th>Name</th>\n",
       "      <th>Age</th>\n",
       "    </tr>\n",
       "  </thead>\n",
       "  <tbody>\n",
       "    <tr>\n",
       "      <th>3</th>\n",
       "      <td>Jess</td>\n",
       "      <td>21</td>\n",
       "    </tr>\n",
       "    <tr>\n",
       "      <th>4</th>\n",
       "      <td>Jon</td>\n",
       "      <td>16</td>\n",
       "    </tr>\n",
       "    <tr>\n",
       "      <th>5</th>\n",
       "      <td>Joe</td>\n",
       "      <td>23</td>\n",
       "    </tr>\n",
       "  </tbody>\n",
       "</table>\n",
       "</div>"
      ],
      "text/plain": [
       "   Name  Age\n",
       "3  Jess   21\n",
       "4   Jon   16\n",
       "5   Joe   23"
      ]
     },
     "execution_count": 4,
     "metadata": {},
     "output_type": "execute_result"
    }
   ],
   "source": [
    "df2 = pd.DataFrame({'Name': ['Jess', 'Jon', 'Joe'], 'Age': [21, 16, 23]}, index=[3, 4, 5])\n",
    "df2"
   ]
  },
  {
   "cell_type": "code",
   "execution_count": 5,
   "id": "d38af149",
   "metadata": {
    "cell_id": "00006-2f8fb88a-badc-48d7-a8df-74ea70c8d767",
    "deepnote_cell_type": "code"
   },
   "outputs": [
    {
     "data": {
      "text/html": [
       "<div>\n",
       "<style scoped>\n",
       "    .dataframe tbody tr th:only-of-type {\n",
       "        vertical-align: middle;\n",
       "    }\n",
       "\n",
       "    .dataframe tbody tr th {\n",
       "        vertical-align: top;\n",
       "    }\n",
       "\n",
       "    .dataframe thead th {\n",
       "        text-align: right;\n",
       "    }\n",
       "</style>\n",
       "<table border=\"1\" class=\"dataframe\">\n",
       "  <thead>\n",
       "    <tr style=\"text-align: right;\">\n",
       "      <th></th>\n",
       "      <th>Name</th>\n",
       "      <th>Age</th>\n",
       "    </tr>\n",
       "  </thead>\n",
       "  <tbody>\n",
       "    <tr>\n",
       "      <th>0</th>\n",
       "      <td>Jill</td>\n",
       "      <td>5</td>\n",
       "    </tr>\n",
       "    <tr>\n",
       "      <th>1</th>\n",
       "      <td>Josephine</td>\n",
       "      <td>10</td>\n",
       "    </tr>\n",
       "    <tr>\n",
       "      <th>2</th>\n",
       "      <td>Jack</td>\n",
       "      <td>61</td>\n",
       "    </tr>\n",
       "  </tbody>\n",
       "</table>\n",
       "</div>"
      ],
      "text/plain": [
       "        Name  Age\n",
       "0       Jill    5\n",
       "1  Josephine   10\n",
       "2       Jack   61"
      ]
     },
     "execution_count": 5,
     "metadata": {},
     "output_type": "execute_result"
    }
   ],
   "source": [
    "df3 = pd.DataFrame({'Name': ['Jill', 'Josephine', 'Jack'], 'Age': [5, 10, 61]})\n",
    "df3"
   ]
  },
  {
   "cell_type": "markdown",
   "id": "baf50b76",
   "metadata": {
    "cell_id": "00007-0a9f0d08-af5c-4d21-b794-6c0bbfdcde99",
    "deepnote_cell_type": "markdown"
   },
   "source": [
    "**Example**: Concatenate df1 and df2 together!"
   ]
  },
  {
   "cell_type": "code",
   "execution_count": null,
   "id": "b80535a7",
   "metadata": {
    "cell_id": "00008-6422f269-c90a-4983-9320-055261859499",
    "deepnote_cell_type": "code"
   },
   "outputs": [],
   "source": []
  },
  {
   "cell_type": "markdown",
   "id": "3232a0b3",
   "metadata": {
    "cell_id": "00009-91952e38-be0f-4add-a35f-e28ed232bb0b",
    "deepnote_cell_type": "markdown"
   },
   "source": [
    "Concatenate df2 and df3 together!"
   ]
  },
  {
   "cell_type": "code",
   "execution_count": null,
   "id": "b4fce638",
   "metadata": {
    "cell_id": "00010-7fec83f6-99f3-43bf-8cc5-6fb1322d6c23",
    "deepnote_cell_type": "code"
   },
   "outputs": [],
   "source": []
  },
  {
   "cell_type": "markdown",
   "id": "97f9c8a7",
   "metadata": {
    "cell_id": "00011-5c00e752-5b0c-4ed8-a643-61d537351bd5",
    "deepnote_cell_type": "markdown"
   },
   "source": [
    "Concatenate all three dataframes in a single line"
   ]
  },
  {
   "cell_type": "code",
   "execution_count": null,
   "id": "19a6dfe6",
   "metadata": {
    "cell_id": "00012-f75faf2a-d253-4219-893a-1cf89319964e",
    "deepnote_cell_type": "code"
   },
   "outputs": [],
   "source": []
  },
  {
   "cell_type": "markdown",
   "id": "1281496b",
   "metadata": {
    "cell_id": "00013-3bcc7203-5ed8-4d7b-9732-1980c4a99ec3",
    "deepnote_cell_type": "markdown"
   },
   "source": [
    "The index in these datasets is unlabelled, indicating that they potentially don't contain useful data.  Concatenate them all together so that the index of the final dataframe is simply 0-8."
   ]
  },
  {
   "cell_type": "code",
   "execution_count": null,
   "id": "8f316583",
   "metadata": {
    "cell_id": "00014-96c3b4fa-5c38-4934-b19d-3bb7f483d154",
    "deepnote_cell_type": "code"
   },
   "outputs": [],
   "source": []
  },
  {
   "cell_type": "markdown",
   "id": "60eabf2c",
   "metadata": {
    "cell_id": "00015-216c6be6-41bf-4737-a2a4-84c857b81b36",
    "deepnote_cell_type": "markdown"
   },
   "source": [
    "## Merge / Joins\n",
    "The `pd.merge()` function and `DataFrame.join()` method take two DataFrames and make them **wider** by matching rows with the same values on a specified column.  \n",
    "\n",
    "For example, it can turn this `df1` DataFrame:\n",
    "\n",
    "| Day | Weather |\n",
    "| :-: | :---:   |\n",
    "| Monday | Sunny   |\n",
    "| Tuesday | Rainy |\n",
    "\n",
    "and this `df2` DataFrame:\n",
    "\n",
    "| Day | Temperature |\n",
    "| :-: | :---:   |\n",
    "| Tuesday | 12   |\n",
    "| Monday | 18 |\n",
    "\n",
    "into this:\n",
    "\n",
    "| Day | Weather | Temperature |\n",
    "| :-: | :---:   | :---: |\n",
    "| Monday | Sunny   | 18 |\n",
    "| Tuesday | Rainy | 12 |\n",
    "\n",
    "with one line of code:\n",
    "\n",
    "```python\n",
    "df_merged = pd.merge(left=df1, right=df2, left_on=\"Day\", right_on=\"Day\")\n",
    "```\n",
    "\n",
    "Just specify which columns should be matched up with each other, and it will search for the matching values automatically!  If you want it to use the index, you can alternatively supply the option `left_index=True` and/or `right_index=True`. "
   ]
  },
  {
   "cell_type": "markdown",
   "id": "9cfa26d6",
   "metadata": {
    "cell_id": "00016-4322c72a-1000-4fec-91b1-f51b8417100d",
    "deepnote_cell_type": "markdown"
   },
   "source": [
    "### Exercises\n",
    "\n",
    "Let's practice merging dataframes with the `pd.merge()` function."
   ]
  },
  {
   "cell_type": "markdown",
   "id": "a7f28fb8",
   "metadata": {
    "cell_id": "00017-5068a8cc-bef7-4d1e-8d9c-f5ac63896f1d",
    "deepnote_cell_type": "markdown"
   },
   "source": [
    "Dataframe 1:"
   ]
  },
  {
   "cell_type": "code",
   "execution_count": 21,
   "id": "b53a736a",
   "metadata": {
    "cell_id": "00018-ac3a05b2-02dd-4d24-ba95-7a6419796777",
    "deepnote_cell_type": "code"
   },
   "outputs": [
    {
     "data": {
      "text/html": [
       "<div>\n",
       "<style scoped>\n",
       "    .dataframe tbody tr th:only-of-type {\n",
       "        vertical-align: middle;\n",
       "    }\n",
       "\n",
       "    .dataframe tbody tr th {\n",
       "        vertical-align: top;\n",
       "    }\n",
       "\n",
       "    .dataframe thead th {\n",
       "        text-align: right;\n",
       "    }\n",
       "</style>\n",
       "<table border=\"1\" class=\"dataframe\">\n",
       "  <thead>\n",
       "    <tr style=\"text-align: right;\">\n",
       "      <th></th>\n",
       "      <th>Name</th>\n",
       "      <th>Age</th>\n",
       "    </tr>\n",
       "  </thead>\n",
       "  <tbody>\n",
       "    <tr>\n",
       "      <th>0</th>\n",
       "      <td>Paul</td>\n",
       "      <td>16</td>\n",
       "    </tr>\n",
       "    <tr>\n",
       "      <th>1</th>\n",
       "      <td>Arash</td>\n",
       "      <td>19</td>\n",
       "    </tr>\n",
       "    <tr>\n",
       "      <th>2</th>\n",
       "      <td>Jenny</td>\n",
       "      <td>17</td>\n",
       "    </tr>\n",
       "  </tbody>\n",
       "</table>\n",
       "</div>"
      ],
      "text/plain": [
       "    Name  Age\n",
       "0   Paul   16\n",
       "1  Arash   19\n",
       "2  Jenny   17"
      ]
     },
     "execution_count": 21,
     "metadata": {},
     "output_type": "execute_result"
    }
   ],
   "source": [
    "df1 = pd.DataFrame({'Name': ['Paul', 'Arash', 'Jenny'], 'Age': [16, 19, 17]})\n",
    "df1"
   ]
  },
  {
   "cell_type": "markdown",
   "id": "94c0b046",
   "metadata": {
    "cell_id": "00019-e51cfe73-a5ac-4050-b8ad-66e1a0950e5e",
    "deepnote_cell_type": "markdown"
   },
   "source": [
    "Dataframe 2:"
   ]
  },
  {
   "cell_type": "code",
   "execution_count": 22,
   "id": "60be25e8",
   "metadata": {
    "cell_id": "00020-f8cb1f9b-1430-401f-b5c2-1042e3bf3268",
    "deepnote_cell_type": "code"
   },
   "outputs": [
    {
     "data": {
      "text/html": [
       "<div>\n",
       "<style scoped>\n",
       "    .dataframe tbody tr th:only-of-type {\n",
       "        vertical-align: middle;\n",
       "    }\n",
       "\n",
       "    .dataframe tbody tr th {\n",
       "        vertical-align: top;\n",
       "    }\n",
       "\n",
       "    .dataframe thead th {\n",
       "        text-align: right;\n",
       "    }\n",
       "</style>\n",
       "<table border=\"1\" class=\"dataframe\">\n",
       "  <thead>\n",
       "    <tr style=\"text-align: right;\">\n",
       "      <th></th>\n",
       "      <th>Name</th>\n",
       "      <th>Weight</th>\n",
       "    </tr>\n",
       "  </thead>\n",
       "  <tbody>\n",
       "    <tr>\n",
       "      <th>0</th>\n",
       "      <td>Arash</td>\n",
       "      <td>32</td>\n",
       "    </tr>\n",
       "    <tr>\n",
       "      <th>1</th>\n",
       "      <td>Paul</td>\n",
       "      <td>15</td>\n",
       "    </tr>\n",
       "    <tr>\n",
       "      <th>2</th>\n",
       "      <td>Sara</td>\n",
       "      <td>37</td>\n",
       "    </tr>\n",
       "  </tbody>\n",
       "</table>\n",
       "</div>"
      ],
      "text/plain": [
       "    Name  Weight\n",
       "0  Arash      32\n",
       "1   Paul      15\n",
       "2   Sara      37"
      ]
     },
     "execution_count": 22,
     "metadata": {},
     "output_type": "execute_result"
    }
   ],
   "source": [
    "df2 = pd.DataFrame({'Name': ['Arash', 'Paul', 'Sara'], 'Weight': [32, 15, 37]})\n",
    "df2"
   ]
  },
  {
   "cell_type": "markdown",
   "id": "8c1c9ee7",
   "metadata": {
    "cell_id": "00021-5cfa4036-4de9-480b-a2e5-331e37236ec4",
    "deepnote_cell_type": "markdown"
   },
   "source": [
    "Dataframe 3:"
   ]
  },
  {
   "cell_type": "code",
   "execution_count": 23,
   "id": "6da7bf9e",
   "metadata": {
    "cell_id": "00022-9648cef1-a02d-4afa-9f0f-851e2db748c0",
    "deepnote_cell_type": "code"
   },
   "outputs": [
    {
     "data": {
      "text/html": [
       "<div>\n",
       "<style scoped>\n",
       "    .dataframe tbody tr th:only-of-type {\n",
       "        vertical-align: middle;\n",
       "    }\n",
       "\n",
       "    .dataframe tbody tr th {\n",
       "        vertical-align: top;\n",
       "    }\n",
       "\n",
       "    .dataframe thead th {\n",
       "        text-align: right;\n",
       "    }\n",
       "</style>\n",
       "<table border=\"1\" class=\"dataframe\">\n",
       "  <thead>\n",
       "    <tr style=\"text-align: right;\">\n",
       "      <th></th>\n",
       "      <th>Name</th>\n",
       "      <th>Height</th>\n",
       "    </tr>\n",
       "  </thead>\n",
       "  <tbody>\n",
       "    <tr>\n",
       "      <th>0</th>\n",
       "      <td>Amy</td>\n",
       "      <td>170</td>\n",
       "    </tr>\n",
       "    <tr>\n",
       "      <th>1</th>\n",
       "      <td>Paul</td>\n",
       "      <td>190</td>\n",
       "    </tr>\n",
       "    <tr>\n",
       "      <th>2</th>\n",
       "      <td>Sara</td>\n",
       "      <td>143</td>\n",
       "    </tr>\n",
       "  </tbody>\n",
       "</table>\n",
       "</div>"
      ],
      "text/plain": [
       "   Name  Height\n",
       "0   Amy     170\n",
       "1  Paul     190\n",
       "2  Sara     143"
      ]
     },
     "execution_count": 23,
     "metadata": {},
     "output_type": "execute_result"
    }
   ],
   "source": [
    "df3 = pd.DataFrame({'Name': ['Amy', 'Paul', 'Sara'], 'Height': [170, 190, 143]})\n",
    "df3"
   ]
  },
  {
   "cell_type": "markdown",
   "id": "0cc2a124",
   "metadata": {
    "cell_id": "00023-b5e0ee3c-fe64-4e3f-b037-fbe2b693625a",
    "deepnote_cell_type": "markdown"
   },
   "source": [
    "Merge the first two dataframes together.  Who do we know both the age and weight of?"
   ]
  },
  {
   "cell_type": "code",
   "execution_count": null,
   "id": "e28f3399",
   "metadata": {
    "cell_id": "00024-4cc1dd6f-21ab-44d5-afd6-c6c49bd58961",
    "deepnote_cell_type": "code",
    "tags": [
     "exercise"
    ]
   },
   "outputs": [],
   "source": []
  },
  {
   "cell_type": "markdown",
   "id": "f058959a",
   "metadata": {
    "cell_id": "00027-b2d7e9a8-b653-4375-8474-a8defc0ba070",
    "deepnote_cell_type": "markdown"
   },
   "source": [
    "Try merging all 3 by merging twice.  Who do we know everything about?"
   ]
  },
  {
   "cell_type": "code",
   "execution_count": null,
   "id": "35f546a6",
   "metadata": {
    "cell_id": "00028-807c0ca5-d5d6-40e2-bb66-974cc204b7c0",
    "deepnote_cell_type": "code",
    "tags": [
     "exercise"
    ]
   },
   "outputs": [],
   "source": []
  },
  {
   "cell_type": "markdown",
   "id": "a121e835",
   "metadata": {
    "cell_id": "00029-7bb5c765-a430-4afc-b13a-df887c11106c",
    "deepnote_cell_type": "markdown"
   },
   "source": [
    "Note that the Names that weren't present in both dataframes dropped out of the final result.  If you'd like to keep them and have NaNs appear, you can change the `how` parameter in the `pd.merge()` function.  Let's try out a few options by merging dataframes 1 and 2:"
   ]
  },
  {
   "cell_type": "markdown",
   "id": "8e6ca04d",
   "metadata": {
    "cell_id": "00030-b1fd2539-da0c-4b6c-b792-938d761cee92",
    "deepnote_cell_type": "markdown"
   },
   "source": [
    "`how=\"outer\"`"
   ]
  },
  {
   "cell_type": "code",
   "execution_count": null,
   "id": "d5cdcec0",
   "metadata": {
    "cell_id": "00031-3e86b70f-b62f-45b8-8072-3169a0b04552",
    "deepnote_cell_type": "code",
    "tags": [
     "exercise"
    ]
   },
   "outputs": [],
   "source": []
  },
  {
   "cell_type": "markdown",
   "id": "9cc488b9",
   "metadata": {
    "cell_id": "00032-a6ea6fc5-9366-4b23-954c-c57ecc68877e",
    "deepnote_cell_type": "markdown"
   },
   "source": [
    "`how=\"left\"`"
   ]
  },
  {
   "cell_type": "code",
   "execution_count": null,
   "id": "2ae7218c",
   "metadata": {
    "cell_id": "00033-7c02c4e2-fb79-4465-81f8-779653856697",
    "deepnote_cell_type": "code",
    "tags": [
     "exercise"
    ]
   },
   "outputs": [],
   "source": []
  },
  {
   "cell_type": "markdown",
   "id": "ade7de53",
   "metadata": {
    "cell_id": "00034-10cc1ca8-20eb-47f7-abcc-bc283466262b",
    "deepnote_cell_type": "markdown"
   },
   "source": [
    "`how=\"right\"`"
   ]
  },
  {
   "cell_type": "code",
   "execution_count": null,
   "id": "492b991f",
   "metadata": {
    "cell_id": "00035-49c12ead-db86-41a5-a984-d4aeef9b460b",
    "deepnote_cell_type": "code",
    "tags": [
     "exercise"
    ]
   },
   "outputs": [],
   "source": []
  },
  {
   "cell_type": "markdown",
   "id": "b310eff0",
   "metadata": {
    "cell_id": "00036-3a2c376c-72d0-4a3a-8161-50840812d32d",
    "deepnote_cell_type": "markdown"
   },
   "source": [
    "`how=\"inner\"`"
   ]
  },
  {
   "cell_type": "code",
   "execution_count": null,
   "id": "01babf26",
   "metadata": {
    "cell_id": "00037-ee1e7b3c-08e6-4295-8aad-8ca71313d427",
    "deepnote_cell_type": "code",
    "tags": [
     "exercise"
    ]
   },
   "outputs": [],
   "source": []
  },
  {
   "cell_type": "markdown",
   "id": "58b902b0",
   "metadata": {
    "cell_id": "00038-c9828ecb-0d64-4d14-9b49-bb5e29b840eb",
    "deepnote_cell_type": "markdown"
   },
   "source": [
    "Recognizing that multiple inner joins can result in high data attrition, what policies would you put in your future data analyses to both prevent data loss and keep data easy to analyze?"
   ]
  },
  {
   "cell_type": "markdown",
   "id": "3c61018c",
   "metadata": {
    "cell_id": "00055-434487ea-e4b0-469d-ade2-85a853d99bce",
    "deepnote_cell_type": "markdown"
   },
   "source": [
    "## Melts\n",
    "\n",
    "The `pd.melt()` function and `DataFrame.melt()` method take a single dataframe and make it **taller** by taking data stored in column names and putting it into the rows along with the rest of the data, adding extra metadata in the process.\n",
    "\n",
    "For example, it can turn this `df` DataFrame:\n",
    "\n",
    "| Month | Year | Monday | Tuesday | Wednesday |\n",
    "| :--:  | :--: | :--:   | :--:    | :--:      |\n",
    "| January | 2021 | 0 | -2 | -1 |\n",
    "| February | 2021 | 2 | 4 | -2 |\n",
    "\n",
    "into this:\n",
    "\n",
    "| Month | Year | Weekday | Temperature |\n",
    "| :--:  | :--: | :--:    |  :--:       |\n",
    "| January | 2021 | Monday | 0 |\n",
    "| January | 2021 | Tuesday | -2 |\n",
    "| January | 2021 | Wednesday | -1 |\n",
    "| February | 2021 | Monday | 2 |\n",
    "| February | 2021 | Tuesday | 4 | \n",
    "| February | 2021 | Wednesday | -2 |\n",
    "\n",
    "with one line of code:\n",
    "\n",
    "```python\n",
    "pd.melt(\n",
    "    df, \n",
    "    id_vars=['Month', 'Year'],  # The columns that should stay the same\n",
    "    value_vars=['Monday', 'Tuesday', 'Wednesday'],   # The columns that should melt\n",
    "    var_name='Weekday',  # The new Column that will represent the melted column name's variable\n",
    "    value_name='Temperature'  # The new Column that the data represents\n",
    ")\n",
    "```\n",
    "\n",
    "**Note**: Melting a dataframe also called *\"tidying\"* data, making a *\"long\"* dataframe from a *\"wide\"* dataframe, or building a *design matrix*"
   ]
  },
  {
   "cell_type": "markdown",
   "id": "340ea3e9",
   "metadata": {
    "cell_id": "00056-a9d6d0a9-ce56-40e2-b3f3-e0d5272d7d2b",
    "deepnote_cell_type": "markdown"
   },
   "source": [
    "#### Exercises\n",
    "\n",
    "Let's practice tidying dataframes with the `pd.melt()` function. "
   ]
  },
  {
   "cell_type": "code",
   "execution_count": 24,
   "id": "4cb835ae-c111-44fa-b704-4e3452b22fa1",
   "metadata": {},
   "outputs": [
    {
     "data": {
      "text/html": [
       "<div>\n",
       "<style scoped>\n",
       "    .dataframe tbody tr th:only-of-type {\n",
       "        vertical-align: middle;\n",
       "    }\n",
       "\n",
       "    .dataframe tbody tr th {\n",
       "        vertical-align: top;\n",
       "    }\n",
       "\n",
       "    .dataframe thead th {\n",
       "        text-align: right;\n",
       "    }\n",
       "</style>\n",
       "<table border=\"1\" class=\"dataframe\">\n",
       "  <thead>\n",
       "    <tr style=\"text-align: right;\">\n",
       "      <th></th>\n",
       "      <th>Country Name</th>\n",
       "      <th>Country Code</th>\n",
       "      <th>1960</th>\n",
       "      <th>1970</th>\n",
       "      <th>1980</th>\n",
       "      <th>1990</th>\n",
       "      <th>2000</th>\n",
       "    </tr>\n",
       "  </thead>\n",
       "  <tbody>\n",
       "    <tr>\n",
       "      <th>0</th>\n",
       "      <td>Moldova</td>\n",
       "      <td>MDA</td>\n",
       "      <td>3.328</td>\n",
       "      <td>2.582</td>\n",
       "      <td>2.481</td>\n",
       "      <td>2.413</td>\n",
       "      <td>1.568</td>\n",
       "    </tr>\n",
       "    <tr>\n",
       "      <th>1</th>\n",
       "      <td>Latvia</td>\n",
       "      <td>LVA</td>\n",
       "      <td>1.940</td>\n",
       "      <td>1.960</td>\n",
       "      <td>1.860</td>\n",
       "      <td>2.020</td>\n",
       "      <td>1.240</td>\n",
       "    </tr>\n",
       "    <tr>\n",
       "      <th>2</th>\n",
       "      <td>Andorra</td>\n",
       "      <td>AND</td>\n",
       "      <td>NaN</td>\n",
       "      <td>NaN</td>\n",
       "      <td>NaN</td>\n",
       "      <td>NaN</td>\n",
       "      <td>NaN</td>\n",
       "    </tr>\n",
       "    <tr>\n",
       "      <th>3</th>\n",
       "      <td>Canada</td>\n",
       "      <td>CAN</td>\n",
       "      <td>3.811</td>\n",
       "      <td>2.258</td>\n",
       "      <td>1.740</td>\n",
       "      <td>1.830</td>\n",
       "      <td>1.490</td>\n",
       "    </tr>\n",
       "    <tr>\n",
       "      <th>4</th>\n",
       "      <td>Bermuda</td>\n",
       "      <td>BMU</td>\n",
       "      <td>NaN</td>\n",
       "      <td>NaN</td>\n",
       "      <td>NaN</td>\n",
       "      <td>NaN</td>\n",
       "      <td>1.740</td>\n",
       "    </tr>\n",
       "  </tbody>\n",
       "</table>\n",
       "</div>"
      ],
      "text/plain": [
       "  Country Name Country Code   1960   1970   1980   1990   2000\n",
       "0      Moldova          MDA  3.328  2.582  2.481  2.413  1.568\n",
       "1       Latvia          LVA  1.940  1.960  1.860  2.020  1.240\n",
       "2      Andorra          AND    NaN    NaN    NaN    NaN    NaN\n",
       "3       Canada          CAN  3.811  2.258  1.740  1.830  1.490\n",
       "4      Bermuda          BMU    NaN    NaN    NaN    NaN  1.740"
      ]
     },
     "execution_count": 24,
     "metadata": {},
     "output_type": "execute_result"
    }
   ],
   "source": [
    "df = (\n",
    "    pd.read_csv('https://raw.githubusercontent.com/nickdelgrosso/CodeTeachingMaterials/main/datasets/worldbankdata.csv')\n",
    "    .get(['Country Name', 'Country Code', '1960', '1970', '1980', '1990', '2000'])\n",
    "    .sample(10)\n",
    "    .reset_index(drop=True)\n",
    ")\n",
    "df.head()"
   ]
  },
  {
   "cell_type": "markdown",
   "id": "04300de5-e340-4422-ae64-4b71df1ea9fc",
   "metadata": {},
   "source": [
    "Melt this dataset so it has four columns: \"Country Name\", \"Country Code\", \"Year\", and \"Fertility Rate\""
   ]
  },
  {
   "cell_type": "code",
   "execution_count": null,
   "id": "e0cf379a",
   "metadata": {},
   "outputs": [],
   "source": []
  },
  {
   "cell_type": "code",
   "execution_count": null,
   "id": "b523b4f6",
   "metadata": {},
   "outputs": [],
   "source": []
  }
 ],
 "metadata": {
  "deepnote": {},
  "deepnote_execution_queue": [],
  "deepnote_notebook_id": "61f525a9-da51-4af9-a52a-b4bb0d84fdd9",
  "kernelspec": {
   "display_name": "intro_to_python_workshop_test",
   "language": "python",
   "name": "python3"
  },
  "language_info": {
   "codemirror_mode": {
    "name": "ipython",
    "version": 3
   },
   "file_extension": ".py",
   "mimetype": "text/x-python",
   "name": "python",
   "nbconvert_exporter": "python",
   "pygments_lexer": "ipython3",
   "version": "3.12.7"
  },
  "metadata": {
   "interpreter": {
    "hash": "96aaef06ee4620efb4426efa9d33cf4f7340991f4df94558c663a28125b37508"
   }
  }
 },
 "nbformat": 4,
 "nbformat_minor": 5
}

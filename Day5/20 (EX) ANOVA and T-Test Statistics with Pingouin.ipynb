{
 "cells": [
  {
   "cell_type": "code",
   "execution_count": null,
   "id": "7438b378",
   "metadata": {},
   "outputs": [],
   "source": [
    "%pip install --upgrade numpy matplotlib scipy pingouin seaborn pyarrow xarray netcdf4 pyocclient"
   ]
  },
  {
   "cell_type": "code",
   "execution_count": null,
   "id": "b517f752",
   "metadata": {},
   "outputs": [],
   "source": [
    "%matplotlib inline"
   ]
  },
  {
   "cell_type": "code",
   "execution_count": 2,
   "id": "050439d6",
   "metadata": {
    "cell_id": "00007-c41041df-aa03-4b5f-808e-68b79b41952b",
    "deepnote_cell_type": "code",
    "deepnote_to_be_reexecuted": false,
    "execution_millis": 4,
    "execution_start": 1636618509664,
    "source_hash": "fb7cc69d",
    "tags": []
   },
   "outputs": [],
   "source": [
    "import numpy as np\n",
    "import pandas as pd\n",
    "import pingouin as pg\n",
    "import seaborn as sns\n",
    "import matplotlib.pyplot as plt"
   ]
  },
  {
   "cell_type": "markdown",
   "id": "56c3d653",
   "metadata": {
    "cell_id": "00003-44f1e943-1946-4d75-ad48-00950d13809a",
    "deepnote_cell_type": "markdown",
    "id": "athletic-conditioning"
   },
   "source": [
    "# T-Tests with Pingouin\n",
    "\n",
    "[**Pingouin**](https://pingouin-stats.org/index.html) is a statistics package in Python that wraps pandas and [scipy-stats](https://docs.scipy.org/doc/scipy/reference/stats.html), creating more-complete statistics reports and presenting the results in a readable way.\n"
   ]
  },
  {
   "cell_type": "markdown",
   "id": "f011e52f",
   "metadata": {
    "cell_id": "00006-7ecfd47a-9742-49cd-ab32-67732ccc818b",
    "deepnote_cell_type": "markdown",
    "tags": []
   },
   "source": [
    "### T-Tests\n",
    "\n",
    "T-tests compare the means of two samples of data generated from a normally-distributed population and compute the probability that they have the same mean.\n",
    "\n",
    "\n",
    "| Code, | Statistical Test | Description |\n",
    "| :-- | :-- | :-- |\n",
    "| `pg.ttest(x, 0)` | One-Sampled T-Test | \"Is the mean of my data unlikely to be zero?\" |\n",
    "| `pg.ttest(x, y)` | Independent-Samples T-Test | \"Do the means of x and y indicate they are unlikely to be from the same distribution?\" |\n",
    "| `pg.ttest(x, y, paired=True)` | Paired-Samples T-test | \"Comparing each value directly to its neighbor, are the mean differences of x and y's data unlikely to be zero?\" |\n"
   ]
  },
  {
   "cell_type": "markdown",
   "id": "8769dd0f",
   "metadata": {
    "cell_id": "00007-cd4f75ec-03f0-4143-a914-e14ba3feff58",
    "deepnote_cell_type": "markdown",
    "tags": []
   },
   "source": [
    "**Exercises** let's do some analysis on some fake data to get a feel for these two statistics tools."
   ]
  },
  {
   "cell_type": "markdown",
   "id": "838e762d",
   "metadata": {
    "cell_id": "00005-d9203f16-7bbf-45ba-88e1-ad09099e7f62",
    "deepnote_cell_type": "markdown",
    "deepnote_to_be_reexecuted": false,
    "execution_millis": 42,
    "execution_start": 1636618898586,
    "source_hash": "8ddf4792",
    "tags": []
   },
   "source": [
    "Generate the Data: Run the code below to create the dataset `df`."
   ]
  },
  {
   "cell_type": "code",
   "execution_count": 3,
   "id": "94ff3c3a",
   "metadata": {
    "cell_id": "00005-3bfe7d22-ac1b-4281-8239-9840b84be665",
    "deepnote_cell_type": "code",
    "deepnote_to_be_reexecuted": false,
    "execution_millis": 157,
    "execution_start": 1636618872868,
    "source_hash": "30d6b9bd",
    "tags": []
   },
   "outputs": [
    {
     "data": {
      "text/plain": [
       "<Axes: >"
      ]
     },
     "execution_count": 3,
     "metadata": {},
     "output_type": "execute_result"
    },
    {
     "data": {
      "image/png": "[encoded data removed]",
      "text/plain": [
       "<Figure size 640x480 with 1 Axes>"
      ]
     },
     "metadata": {},
     "output_type": "display_data"
    }
   ],
   "source": [
    "randomizer = np.random.RandomState(17)  # Makes sure the pseudorandom number generators reproduce the same data for us all.\n",
    "df = pd.DataFrame()\n",
    "df['A'] = randomizer.normal(0, 1, size=20)\n",
    "df['B'] = randomizer.normal(0.2, 1, size=20)\n",
    "df['C'] = randomizer.normal(0.7, 1, size=20)\n",
    "df['D'] = df.A * 0.3 + randomizer.normal(0, 0.3, size=20)\n",
    "df.plot.box()"
   ]
  },
  {
   "cell_type": "markdown",
   "id": "8c5dffd6",
   "metadata": {
    "cell_id": "00008-9788637e-733d-47af-ade1-6b7d088bfd5c",
    "deepnote_cell_type": "markdown",
    "tags": []
   },
   "source": [
    "### Analyze the Data with T-Tests in Pingouin"
   ]
  },
  {
   "cell_type": "markdown",
   "id": "2818f8db",
   "metadata": {},
   "source": [
    "**A vs 0, One-Sampled T-Test (Example)**: Is the mean of the normally-distributed population that the the dataset A is generated from unlikely to be zero?"
   ]
  },
  {
   "cell_type": "code",
   "execution_count": null,
   "id": "da2e7630",
   "metadata": {
    "tags": [
     "exercise"
    ]
   },
   "outputs": [],
   "source": [
    "pg.ttest(df['A'], 0)"
   ]
  },
  {
   "cell_type": "markdown",
   "id": "1834ea70",
   "metadata": {},
   "source": [
    "**B vs 1, One-Sampled T-Test**: Is the mean of the normally-distributed population that the the dataset B is generated from unlikely to be one?"
   ]
  },
  {
   "cell_type": "code",
   "execution_count": null,
   "id": "4eb87cc8",
   "metadata": {
    "tags": [
     "exercise"
    ]
   },
   "outputs": [],
   "source": []
  },
  {
   "cell_type": "markdown",
   "id": "67930529",
   "metadata": {},
   "source": [
    "**A vs B, Independent Samples T-Test**: Is the mean of the normally-distributed population that the the dataset `A` is generated from unlikely to be the same as the mean of the normally-distributed population that the the dataset `B` is generated from?"
   ]
  },
  {
   "cell_type": "code",
   "execution_count": null,
   "id": "e998e123",
   "metadata": {
    "tags": [
     "exercise"
    ]
   },
   "outputs": [],
   "source": []
  },
  {
   "cell_type": "markdown",
   "id": "21e7c886",
   "metadata": {},
   "source": [
    "**A vs C, Independent Samples T-Test**: Is the mean of the normally-distributed population that the the dataset `A` is generated from unlikely to be the same as the mean of the normally-distributed population that the the dataset `C` is generated from?"
   ]
  },
  {
   "cell_type": "code",
   "execution_count": null,
   "id": "b033e99f",
   "metadata": {
    "cell_id": "00013-7bf57931-725d-490f-86dd-bad0d3481205",
    "deepnote_cell_type": "code",
    "tags": [
     "exercise"
    ]
   },
   "outputs": [],
   "source": []
  },
  {
   "cell_type": "markdown",
   "id": "c7f48a4c",
   "metadata": {
    "cell_id": "00014-1acad45d-9edc-4327-9d4a-a75100f221a6",
    "deepnote_cell_type": "markdown",
    "tags": []
   },
   "source": [
    "**A vs C, Paired Samples T-Test**: Is the mean of the differences between each pair of samples in generated from the two normally-distributed populations `A` and `C`  unlikely to be 0?"
   ]
  },
  {
   "cell_type": "code",
   "execution_count": null,
   "id": "62a86b72",
   "metadata": {
    "tags": [
     "exercise"
    ]
   },
   "outputs": [],
   "source": []
  },
  {
   "cell_type": "markdown",
   "id": "f4d2e3ee",
   "metadata": {
    "cell_id": "00017-72ede8ff-a028-4ad9-af67-d9ee5dd2ec58",
    "deepnote_cell_type": "markdown",
    "tags": []
   },
   "source": [
    "**A vs D, Paired Samples T-Test**: Is the mean of the differences between each pair of samples in generated from the two normally-distributed populations `A` and `D`  unlikely to be 0?"
   ]
  },
  {
   "cell_type": "code",
   "execution_count": null,
   "id": "d4cc4373",
   "metadata": {
    "tags": [
     "exercise"
    ]
   },
   "outputs": [],
   "source": []
  },
  {
   "cell_type": "markdown",
   "id": "9563ca18",
   "metadata": {},
   "source": [
    "## T-Tests on Real-World Data: Pupil Position Analysis\n",
    "\n",
    "In the experiments reported by [Steinmetz et al, 2019 in Nature](https://www.nature.com/articles/s41586-019-1787-x), mice performed a discrimination task where they moved the position of a stimulus using a steering wheel. During the experiment, a camera recorded the pupil position of the subject in the x and y directions.\n"
   ]
  },
  {
   "cell_type": "markdown",
   "id": "c93fd1c2",
   "metadata": {},
   "source": [
    "### Download the dataset and load it into a Pandas DataFrame"
   ]
  },
  {
   "cell_type": "code",
   "execution_count": null,
   "id": "de6e8c1f",
   "metadata": {},
   "outputs": [],
   "source": [
    "import owncloud"
   ]
  },
  {
   "cell_type": "code",
   "execution_count": null,
   "id": "77de3cb9",
   "metadata": {},
   "outputs": [],
   "source": [
    "client = owncloud.Client.from_public_link('https://uni-bonn.sciebo.de/s/7TrGeBWtQFGIGlY')\n",
    "client.get_file('data/processed/steinmetz_2017-01-08_Muller.nc')"
   ]
  },
  {
   "cell_type": "markdown",
   "id": "626cfa12",
   "metadata": {},
   "source": [
    "### Load and Filter the Data\n",
    "\n",
    "Run the code below, which loads the file, extracts the variables, filters the data, and transforms it into a dataframe."
   ]
  },
  {
   "cell_type": "code",
   "execution_count": null,
   "id": "9f1bdf16",
   "metadata": {},
   "outputs": [],
   "source": [
    "import xarray as xr\n",
    "\n",
    "dset = xr.load_dataset('steinmetz_2017-01-08_Muller.nc')\n",
    "dd = dset[['pupil_x', 'pupil_y', 'contrast_left', 'contrast_right', 'response_type']]\n",
    "dd = dd.where(\n",
    "    (dset.active_trials==True) \n",
    "    & (dset.response_type != 0)\n",
    "    & (dset.time >= 0.5)\n",
    "    & (dset.time <= 1.3)\n",
    "    , drop=True)\n",
    "dd['contrast_diff'] = dd['contrast_right'] - dd['contrast_left']\n",
    "trials = dd.median(dim='time')\n",
    "rdf = trials.to_dataframe()\n",
    "rdf.head()"
   ]
  },
  {
   "cell_type": "markdown",
   "id": "3cdfd4ec",
   "metadata": {},
   "source": [
    "**Exercises**\n",
    "\n",
    "Extract data from the dataframe `df1`, plot its distribution(s), and use a t-test to answer the questions below:"
   ]
  },
  {
   "cell_type": "markdown",
   "id": "843fd300",
   "metadata": {},
   "source": [
    "**Example**: For the trials where `contrast_left` was greater or equal to 50 and `contrast_right` was 0, was the average `pupil_x` position for the trial zero?"
   ]
  },
  {
   "cell_type": "code",
   "execution_count": null,
   "id": "45fc62fa",
   "metadata": {},
   "outputs": [],
   "source": [
    "left = rdf[(rdf.contrast_left >= 50) & (rdf.contrast_right == 0)]\n",
    "sns.kdeplot(left.pupil_x, label='left')\n",
    "plt.axvline(0, color='black', linestyle='dotted')\n",
    "plt.legend()\n",
    "pg.ttest(left.pupil_x, 0)"
   ]
  },
  {
   "cell_type": "markdown",
   "id": "411b8591",
   "metadata": {},
   "source": [
    "Were the mice looking at the stimulus that was presented?  In trials where there was only one stimulus present (i.e. `contrast_left` or `contrast_right` was zero), and the stimulus had at least a contrast level of 50 (quite visible), was there a difference in the average `pupil_x` position?"
   ]
  },
  {
   "cell_type": "code",
   "execution_count": null,
   "id": "7bcd646e",
   "metadata": {},
   "outputs": [],
   "source": []
  },
  {
   "cell_type": "markdown",
   "id": "b2c32594",
   "metadata": {},
   "source": [
    "As a sanity check, was there a difference in vertical eye position between the left-stimulus trials and the right-stimulus trials?  In trials where there was only one stimulus present (i.e. `contrast_left` or `contrast_right` was zero), and the stimulus had at least a contrast level of 50 (quite visible), was there a difference in the average `pupil_y` position?"
   ]
  },
  {
   "cell_type": "code",
   "execution_count": null,
   "id": "77ac4bf4",
   "metadata": {},
   "outputs": [],
   "source": []
  },
  {
   "cell_type": "markdown",
   "id": "fc7904b5",
   "metadata": {},
   "source": [
    "Did mice look in the direction they turned the wheel?  Was there a difference in average `pupil_x` position between left-turning trials (i.e. `response_type` is -1) and right-turning trials (i.e. `response_type` is 1)?"
   ]
  },
  {
   "cell_type": "code",
   "execution_count": null,
   "id": "a03e53c0",
   "metadata": {},
   "outputs": [],
   "source": []
  },
  {
   "cell_type": "markdown",
   "id": "824c19c1",
   "metadata": {},
   "source": [
    "As a sanity check, did vertical eye position matter?  Was there a difference in average `pupil_y` position between left-turning trials (i.e. `response_type` is -1) and right-turning trials (i.e. `response_type` is 1)?"
   ]
  },
  {
   "cell_type": "code",
   "execution_count": null,
   "id": "7b8a02f9",
   "metadata": {},
   "outputs": [],
   "source": []
  },
  {
   "cell_type": "markdown",
   "id": "e7ec7428-b083-4b2d-b8b9-304c72cca984",
   "metadata": {},
   "source": [
    "## Working with Long DataFrames"
   ]
  },
  {
   "cell_type": "markdown",
   "id": "3c5c7fd1",
   "metadata": {},
   "source": [
    "If data is organized as a long dataframe, it is also possible to have `pingouin` simply do all the comparisons between the groups.  Not only is this very convenient; it also makes it possible for pingouin to do richer analyses.\n",
    "\n",
    "| Test, | Function | \n",
    "| :--- | :--- |\n",
    "| Melt | `pd.melt()` |\n",
    "| ANOVA | `pg.anova(data=dfl, dv='value', between=['variable'], detailed=True, )` |\n",
    "| ANCOVA | `pg.ancova(dfl, dv='value', between=['variable'], covar=['index'], )` |\n",
    "| Pairwise T-tests | `pg.pairwise_tests(data=dfl, dv='value', between='variable', subject='index', padjust='fdr')`  |  "
   ]
  },
  {
   "cell_type": "markdown",
   "id": "8e111182-c253-4eab-90c4-ffb6707f4853",
   "metadata": {},
   "source": [
    "**Exercises**"
   ]
  },
  {
   "cell_type": "markdown",
   "id": "11b50384-3eb8-41a0-96b0-94ec0d8ccf66",
   "metadata": {},
   "source": [
    "Use the `dfl` long dataframe below:"
   ]
  },
  {
   "cell_type": "code",
   "execution_count": null,
   "id": "e5d4df20",
   "metadata": {
    "tags": [
     "exercise"
    ]
   },
   "outputs": [],
   "source": [
    "dfl = df.melt(ignore_index=False).reset_index()\n",
    "dfl.sample(5)"
   ]
  },
  {
   "cell_type": "markdown",
   "id": "374fed27-98aa-4460-aacc-cf02870e5116",
   "metadata": {},
   "source": [
    "**Example**: Before doing pairwise tests, it's often helpful to run an ANOVA analysis, which can tell you quickly whether a pairwise difference exists within a collection of potential pairs.  Below, run an ANOVA test comparing the dv 'value' between values of 'variable' to see if a significant difference is expected."
   ]
  },
  {
   "cell_type": "code",
   "execution_count": null,
   "id": "fb58b047-6925-42c4-88bf-4ada5f0ecc65",
   "metadata": {
    "tags": [
     "exercise"
    ]
   },
   "outputs": [],
   "source": [
    "pg.anova(dfl, dv='value', between=['variable'], detailed=True, )"
   ]
  },
  {
   "cell_type": "markdown",
   "id": "3acbacf4",
   "metadata": {},
   "source": [
    "Do a t-tests for every possible pairwise comparison of \"variable\" (e.g. \"A\" vs \"B\", \"A\" vs \"C\", etc).  (Tip: it works similar to the `pg.anova` function)"
   ]
  },
  {
   "cell_type": "code",
   "execution_count": null,
   "id": "5cea7477",
   "metadata": {
    "tags": [
     "exercise"
    ]
   },
   "outputs": [],
   "source": []
  },
  {
   "cell_type": "markdown",
   "id": "ea566c5d-0f2a-4829-8b78-cbd687f5fccd",
   "metadata": {},
   "source": [
    "Repeat the tests, but his time, adjust the p-value to compensate for multiple comparisons using the 'fdr' method.  Are the significant differences still significant?  How do the corrected p-values compare to the uncorrected p-values?"
   ]
  },
  {
   "cell_type": "code",
   "execution_count": null,
   "id": "c5033a36-b7b7-4f3a-90fa-9fadbdbe558d",
   "metadata": {
    "tags": [
     "exercise"
    ]
   },
   "outputs": [],
   "source": []
  },
  {
   "cell_type": "markdown",
   "id": "d27a3b1f-3eeb-4cf1-a1d2-fbd4a77683f1",
   "metadata": {},
   "source": [
    "Do a pairwise test again on the long dataframe, comparing the value of 'value' between each value 'variable'.  This time, use a non-parametric comparison (not assuming a normal distribution of each variable), and still adjust for multiple comparisons.  Are your results the same?"
   ]
  },
  {
   "cell_type": "code",
   "execution_count": null,
   "id": "325873ad-f030-4e90-81b3-0c60f16c1ec1",
   "metadata": {
    "tags": [
     "exercise"
    ]
   },
   "outputs": [],
   "source": []
  },
  {
   "cell_type": "markdown",
   "id": "ccc79cc6",
   "metadata": {},
   "source": [
    "Use the `rdf` dataframe from the pupil measurement data.  Is there a significant different in average horizontal position, when comparing all the `contrast_diff` levels in the study pairwise?"
   ]
  },
  {
   "cell_type": "code",
   "execution_count": null,
   "id": "0e4d0e28",
   "metadata": {},
   "outputs": [],
   "source": []
  },
  {
   "cell_type": "markdown",
   "id": "cc23ab5d",
   "metadata": {},
   "source": [
    "## A Gallery of Plots : 2D Histograms with `sns.jointplot()`\n",
    "\n",
    "Let's try out a few different plots, for comparing two different continuous variables' distributions.\n",
    "\n",
    "| Code | Description |\n",
    "| :--  | :-- |\n",
    "| `sns.jointplot(df, x='colA', y='colB')` | Makes a joint histogram |"
   ]
  },
  {
   "cell_type": "markdown",
   "id": "980a7392",
   "metadata": {},
   "source": [
    "**Exercises**"
   ]
  },
  {
   "cell_type": "markdown",
   "id": "b11304fe",
   "metadata": {},
   "source": [
    "**Example**: Make a joint plot comparing the `pupil_x` and `pupil_y` variables:"
   ]
  },
  {
   "cell_type": "code",
   "execution_count": null,
   "id": "bc3c2043",
   "metadata": {},
   "outputs": [],
   "source": [
    "sns.jointplot(rdf, x=\"pupil_x\", y=\"pupil_y\");"
   ]
  },
  {
   "cell_type": "markdown",
   "id": "7c57a85a",
   "metadata": {},
   "source": [
    "Make a joint plot comparing the `pupil_x` and `pupil_y` variables, using `kind='kde'`."
   ]
  },
  {
   "cell_type": "code",
   "execution_count": null,
   "id": "5d08c2cc",
   "metadata": {},
   "outputs": [],
   "source": []
  },
  {
   "cell_type": "markdown",
   "id": "ff251179",
   "metadata": {},
   "source": [
    "Make a joint plot comparing the `pupil_x` and `pupil_y` variables, using `kind='kde'` and setting `hue` to `'response_type'`."
   ]
  },
  {
   "cell_type": "code",
   "execution_count": null,
   "id": "8e82d871",
   "metadata": {},
   "outputs": [],
   "source": []
  },
  {
   "cell_type": "markdown",
   "id": "a8a03367",
   "metadata": {},
   "source": [
    "Make a joint plot comparing the `pupil_x` and `pupil_y` variables, using `kind='hex'`."
   ]
  },
  {
   "cell_type": "code",
   "execution_count": null,
   "id": "2e7a86db",
   "metadata": {},
   "outputs": [],
   "source": []
  },
  {
   "cell_type": "markdown",
   "id": "0a7a601c",
   "metadata": {
    "cell_id": "00028-47e23c09-42f1-4eaa-b027-43c8707fc77b",
    "deepnote_cell_type": "markdown",
    "id": "documentary-effects"
   },
   "source": [
    "## Further Reading\n",
    "\n",
    "Nice article on Pingouin here: https://towardsdatascience.com/the-new-kid-on-the-statistics-in-python-block-pingouin-6b353a1db57c\n",
    "\n",
    "Nice summary of the different effect size metrics and when to pick which: https://www.socscistatistics.com/effectsize/default3.aspx"
   ]
  },
  {
   "cell_type": "markdown",
   "id": "be6ef0ca-998f-441e-97cd-3d0e96011a33",
   "metadata": {},
   "source": [
    "## Extra: Correlations and Simpson's Paradox\n",
    "\n",
    "| Function | Description |\n",
    "| :-- | :-- |\n",
    "| `pg.corr(A, B)` | The correlation between variables A and B |\n",
    "| `pg.pairwise_corr(flowers)` | Pairwise correlations |\n",
    "| `df.plot.scatter(x='A', y='B')` | Make a scatter plot |\n",
    "| `sns.lmplot(data=df, x='Col1', y='Col2', hue='Col3')` | Make a scatter plot with a regression line |"
   ]
  },
  {
   "cell_type": "markdown",
   "id": "460f3510-69cc-4964-a329-c3d40fb5e3d9",
   "metadata": {},
   "source": [
    "Download the iris dataset for this section:"
   ]
  },
  {
   "cell_type": "code",
   "execution_count": null,
   "id": "7c406ae2",
   "metadata": {},
   "outputs": [],
   "source": [
    "%pip install bokeh bokeh_sampledata"
   ]
  },
  {
   "cell_type": "code",
   "execution_count": null,
   "id": "c19d0c1c-20c1-4e8e-8100-1ea23b7134da",
   "metadata": {},
   "outputs": [],
   "source": [
    "from bokeh import sampledata\n",
    "# sampledata.download()"
   ]
  },
  {
   "cell_type": "code",
   "execution_count": null,
   "id": "a493e650-a257-4ce9-866d-e23b596d4cf4",
   "metadata": {},
   "outputs": [],
   "source": [
    "from bokeh.sampledata import iris\n",
    "flowers = iris.flowers\n",
    "flowers.head()"
   ]
  },
  {
   "cell_type": "markdown",
   "id": "1c6d95fb-45f8-426b-a560-bbe9dd44a34d",
   "metadata": {},
   "source": [
    "**Exercises**:"
   ]
  },
  {
   "cell_type": "markdown",
   "id": "0c929132-e638-4ff1-91a0-91dfd292bae9",
   "metadata": {},
   "source": [
    "Is there a correlation between flowers' sepal widths and their petal lengths?"
   ]
  },
  {
   "cell_type": "code",
   "execution_count": null,
   "id": "6969952b-80e1-414c-aae2-ba4e22163137",
   "metadata": {
    "tags": [
     "exercise"
    ]
   },
   "outputs": [],
   "source": []
  },
  {
   "cell_type": "markdown",
   "id": "574a1915-6e82-4327-9a99-f4d88e52727a",
   "metadata": {},
   "source": [
    "Use seaborn's `lmplot()` function to plot a regression line showing the sepal widths and petal lengths.  Does the direction of this line match the results?  Looking closely at the data's distribution, what is missing from this story?"
   ]
  },
  {
   "cell_type": "code",
   "execution_count": null,
   "id": "50c1d511-6651-4ac2-ba4d-d9a21f5ee2c6",
   "metadata": {
    "tags": [
     "exercise"
    ]
   },
   "outputs": [],
   "source": []
  },
  {
   "cell_type": "markdown",
   "id": "13f21fd7-797b-4c87-be8e-dd6ba45934d3",
   "metadata": {},
   "source": [
    "This time factor in the `species` variable into the `lmplot()` visualization.  What kind of relationship do you see between `sepal_width` and `petal_length` now?"
   ]
  },
  {
   "cell_type": "code",
   "execution_count": null,
   "id": "363fa626-be6b-4cd9-80a8-a1136f0238fd",
   "metadata": {
    "tags": [
     "exercise"
    ]
   },
   "outputs": [],
   "source": []
  },
  {
   "cell_type": "markdown",
   "id": "e6a59f3f-304c-4da9-bcb6-b35ad3427955",
   "metadata": {},
   "source": [
    "What's happening here is that a third variable, `\"species\"`, is influencing both the petal and the sepal shape; this effect is called \"Simpson's Paradox\".   Unfortunately, at this time (as far as I know) pengouin doesn't have a way to split a correlation into multiple groups; one way to do this, though, is to use a `df.groupby()` analysis:"
   ]
  },
  {
   "cell_type": "code",
   "execution_count": null,
   "id": "6c7e05f1-6064-4c3d-a371-f697ce9fdecb",
   "metadata": {},
   "outputs": [],
   "source": [
    "fun = lambda data: pg.corr(data['sepal_width'], data['petal_length'])\n",
    "flowers.groupby('species').apply(fun, include_groups=False)"
   ]
  },
  {
   "cell_type": "markdown",
   "id": "f16ef249-6c23-4209-96e4-b7ae233e5e31",
   "metadata": {},
   "source": [
    "To summarize, accounting for the right variables is a big part of science; we should always be aware that the patterns we see in our data can be turned completely upside down when new aspects of a problem are understood and factored in!  "
   ]
  }
 ],
 "metadata": {
  "colab": {
   "name": "20_Stats_With_Pingouin.ipynb",
   "provenance": []
  },
  "deepnote": {},
  "deepnote_execution_queue": [],
  "deepnote_notebook_id": "2622f8ad-4a8a-45f5-9f7f-6e1d67bd04f0",
  "kernelspec": {
   "display_name": "default",
   "language": "python",
   "name": "python3"
  },
  "language_info": {
   "codemirror_mode": {
    "name": "ipython",
    "version": 3
   },
   "file_extension": ".py",
   "mimetype": "text/x-python",
   "name": "python",
   "nbconvert_exporter": "python",
   "pygments_lexer": "ipython3",
   "version": "3.13.3"
  }
 },
 "nbformat": 4,
 "nbformat_minor": 5
}

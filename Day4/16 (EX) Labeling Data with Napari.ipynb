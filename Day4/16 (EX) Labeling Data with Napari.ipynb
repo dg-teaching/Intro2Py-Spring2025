{
 "cells": [
  {
   "cell_type": "code",
   "execution_count": null,
   "id": "27c5d907",
   "metadata": {},
   "outputs": [],
   "source": [
    "# %pip install tifffile numpy matplotlib napari"
   ]
  },
  {
   "cell_type": "code",
   "execution_count": null,
   "id": "383cc92e",
   "metadata": {},
   "outputs": [],
   "source": [
    "import tifffile as tiff\n",
    "import numpy as np\n",
    "import matplotlib.pyplot as plt\n",
    "import napari"
   ]
  },
  {
   "cell_type": "code",
   "execution_count": null,
   "id": "9c06cb23",
   "metadata": {},
   "outputs": [],
   "source": [
    "import owncloud\n",
    "import os\n",
    "\n",
    "if not os.path.exists('data'):\n",
    "    print('Creating directory for data')\n",
    "    os.mkdir('data')\n",
    "\n",
    "if not os.path.exists('data/cell1.tif'):\n",
    "    oc = owncloud.Client.from_public_link('https://uni-bonn.sciebo.de/s/RRU6CghB2O1tCFs')\n",
    "    oc.get_file('/', 'data/cell1.tif');\n",
    "\n",
    "if not os.path.exists('data/cell2.tif'):\n",
    "    oc = owncloud.Client.from_public_link('https://uni-bonn.sciebo.de/s/6V9seZuhhJpul1y')\n",
    "    oc.get_file('/', 'data/cell2.tif');\n",
    "\n",
    "if not os.path.exists('data/cell3.tif'):\n",
    "    oc = owncloud.Client.from_public_link('https://uni-bonn.sciebo.de/s/NWfGwHzF0W34sRY')\n",
    "    oc.get_file('/', 'data/cell3.tif');\n",
    "\n",
    "if not os.path.exists('data/multi_cell.tif'):\n",
    "    oc = owncloud.Client.from_public_link('https://uni-bonn.sciebo.de/s/FB21ECmeJgmfUqQ')\n",
    "    oc.get_file('/', 'data/multi_cell.tif');"
   ]
  },
  {
   "cell_type": "code",
   "execution_count": null,
   "id": "f9dca6ff",
   "metadata": {},
   "outputs": [],
   "source": [
    "movie = tiff.imread('data/multi_cell.tif')\n",
    "cell1_data = tiff.imread('data/cell1.tif')\n",
    "cell2_data = tiff.imread('data/cell2.tif')\n",
    "cell3_data = tiff.imread('data/cell3.tif')"
   ]
  },
  {
   "cell_type": "markdown",
   "id": "4e2c5bfb",
   "metadata": {},
   "source": [
    "## Loading Movies and Images on Napari\n",
    "\n",
    "| **Code**                                      | **Description**                                                                                   |\n",
    "| :-------------------------------------------- | :------------------------------------------------------------------------------------------------ |\n",
    "| `napari.Viewer()`                             | Create a **Napari viewer** for visualizing multi-dimensional data, such as images or time series. |\n",
    "| `viewer.close()`                              | **Close** the Napari viewer window.                                                               |\n",
    "| `viewer.add_image(cell1_data, name='Cell 1')` | Add **image data** (`cell1_data`) to the Napari viewer with the name 'Cell 1'.                    |\n",
    "| `cell1_data[:10]`                             | Access the first **10 frames** (or data points) from `cell1_data`.                                |\n",
    "| `cell1_data[100:110]`                         | Access **frames 100 to 109** from `cell1_data`.                                                   |\n"
   ]
  },
  {
   "cell_type": "markdown",
   "id": "663f553c",
   "metadata": {},
   "source": [
    "**Example** Load and play frames of `Cell 1`. Close the viewer once you are done."
   ]
  },
  {
   "cell_type": "code",
   "execution_count": null,
   "id": "54af9f83",
   "metadata": {},
   "outputs": [],
   "source": [
    "viewer = napari.Viewer()\n",
    "viewer.add_image(cell1_data, name='Cell 1')"
   ]
  },
  {
   "cell_type": "code",
   "execution_count": null,
   "id": "1e6af0a8",
   "metadata": {},
   "outputs": [],
   "source": [
    "viewer.close()"
   ]
  },
  {
   "cell_type": "markdown",
   "id": "51fcea3f",
   "metadata": {},
   "source": [
    "Load and play the first 100 frames of `Cell 1`. Close the viewer once you are done."
   ]
  },
  {
   "cell_type": "code",
   "execution_count": null,
   "id": "d35bbd65",
   "metadata": {},
   "outputs": [],
   "source": []
  },
  {
   "cell_type": "code",
   "execution_count": null,
   "id": "aff54149",
   "metadata": {},
   "outputs": [],
   "source": []
  },
  {
   "cell_type": "markdown",
   "id": "fc26c3ec",
   "metadata": {},
   "source": [
    "Load and play 10 frames from 1000th frame of `Cell 1`. Close the viewer once you are done."
   ]
  },
  {
   "cell_type": "code",
   "execution_count": null,
   "id": "9c519ac2",
   "metadata": {},
   "outputs": [],
   "source": []
  },
  {
   "cell_type": "code",
   "execution_count": null,
   "id": "eea96c69",
   "metadata": {},
   "outputs": [],
   "source": []
  },
  {
   "cell_type": "markdown",
   "id": "e4b5c215",
   "metadata": {},
   "source": [
    "## Labelling in napari\n",
    "\n",
    "\n",
    "| **Code**                        | **Description**                                                                                  |\n",
    "| :------------------------------ | :----------------------------------------------------------------------------------------------- |\n",
    "| `cell1_data.mean(axis=0)`       | Compute the **mean** of `cell1_data` across frames (axis 0 corresponds to frames).               |\n",
    "| `cell1_data.max(axis=0)`        | Compute the **maximum** value of `cell1_data` across frames (axis 0 corresponds to frames).      |\n",
    "| `cell1_data.std(axis=0)`        | Compute the **standard deviation** of `cell1_data` across frames (axis 0 corresponds to frames). |\n",
    "| `viewer.layers['roi'].data`     | Access the **data** from the `roi` layer in the Napari viewer.                                   |\n",
    "| `mask = (rois == 1)`            | Create a **binary mask** where the `rois` values equal 1.                                        |\n",
    "| `plt.contour(mask, colors='r')` | Plot the **contour** of the **binary mask** in red, highlighting the region of interest.         |\n",
    "\n",
    "\n",
    "Let us label single neurons in Napari using the brush tool."
   ]
  },
  {
   "cell_type": "code",
   "execution_count": null,
   "id": "a75984da",
   "metadata": {},
   "outputs": [],
   "source": [
    "viewer = napari.Viewer()"
   ]
  },
  {
   "cell_type": "markdown",
   "id": "be895caa",
   "metadata": {},
   "source": [
    "**Example** Open mean projection of `cell1`"
   ]
  },
  {
   "cell_type": "code",
   "execution_count": null,
   "id": "6163fe6e",
   "metadata": {},
   "outputs": [],
   "source": [
    "mean_proj = cell1_data.mean(axis=0)\n",
    "viewer.add_image(mean_proj, name=\"Mean\", colormap=\"gray\")"
   ]
  },
  {
   "cell_type": "markdown",
   "id": "7cfd5aeb",
   "metadata": {},
   "source": [
    "Add max projection of `Cell1` to an existing napari viewer"
   ]
  },
  {
   "cell_type": "code",
   "execution_count": null,
   "id": "76522415",
   "metadata": {},
   "outputs": [],
   "source": []
  },
  {
   "cell_type": "markdown",
   "id": "e1d377f1",
   "metadata": {},
   "source": [
    "Add std projection of `Cell1` to an existing napari viewer"
   ]
  },
  {
   "cell_type": "code",
   "execution_count": null,
   "id": "228c7a09",
   "metadata": {},
   "outputs": [],
   "source": []
  },
  {
   "cell_type": "markdown",
   "id": "96d06f9a",
   "metadata": {},
   "source": [
    "**Create a cell mask for Cell 1**\n",
    "- Click on New Labels Layer and rename it as `roi`.\n",
    "- Click the brush icon or press `B` to select the brush tool.\n",
    "- Carefully paint over the cell body of the selected neuron.\n",
    "- OR: Use the paint bucket tool to fill enclosed regions.\n",
    "\n",
    "We can access the layers from the jupyter notebook directly without having to first export it to another file.\n",
    "\n",
    "**Example** Access roi and plot it in the notebook."
   ]
  },
  {
   "cell_type": "code",
   "execution_count": null,
   "id": "b625e78e",
   "metadata": {},
   "outputs": [],
   "source": [
    "roi = viewer.layers['roi'].data\n",
    "plt.imshow(roi, cmap='Reds');"
   ]
  },
  {
   "cell_type": "markdown",
   "id": "b741776e",
   "metadata": {},
   "source": [
    "Add/remove few pixels in napari from the roi layer. Access roi and plot here."
   ]
  },
  {
   "cell_type": "code",
   "execution_count": null,
   "id": "a26a23da",
   "metadata": {},
   "outputs": [],
   "source": []
  },
  {
   "cell_type": "markdown",
   "id": "ec735f61",
   "metadata": {},
   "source": [
    "Close viewer"
   ]
  },
  {
   "cell_type": "code",
   "execution_count": null,
   "id": "5e545254",
   "metadata": {},
   "outputs": [],
   "source": []
  },
  {
   "cell_type": "markdown",
   "id": "fa5061c7",
   "metadata": {},
   "source": [
    "Napari can handle multiple neurons in a single Labels layer by treating neurons painted in different colors as a different neuron. The steps to identify multiple neurons in a single layer is below.\n",
    "\n",
    "- Create a new labels layer.\n",
    "- Select the brush tool: Press B to switch to the brush tool, or click the brush icon in the left toolbar.\n",
    "- Set the brush size to small size:\n",
    "   - Paint a rough outline of a neuron.\n",
    "   - Carefully paint over the neuron body. \n",
    "- Move to the next label index:\n",
    "   - Press M to increment the label index.\n",
    "   - This will automatically update the label color, so the next neuron will appear in a new color.\n",
    "- Repeat steps 2–6 for each neuron:\n",
    "   - For each new neuron:\n",
    "      - Paint its contour.\n",
    "      - Use the fill tool to create a clean mask.\n",
    "      - Press M to move to the next label index.\n",
    "- Review all labeled ROIs: Zoom out and visually inspect the full image.\n"
   ]
  },
  {
   "cell_type": "code",
   "execution_count": null,
   "id": "ec509213",
   "metadata": {},
   "outputs": [],
   "source": [
    "viewer = napari.Viewer()\n",
    "viewer.add_image(movie.std(axis=0))"
   ]
  },
  {
   "cell_type": "markdown",
   "id": "99365e90",
   "metadata": {},
   "source": [
    "Label multiple neurons in the summary image added in napari in a layer named `rois`."
   ]
  },
  {
   "cell_type": "code",
   "execution_count": null,
   "id": "cd160e06",
   "metadata": {},
   "outputs": [],
   "source": [
    "rois = viewer.layers['rois'].data"
   ]
  },
  {
   "cell_type": "markdown",
   "id": "4125637f",
   "metadata": {},
   "source": [
    "**Example** Access the first neuron and plot it here."
   ]
  },
  {
   "cell_type": "code",
   "execution_count": null,
   "id": "d2afbf85",
   "metadata": {},
   "outputs": [],
   "source": [
    "mask = (rois == 1)\n",
    "plt.imshow(movie.std(axis=0), cmap='gray')\n",
    "plt.contour(mask, colors='r')"
   ]
  },
  {
   "cell_type": "markdown",
   "id": "dab0d0d8",
   "metadata": {},
   "source": [
    "Access second neuron and plot it here."
   ]
  },
  {
   "cell_type": "code",
   "execution_count": null,
   "id": "83052bfe",
   "metadata": {},
   "outputs": [],
   "source": []
  },
  {
   "cell_type": "markdown",
   "id": "1ce88262",
   "metadata": {},
   "source": [
    "Access the zeroth position and plot it here."
   ]
  },
  {
   "cell_type": "code",
   "execution_count": null,
   "id": "8a973a53",
   "metadata": {},
   "outputs": [],
   "source": []
  },
  {
   "cell_type": "markdown",
   "id": "0fe43836",
   "metadata": {},
   "source": [
    "## Isolating ROI Pixels\n",
    "\n",
    "To extract a trace for a given ROI, we must first identify which pixels it occupies in the field of view. This section focuses on converting labelled ROI data into binary masks—arrays that define the spatial footprint of each individual neuron. Using these masks, we can isolate and examine raw pixel values belonging to each ROI. \n",
    "\n",
    "| **Code**                      | **Description**                                                                                             |\n",
    "| :---------------------------- | :---------------------------------------------------------------------------------------------------------- |\n",
    "| `movie[:, mask].mean(axis=1)` | Compute the **mean** across frames for the pixels defined by the **mask** (axis 1 corresponds to frames).   |\n",
    "| `n_frames = movie.shape[0]`   | Get the **number of frames** in the `movie` (first dimension of the shape).                                 |\n",
    "| `np.zeros((2, n_frames))`     | Create an array of **zeros** with shape `(2, n_frames)` to represent two rows of zeros, one for each frame. |\n",
    "| `np.unique(rois)`             | Get the **unique values** in the `rois` array, representing different regions of interest (ROIs).           |\n",
    "| `len(np.unique(rois))`        | Get the **number of unique ROIs** by counting the unique values in `rois`.                                  |\n"
   ]
  },
  {
   "cell_type": "markdown",
   "id": "1754ff8a",
   "metadata": {},
   "source": [
    "With this mask, we can easily extract the calcium trace from a specific neuron with\n",
    "\n",
    "```python\n",
    "mask = rois == 1             # Create a boolean mask where pixels belonging to ROI 1 are True\n",
    "\n",
    "movie[:, mask]              # Select only the ROI pixels at each time point ([frames, num_pixels_in_roi])\n",
    "\n",
    ".mean(axis=1)               # Compute the average fluorescence across ROI pixels for each frame)\n",
    "```"
   ]
  },
  {
   "cell_type": "markdown",
   "id": "2c28fa06",
   "metadata": {},
   "source": [
    "**Example** Plot calcium trace from 1st neuron."
   ]
  },
  {
   "cell_type": "code",
   "execution_count": null,
   "id": "ba90b463",
   "metadata": {},
   "outputs": [],
   "source": [
    "mask = rois == 1\n",
    "cal_trace = movie[:, mask].mean(axis=1)\n",
    "plt.plot(cal_trace)"
   ]
  },
  {
   "cell_type": "markdown",
   "id": "5b2584b7",
   "metadata": {},
   "source": [
    "Plot calcium trace from 2nd neuron."
   ]
  },
  {
   "cell_type": "code",
   "execution_count": null,
   "id": "0c2c54c3",
   "metadata": {},
   "outputs": [],
   "source": []
  },
  {
   "cell_type": "markdown",
   "id": "238363bb",
   "metadata": {},
   "source": [
    "Plot calcium trace from 3rd neuron."
   ]
  },
  {
   "cell_type": "code",
   "execution_count": null,
   "id": "f60db4cb",
   "metadata": {},
   "outputs": [],
   "source": []
  },
  {
   "cell_type": "markdown",
   "id": "4838c77c",
   "metadata": {},
   "source": [
    "## For-Loops for Storing Multiple Calcium Traces\n",
    "\n",
    "We usually have several neurons imaged simulataneously and they are all typically stored in a single matrix such that each row of that matrix represents calcium trace of a single neuron. In this section, we restructure the calcium traces extracted from our data into that format."
   ]
  },
  {
   "cell_type": "markdown",
   "id": "0c4422b6",
   "metadata": {},
   "source": [
    "**Example** Store all frames for the first two neurons in single array."
   ]
  },
  {
   "cell_type": "code",
   "execution_count": null,
   "id": "1c485c47",
   "metadata": {},
   "outputs": [],
   "source": [
    "n_frames = movie.shape[0]\n",
    "traces = np.zeros((2, n_frames))\n",
    "traces[0] = movie[:, rois == 1].mean(axis=1)\n",
    "traces[1] = movie[:, rois == 2].mean(axis=1)\n",
    "\n",
    "plt.plot(traces[0])\n",
    "plt.plot(traces[1])"
   ]
  },
  {
   "cell_type": "markdown",
   "id": "f7fcd08e",
   "metadata": {},
   "source": [
    "Store all frames for the first three neurons in single array."
   ]
  },
  {
   "cell_type": "code",
   "execution_count": null,
   "id": "4f020e01",
   "metadata": {},
   "outputs": [],
   "source": []
  },
  {
   "cell_type": "markdown",
   "id": "cb35a388",
   "metadata": {},
   "source": [
    "Store all frames for the first four neurons in single array."
   ]
  },
  {
   "cell_type": "code",
   "execution_count": null,
   "id": "34e0b760",
   "metadata": {},
   "outputs": [],
   "source": []
  },
  {
   "cell_type": "markdown",
   "id": "6efd0fd8",
   "metadata": {},
   "source": [
    "It can be tedious to do this manually especially when we have many number of neurons. We can use for-loop to do the same for multiple rois by\n",
    "\n",
    "```python\n",
    "traces = np.zeros((2, 2000))        # Create an empty array to store calcium traces for two ROIs (2 ROIs, 2000 frames)\n",
    "\n",
    "for roi_num in range(1, 3):         # Loop through each ROI (1 and 2)\n",
    "    mask = rois == roi_num          # Create a boolean mask for the current ROI\n",
    "    trace = movie[:, mask].mean(axis=1)  # average fluorescence for the current ROI across all pixels at each time point\n",
    "    traces[roi_num - 1] = trace     # Store the calcium trace for the current ROI in the 'traces' array\n",
    "```\n",
    "\n",
    "**Example** Use for loop to fill first two rois in their respective locations in `traces`."
   ]
  },
  {
   "cell_type": "code",
   "execution_count": null,
   "id": "b4b1fff9",
   "metadata": {},
   "outputs": [],
   "source": [
    "traces = np.zeros((2, 2000))\n",
    "\n",
    "for roi_num in range(1, 3):\n",
    "    mask = rois == roi_num\n",
    "    trace = movie[:, mask].mean(axis=1)\n",
    "    traces[roi_num - 1] = trace\n",
    "\n",
    "plt.plot(traces[0])\n",
    "plt.plot(traces[1])"
   ]
  },
  {
   "cell_type": "markdown",
   "id": "d4f0df4c",
   "metadata": {},
   "source": [
    "Use for loop to fill first three rois in their respective locations in `traces`."
   ]
  },
  {
   "cell_type": "code",
   "execution_count": null,
   "id": "c9423297",
   "metadata": {},
   "outputs": [],
   "source": []
  },
  {
   "cell_type": "markdown",
   "id": "890ebc41",
   "metadata": {},
   "source": [
    "Use for loop to fill all rois in their respective locations in `traces`."
   ]
  },
  {
   "cell_type": "code",
   "execution_count": null,
   "id": "92487489",
   "metadata": {},
   "outputs": [],
   "source": []
  },
  {
   "cell_type": "markdown",
   "id": "b40eec63",
   "metadata": {},
   "source": [
    "## Interpreting and Visualizing Extracted Traces\n",
    "\n",
    "This section introduces simple plotting tools to inspect both individual traces and full populations of neurons. Visualization helps verify the success of the extraction process, and also offers a first glimpse into the temporal structure of the data. "
   ]
  },
  {
   "cell_type": "markdown",
   "id": "c1f5f4c3",
   "metadata": {},
   "source": [
    "**Example** Plot location and trace of neuron 1."
   ]
  },
  {
   "cell_type": "code",
   "execution_count": null,
   "id": "3458a0f9",
   "metadata": {},
   "outputs": [],
   "source": [
    "roi_num = 1\n",
    "summary_image = movie.std(axis=0)\n",
    "mask = rois == roi_num\n",
    "\n",
    "fig, axes = plt.subplots(1, 2, figsize=(12, 4))\n",
    "axes[0].imshow(summary_image, cmap='gray')\n",
    "axes[0].contour(mask, colors='red', linewidths=1)\n",
    "\n",
    "axes[1].plot(traces[roi_num])\n",
    "\n",
    "plt.tight_layout()"
   ]
  },
  {
   "cell_type": "markdown",
   "id": "a9c420d2",
   "metadata": {},
   "source": [
    "Plot location and trace of neuron 2."
   ]
  },
  {
   "cell_type": "code",
   "execution_count": null,
   "id": "e81c3f2b",
   "metadata": {},
   "outputs": [],
   "source": []
  },
  {
   "cell_type": "markdown",
   "id": "50d64320",
   "metadata": {},
   "source": [
    "Plot location and trace of neuron 3."
   ]
  },
  {
   "cell_type": "code",
   "execution_count": null,
   "id": "0d615f83",
   "metadata": {},
   "outputs": [],
   "source": []
  },
  {
   "cell_type": "markdown",
   "id": "8d5e1767",
   "metadata": {},
   "source": [
    "(**DEMO**) Interactive plot"
   ]
  },
  {
   "cell_type": "code",
   "execution_count": null,
   "id": "652a92b5",
   "metadata": {},
   "outputs": [],
   "source": [
    "%matplotlib inline\n",
    "\n",
    "from ipywidgets import interact, IntSlider\n",
    "import ipywidgets as widgets\n",
    "\n",
    "\n",
    "roi_nums = np.unique(rois)[1:]\n",
    "summary_image = movie.std(axis=0)\n",
    "\n",
    "def plot_neuron_trace(roi_idx):\n",
    "    mask = rois == roi_idx\n",
    "\n",
    "    fig, axes = plt.subplots(1, 2, figsize=(12, 4))\n",
    "\n",
    "    axes[0].imshow(summary_image, cmap='gray')\n",
    "    axes[0].contour(mask, colors='red', linewidths=1)\n",
    "    axes[0].set_title(f\"ROI {roi_idx} Location\")\n",
    "    axes[0].axis(\"off\")\n",
    "\n",
    "    axes[1].plot(traces[roi_idx - 1])\n",
    "    axes[1].set_title(f\"Fluorescence Trace (ROI {roi_idx})\")\n",
    "    axes[1].set_xlabel(\"Frame\")\n",
    "    axes[1].set_ylabel(\"Fluorescence\")\n",
    "\n",
    "    plt.tight_layout()\n",
    "    plt.show()\n",
    "\n",
    "interact(plot_neuron_trace, roi_idx=IntSlider(min=1, max=len(roi_nums), step=1, value=0));\n"
   ]
  },
  {
   "cell_type": "markdown",
   "id": "ae0db3fb",
   "metadata": {},
   "source": [
    "## (DEMO) Load Numpy Arrays as ROIs on Napari\n",
    "\n",
    "\n",
    "1. File -> Open File(s)\n",
    "2. Choose rois.npy file\n",
    "3. Right click on the new layer and choose `Convert to Labels`"
   ]
  }
 ],
 "metadata": {
  "kernelspec": {
   "display_name": "calim",
   "language": "python",
   "name": "python3"
  },
  "language_info": {
   "codemirror_mode": {
    "name": "ipython",
    "version": 3
   },
   "file_extension": ".py",
   "mimetype": "text/x-python",
   "name": "python",
   "nbconvert_exporter": "python",
   "pygments_lexer": "ipython3",
   "version": "3.12.3"
  }
 },
 "nbformat": 4,
 "nbformat_minor": 5
}

{
 "cells": [
  {
   "cell_type": "code",
   "execution_count": null,
   "id": "87fd215b",
   "metadata": {},
   "outputs": [],
   "source": [
    "# %pip install numpy tifffile matplotlib scipy scikit-image pyocclient"
   ]
  },
  {
   "cell_type": "code",
   "execution_count": null,
   "id": "006bb1fa",
   "metadata": {},
   "outputs": [],
   "source": [
    "import numpy as np\n",
    "from tifffile import imread\n",
    "import matplotlib.pyplot as plt\n",
    "from scipy.ndimage import median_filter, gaussian_filter1d"
   ]
  },
  {
   "cell_type": "markdown",
   "id": "b5a04a45",
   "metadata": {},
   "source": [
    "# Calcium Traces\n",
    "\n",
    "Calcium traces show how fluorescence changes over time as calcium levels inside a neuron rise with activity. When a neuron fires, calcium enters the cell, increasing the fluorescence signal. These traces help identify when neurons are active, with peaks indicating periods of activity. Since the fluorescence can also include signals from surrounding tissue (neuropil), adjustments are made to focus on the activity of the neuron itself.\n",
    "\n",
    "\n",
    "Run the below cell to get the data for today's session."
   ]
  },
  {
   "cell_type": "code",
   "execution_count": null,
   "id": "e0536f2d",
   "metadata": {},
   "outputs": [],
   "source": [
    "import owncloud\n",
    "import os\n",
    "\n",
    "if not os.path.exists('data'):\n",
    "    print('Creating directory for data')\n",
    "    os.mkdir('data')\n",
    "\n",
    "if not os.path.exists('data/demoMovie.tif'):\n",
    "    oc = owncloud.Client.from_public_link('https://uni-bonn.sciebo.de/s/NwtdrIg5wGdeGcB')\n",
    "    oc.get_file('/', 'data/demoMovie.tif');"
   ]
  },
  {
   "cell_type": "markdown",
   "id": "fd4d444d",
   "metadata": {},
   "source": [
    "---\n",
    "\n",
    "## Fluorescence Signals from a Single Pixel.\n",
    "\n",
    "In this section, let us look at the brightness (fluorescence) of a single pixel over time. This brightness changes when calcium levels in the cell change which is an indicator that the neuron is \"active\". Plotting how the fluorescence changes shows us when \"activity\" might have happened in that pixel. \n",
    "\n",
    "| **Code**                                 | **Description**                                                                |\n",
    "| :--------------------------------------- | :----------------------------------------------------------------------------- |\n",
    "| `data = imread('data/demoMovie.tif')`    | Load the calcium imaging data from a `.tif` file.                              |\n",
    "| `data[0, :, :]`              | Select the first frame from the data.                                          |\n",
    "| `data[-1, :, :]`             | Select the last frame from the data.                                           |\n",
    "| `data.mean(axis=0)` | Calculate the mean image over all frames.                                      |\n",
    "| `data.max(axis=0)`           | Compute the maximum intensity projection over all frames.                      |\n",
    "| `data[100:500, :, :]`        | Select frames from index 100 to 500.                                           |\n",
    "| `data[:, 20:35, 15:35]`      | Crop a specific region of the image.                                           |\n",
    "| `plt.scatter(60, 30, color='r')`         | Plot a red marker at pixel location (60, 30) on the image.                     |\n",
    "| `trace = data[:, 25, 21]`                | Extract the fluorescence trace from a specific pixel (25, 21) over all frames. |"
   ]
  },
  {
   "cell_type": "markdown",
   "id": "cbc5c11b",
   "metadata": {},
   "source": [
    "*How do I look for individual frames in my data to search for neurons?*\n",
    "\n",
    "**Example** Plot the first frame as representative image."
   ]
  },
  {
   "cell_type": "code",
   "execution_count": null,
   "id": "a8a6e55a",
   "metadata": {},
   "outputs": [],
   "source": [
    "data = imread('data/demoMovie.tif')\n",
    "rep_image = data[0, :, :]\n",
    "plt.imshow(rep_image, cmap='gray')"
   ]
  },
  {
   "cell_type": "markdown",
   "id": "8cf3ba18",
   "metadata": {},
   "source": [
    "Plot the 116th frame as representative image."
   ]
  },
  {
   "cell_type": "code",
   "execution_count": null,
   "id": "8e67ca33",
   "metadata": {},
   "outputs": [],
   "source": []
  },
  {
   "cell_type": "markdown",
   "id": "dbb72bd7",
   "metadata": {},
   "source": [
    "Plot the last frame as representative image."
   ]
  },
  {
   "cell_type": "code",
   "execution_count": null,
   "id": "8612d601",
   "metadata": {},
   "outputs": [],
   "source": []
  },
  {
   "cell_type": "markdown",
   "id": "e45cd179",
   "metadata": {},
   "source": [
    "*How do I see as many active neurons as possible in one image?*\n",
    "\n",
    "**Example** Plot mean projection of all the frames as representative image."
   ]
  },
  {
   "cell_type": "code",
   "execution_count": null,
   "id": "ac98faf0",
   "metadata": {},
   "outputs": [],
   "source": [
    "data = imread('data/demoMovie.tif')\n",
    "rep_image = data[:, :, :].mean(axis=0)\n",
    "plt.imshow(rep_image, cmap='gray')"
   ]
  },
  {
   "cell_type": "markdown",
   "id": "be05a618",
   "metadata": {},
   "source": [
    "Plot the maximum projection of all frames as representative image."
   ]
  },
  {
   "cell_type": "code",
   "execution_count": null,
   "id": "721d2647",
   "metadata": {},
   "outputs": [],
   "source": []
  },
  {
   "cell_type": "markdown",
   "id": "67c00a9d",
   "metadata": {},
   "source": [
    "Plot maximum projection from 100th to 500th frame only."
   ]
  },
  {
   "cell_type": "code",
   "execution_count": null,
   "id": "c5d06684",
   "metadata": {},
   "outputs": [],
   "source": []
  },
  {
   "cell_type": "markdown",
   "id": "671a2280",
   "metadata": {},
   "source": [
    "*How do I zoom into the cell I am interested in?*\n",
    "\n",
    "Let us consider three cells located within rectangular box defined by:\n",
    "\n",
    "| **Cell**   | **xmin** | **xmax** | **ymin** | **ymax** |\n",
    "| :--------- | :------- | :------- | :------- | :------- |\n",
    "| **Cell 1** | 15       | 35       | 20       | 35       |\n",
    "| **Cell 2** | 55       | 75       | 23       | 40       |\n",
    "| **Cell 3** | 0        | 10       | 23       | 40       |\n",
    "\n",
    "**Example** Plot mean projection image cropped to Cell 1."
   ]
  },
  {
   "cell_type": "code",
   "execution_count": null,
   "id": "ac505a3a",
   "metadata": {},
   "outputs": [],
   "source": [
    "data = imread('data/demoMovie.tif')\n",
    "rep_image = data[:, 20:35, 15:35].mean(axis=0)\n",
    "plt.imshow(rep_image, cmap='gray')"
   ]
  },
  {
   "cell_type": "markdown",
   "id": "c29e9430",
   "metadata": {},
   "source": [
    "Plot mean projection image cropped to Cell 2."
   ]
  },
  {
   "cell_type": "code",
   "execution_count": null,
   "id": "96f0e297",
   "metadata": {},
   "outputs": [],
   "source": []
  },
  {
   "cell_type": "markdown",
   "id": "51251f13",
   "metadata": {},
   "source": [
    "Plot max projection of only the first 100 frames cropped to Cell 3."
   ]
  },
  {
   "cell_type": "code",
   "execution_count": null,
   "id": "2d9d7a13",
   "metadata": {},
   "outputs": [],
   "source": []
  },
  {
   "cell_type": "markdown",
   "id": "dc8dee70",
   "metadata": {},
   "source": [
    "*How do I select a pixel from the neuron that I am interested in?*\n",
    "\n",
    "For these exercises, let us consider pixels on three cells located at:\n",
    "\n",
    "| **Cell**   | **Width (x-coordinate)** | **Height (y-coordinate)** |\n",
    "| :--------- | :----------------------- | :------------------------ |\n",
    "| **Cell 1** | 60                       | 30                        |\n",
    "| **Cell 2** | 39                       | 40                        |\n",
    "| **Cell 3** | 21                       | 25                        |\n",
    "\n",
    "\n",
    "**Example** Select a pixel from Cell 1."
   ]
  },
  {
   "cell_type": "code",
   "execution_count": null,
   "id": "515ff9f1",
   "metadata": {},
   "outputs": [],
   "source": [
    "rep_image = data.mean(axis=0)\n",
    "plt.imshow(rep_image, cmap='gray')\n",
    "plt.scatter(60, 30, color='r')"
   ]
  },
  {
   "cell_type": "markdown",
   "id": "73b0a515",
   "metadata": {},
   "source": [
    "Select a pixel from Cell 2."
   ]
  },
  {
   "cell_type": "code",
   "execution_count": null,
   "id": "6cff37f9",
   "metadata": {},
   "outputs": [],
   "source": []
  },
  {
   "cell_type": "markdown",
   "id": "faa462ef",
   "metadata": {},
   "source": [
    "Select a pixel from Cell 3."
   ]
  },
  {
   "cell_type": "code",
   "execution_count": null,
   "id": "f80588a9",
   "metadata": {},
   "outputs": [],
   "source": []
  },
  {
   "cell_type": "markdown",
   "id": "577432b0",
   "metadata": {},
   "source": [
    "*What does the activity of my neuron look like?*\n",
    "\n",
    "**Example** Plot calcium trace extracted from Cell 3."
   ]
  },
  {
   "cell_type": "code",
   "execution_count": null,
   "id": "c3d47ab5",
   "metadata": {},
   "outputs": [],
   "source": [
    "rep_image = data[:, :, :].mean(axis=0)\n",
    "trace = data[:, 25, 21]\n",
    "\n",
    "plt.subplot(211)\n",
    "plt.imshow(rep_image, cmap='gray')\n",
    "plt.scatter(21, 25, color='r')\n",
    "\n",
    "plt.subplot(212)\n",
    "plt.plot(trace)"
   ]
  },
  {
   "cell_type": "markdown",
   "id": "6295971b",
   "metadata": {},
   "source": [
    "Plot calcium trace extracted from Cell 2."
   ]
  },
  {
   "cell_type": "code",
   "execution_count": null,
   "id": "02c3f8c1",
   "metadata": {},
   "outputs": [],
   "source": []
  },
  {
   "cell_type": "markdown",
   "id": "e5451dae",
   "metadata": {},
   "source": [
    "Plot calcium trace extracted from Cell 1."
   ]
  },
  {
   "cell_type": "code",
   "execution_count": null,
   "id": "847f1f46",
   "metadata": {},
   "outputs": [],
   "source": []
  },
  {
   "cell_type": "markdown",
   "id": "ef64e287",
   "metadata": {},
   "source": [
    "## Neuropil Correction.\n",
    "\n",
    "The brightness we see in a pixel is, usually, not just from the cell we care about. It also includes light from nearby tissue called neuropil. To get a cleaner signal, we subtract a portion of this surrounding signal. This process is called neuropil correction.\n",
    "\n",
    "| **Code**                      | **Description**                                                       |\n",
    "| :---------------------------- | :-------------------------------------------------------------------- |\n",
    "| `np.mean(data, axis=(1,2))`   | Compute the mean fluorescence for each frame across all pixels.       |\n",
    "| `np.median(data, axis=(1,2))` | Compute the median fluorescence for each frame across all pixels.     |\n",
    "| `np.min(data, axis=(1,2))`    | Compute the minimum fluorescence for each frame across all pixels.    |\n",
    "| `data[:, 40, 39]`             | Extract the fluorescence trace from pixel (40, 39) across all frames. |"
   ]
  },
  {
   "cell_type": "code",
   "execution_count": null,
   "id": "ce9b8939",
   "metadata": {},
   "outputs": [],
   "source": [
    "data = imread('data/demoMovie.tif')\n",
    "rep_image = np.mean(data, axis=0)"
   ]
  },
  {
   "cell_type": "markdown",
   "id": "4c92a2af",
   "metadata": {},
   "source": [
    "*How do I get neuropil trace for correction and it's okay if it also contains some signal from neurons?*\n",
    "\n",
    "**Example** Take global mean of all frames and pixels to get neuropil trace."
   ]
  },
  {
   "cell_type": "code",
   "execution_count": null,
   "id": "aff0334a",
   "metadata": {},
   "outputs": [],
   "source": [
    "npil_trace = np.mean(data, axis=(1,2))\n",
    "plt.plot(npil_trace)"
   ]
  },
  {
   "cell_type": "markdown",
   "id": "d61014c4",
   "metadata": {},
   "source": [
    "Take global median of all frames and pixels to get neuropil trace."
   ]
  },
  {
   "cell_type": "code",
   "execution_count": null,
   "id": "d515ad57",
   "metadata": {},
   "outputs": [],
   "source": []
  },
  {
   "cell_type": "markdown",
   "id": "abc5bc9b",
   "metadata": {},
   "source": [
    "Take global minimum of all frames and pixels to get neuropil trace."
   ]
  },
  {
   "cell_type": "code",
   "execution_count": null,
   "id": "51326eae",
   "metadata": {},
   "outputs": [],
   "source": []
  },
  {
   "cell_type": "markdown",
   "id": "69dce474",
   "metadata": {},
   "source": [
    "*How do I get neuropil trace from just outside my neuron?*\n",
    "\n",
    "| **Cell**   | **Pixel (x, y)** | **Neuropil Pixel (x, y)** |\n",
    "| :--------- | :--------------- | :------------------------ |\n",
    "| **Cell 1** | (60, 30)         | (56, 33)                  |\n",
    "| **Cell 2** | (39, 40)         | (39, 45)                  |\n",
    "| **Cell 3** | (21, 25)         | (20, 28)                  |\n",
    "\n",
    "\n",
    "**Example** Extract neuropil trace from just outside Cell 2."
   ]
  },
  {
   "cell_type": "code",
   "execution_count": null,
   "id": "0132e5c6",
   "metadata": {},
   "outputs": [],
   "source": [
    "plt.subplot(211)\n",
    "plt.imshow(rep_image, cmap='gray')\n",
    "plt.scatter(39, 40, color='r')\n",
    "plt.scatter(39, 45, color='r', marker='x')\n",
    "\n",
    "plt.subplot(212)\n",
    "plt.plot(data[:, 40, 39])\n",
    "plt.plot(data[:, 45, 39])"
   ]
  },
  {
   "cell_type": "markdown",
   "id": "3b91ae09",
   "metadata": {},
   "source": [
    "Extract neuropil trace from just outside Cell 1."
   ]
  },
  {
   "cell_type": "code",
   "execution_count": null,
   "id": "ff04560f",
   "metadata": {},
   "outputs": [],
   "source": []
  },
  {
   "cell_type": "markdown",
   "id": "d5fb173b",
   "metadata": {},
   "source": [
    "Extract neuropil trace from just outside Cell 3."
   ]
  },
  {
   "cell_type": "code",
   "execution_count": null,
   "id": "9bc750c7",
   "metadata": {},
   "outputs": [],
   "source": []
  },
  {
   "cell_type": "markdown",
   "id": "7843b88a",
   "metadata": {},
   "source": [
    "*How should I do neuropil subtraction?*\n",
    "\n",
    "**Example** Subtract neuropil trace from Cell 3 calcium trace with a scaling factor of 1.0."
   ]
  },
  {
   "cell_type": "code",
   "execution_count": null,
   "id": "d961273f",
   "metadata": {},
   "outputs": [],
   "source": [
    "cell_trace = data[:, 25, 21]\n",
    "neuropil_trace = data[:, 28, 20]\n",
    "r = 1.0\n",
    "F_corr = cell_trace - r*neuropil_trace\n",
    "\n",
    "plt.subplot(211)\n",
    "plt.plot(cell_trace)\n",
    "plt.plot(neuropil_trace)\n",
    "\n",
    "plt.subplot(212)\n",
    "plt.plot(F_corr)"
   ]
  },
  {
   "cell_type": "markdown",
   "id": "0739ff8c",
   "metadata": {},
   "source": [
    "Subtract neuropil trace from Cell 2 calcium trace with a scaling factor of 0.7."
   ]
  },
  {
   "cell_type": "code",
   "execution_count": null,
   "id": "b354d4b3",
   "metadata": {},
   "outputs": [],
   "source": []
  },
  {
   "cell_type": "markdown",
   "id": "4621ca0b",
   "metadata": {},
   "source": [
    "Subtract neuropil trace from Cell 1 calcium trace with a scaling factor of 1.0."
   ]
  },
  {
   "cell_type": "code",
   "execution_count": null,
   "id": "0aaec0b4",
   "metadata": {},
   "outputs": [],
   "source": []
  },
  {
   "cell_type": "markdown",
   "id": "31452787",
   "metadata": {},
   "source": [
    "## Estimating Baseline Fluorescence (F0).\n",
    "\n",
    "Even when a neuron is not active, the signal is not zero because of slow change in signal or noise. This resting level of fluorescence is called **baseline flurorescence** or **F0**. \n",
    "\n",
    "| **Code**                     | **Description**                                               |\n",
    "| :--------------------------- | :------------------------------------------------------------ |\n",
    "| `plt.axhline(F0, color='r')` | Plot a horizontal line in red at the single baseline value F0.     |\n",
    "| `np.mean(trace)`             | Compute the mean fluorescence value of the trace.             |\n",
    "| `np.percentile(trace, 10)`   | Compute the 10th percentile value of the fluorescence trace.  |\n",
    "| `median_filter(trace, 501)`  | Apply a median filter with a window size of 501 to the trace. |\n",
    "| `plt.plot(F0)`  | Plot 1-Dimensional F0 value. |"
   ]
  },
  {
   "cell_type": "code",
   "execution_count": null,
   "id": "02b8571f",
   "metadata": {},
   "outputs": [],
   "source": [
    "cell1_corr_trace = data[:, 40, 39] - 0.7 * data[:, 45, 39]\n",
    "cell2_corr_trace = data[:, 30, 60] - 0.7 * data[:, 33, 56]\n",
    "cell3_corr_trace = data[:, 25, 21] - 0.7 * data[:, 28, 20]"
   ]
  },
  {
   "cell_type": "markdown",
   "id": "1584783c",
   "metadata": {},
   "source": [
    "*How do I get baseline activity of my cell and it's okay if I don't consider local variations?*\n",
    "\n",
    "**Example** Plot mean baseline activity of Cell 1."
   ]
  },
  {
   "cell_type": "code",
   "execution_count": null,
   "id": "d76ff325",
   "metadata": {},
   "outputs": [],
   "source": [
    "F0 = np.mean(cell1_corr_trace)\n",
    "plt.plot(cell1_corr_trace)\n",
    "plt.axhline(F0, color='r')"
   ]
  },
  {
   "cell_type": "markdown",
   "id": "7a660d52",
   "metadata": {},
   "source": [
    "Plot median baseline activity of Cell 2."
   ]
  },
  {
   "cell_type": "code",
   "execution_count": null,
   "id": "6f5b0262",
   "metadata": {},
   "outputs": [],
   "source": []
  },
  {
   "cell_type": "markdown",
   "id": "5ff773df",
   "metadata": {},
   "source": [
    "Plot 10th percentile as baseline activity of Cell 3."
   ]
  },
  {
   "cell_type": "code",
   "execution_count": null,
   "id": "0572738b",
   "metadata": {},
   "outputs": [],
   "source": []
  },
  {
   "cell_type": "markdown",
   "id": "79b85f48",
   "metadata": {},
   "source": [
    "*How do I consider local variations to estimate baseline activity of my cell?*\n",
    "\n",
    "**Example** Use moving median window to estimate baseline activity of Cell 1 with window size of 501."
   ]
  },
  {
   "cell_type": "code",
   "execution_count": null,
   "id": "62d427a6",
   "metadata": {},
   "outputs": [],
   "source": [
    "F0 = median_filter(cell1_corr_trace, 501)\n",
    "plt.plot(cell1_corr_trace)\n",
    "plt.plot(F0, color='r')"
   ]
  },
  {
   "cell_type": "markdown",
   "id": "69f3b7e3",
   "metadata": {},
   "source": [
    "Use moving median window to estimate baseline activity of Cell 2 with window size of 501."
   ]
  },
  {
   "cell_type": "code",
   "execution_count": null,
   "id": "b93de230",
   "metadata": {},
   "outputs": [],
   "source": []
  },
  {
   "cell_type": "markdown",
   "id": "2dd26427",
   "metadata": {},
   "source": [
    "Use moving median window to estimate baseline activity of Cell 1 with an even larger window size."
   ]
  },
  {
   "cell_type": "code",
   "execution_count": null,
   "id": "c6d664a5",
   "metadata": {},
   "outputs": [],
   "source": []
  },
  {
   "cell_type": "markdown",
   "id": "8b5ebdb9",
   "metadata": {},
   "source": [
    "Use moving median window to estimate baseline activity of Cell 1 with a very small window size."
   ]
  },
  {
   "cell_type": "code",
   "execution_count": null,
   "id": "886a76fb",
   "metadata": {},
   "outputs": [],
   "source": []
  },
  {
   "cell_type": "markdown",
   "id": "a4f24e12",
   "metadata": {},
   "source": [
    "## dF/F0 Normalization.\n",
    "\n",
    "We usually want to quantify how much the fluorescence signal increases relative to that baseline so that we can compare signals from different neurons. This is done by computing **ΔF/F₀**, where:\n",
    "\n",
    "$\\Delta F/F_0 = \\frac{F - F_0}{F_0}$\n",
    "\n",
    "\n",
    "Here, **F** is the fluorescence at each time point, and **ΔF** (delta F) is the difference between the current signal and the baseline. The resulting ΔF/F₀ value expresses the signal change as a **fraction of the baseline**, which is useful for comparing activity levels across different cells or imaging sessions.\n",
    "\n",
    "\n",
    "| **Code**                  | **Description**                                                                   |\n",
    "| :------------------------ | :-------------------------------------------------------------------------------- |\n",
    "| `F0 = np.median(trace)`   | Compute the baseline value (F0) of the trace using the median.                    |\n",
    "| `df = trace - F0`         | Subtract the baseline (F0) from the trace to get the change in fluorescence (ΔF). |\n",
    "| `plt.plot(trace)`         | Plot the trace.                                             |\n",
    "| `dff = (trace - F0) / F0` | Normalize the fluorescence change (ΔF) by the baseline (F0) to compute ΔF/F₀.     |"
   ]
  },
  {
   "cell_type": "markdown",
   "id": "8d63e91e",
   "metadata": {},
   "source": [
    "*How do I remove baseline activity from my cell's activity?*\n",
    "\n",
    "**Example** Remove median baseline activity from Cell 1."
   ]
  },
  {
   "cell_type": "code",
   "execution_count": null,
   "id": "22720b92",
   "metadata": {},
   "outputs": [],
   "source": [
    "F0 = np.median(cell1_corr_trace)\n",
    "df = cell1_corr_trace - F0\n",
    "\n",
    "plt.plot(cell1_corr_trace)\n",
    "plt.plot(df)"
   ]
  },
  {
   "cell_type": "markdown",
   "id": "1720eb5f",
   "metadata": {},
   "source": [
    "Remove baseline estimated from moving median filter with an appropriate size from the activity from Cell 3."
   ]
  },
  {
   "cell_type": "code",
   "execution_count": null,
   "id": "1668af12",
   "metadata": {},
   "outputs": [],
   "source": []
  },
  {
   "cell_type": "markdown",
   "id": "5766bfe4",
   "metadata": {},
   "source": [
    "Remove baseline estimated from moving median filter with a very small size from the activity from Cell 3."
   ]
  },
  {
   "cell_type": "code",
   "execution_count": null,
   "id": "0c83cf8c",
   "metadata": {},
   "outputs": [],
   "source": []
  },
  {
   "cell_type": "markdown",
   "id": "4d4b9979",
   "metadata": {},
   "source": [
    "*Finally, how do I get my baseline normalized calcium traces?*\n",
    "\n",
    "**Example** Plot df/f0 for Cell 1."
   ]
  },
  {
   "cell_type": "code",
   "execution_count": null,
   "id": "d8a3196f",
   "metadata": {},
   "outputs": [],
   "source": [
    "F0 = median_filter(cell1_corr_trace, 201)\n",
    "dff = (cell1_corr_trace - F0) / F0\n",
    "plt.plot(dff)"
   ]
  },
  {
   "cell_type": "markdown",
   "id": "90a733f1",
   "metadata": {},
   "source": [
    "Plot df/f0 for Cell 2."
   ]
  },
  {
   "cell_type": "code",
   "execution_count": null,
   "id": "cb942683",
   "metadata": {},
   "outputs": [],
   "source": []
  },
  {
   "cell_type": "markdown",
   "id": "f654ee2c",
   "metadata": {},
   "source": [
    "Plot df/f0 for Cell 3."
   ]
  },
  {
   "cell_type": "code",
   "execution_count": null,
   "id": "cf7314aa",
   "metadata": {},
   "outputs": [],
   "source": []
  }
 ],
 "metadata": {
  "kernelspec": {
   "display_name": "calim",
   "language": "python",
   "name": "python3"
  },
  "language_info": {
   "codemirror_mode": {
    "name": "ipython",
    "version": 3
   },
   "file_extension": ".py",
   "mimetype": "text/x-python",
   "name": "python",
   "nbconvert_exporter": "python",
   "pygments_lexer": "ipython3",
   "version": "3.12.3"
  }
 },
 "nbformat": 4,
 "nbformat_minor": 5
}

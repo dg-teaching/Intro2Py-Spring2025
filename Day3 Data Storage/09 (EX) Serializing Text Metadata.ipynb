{
 "cells": [
  {
   "cell_type": "code",
   "execution_count": null,
   "metadata": {},
   "outputs": [],
   "source": [
    "%pip install PyYAML xmltodict"
   ]
  },
  {
   "cell_type": "markdown",
   "metadata": {},
   "source": [
    "## Extracting Metadata From Files: Exploring Different Widely-Used, Text-Based File Formats\n",
    "\n",
    "Somehow, we have to store get our data into files; otherwise, we'd lose our data every time we exited Python!  Ideally, the way we store our data will make it easy to read and write, both in our own favorite computational environment and in those of our colleagues, without requiring that everyone develop some ultra-complex custom code.  \n",
    "\n",
    "That's where standardized file formats come in.  In this set of exercises, we'll practice **serializing** data into a string that we can write into a text file and **deserializing** text into Python data structures, using three different text file formats: \n",
    "\n",
    "  - **JSON** (Javascript Object Notation)\n",
    "  - **YAML** (Yet Another Markup Language)\n",
    "  - **XML** (Extensible Markup Language)\n",
    "  "
   ]
  },
  {
   "cell_type": "markdown",
   "metadata": {},
   "source": [
    "## Python Review: Storing Data in the **List** and **Dict** Data Structures\n",
    "\n"
   ]
  },
  {
   "cell_type": "markdown",
   "metadata": {},
   "source": [
    "\n",
    "\n",
    "### Python Review: Storing Data in **Python Lists**\n",
    "\n",
    "Let's warm up our Python skills by practicing data organization with Lists.\n",
    "\n",
    "| Code | Description |\n",
    "| :-- | :-- |\n",
    "| **`data = []`** | Makes an empty List | \n",
    "| **`data = [10, 11, 12]`** | Makes a List with 3 items: `10`, `11`, and `12` |\n",
    "| **`data = ['a', 'b', 'c']`** | Makes a List with 3 items: `10`, `11`, and `12` |\n",
    "| **`data[0]`** | Accesses the first element in the list |\n",
    "| **`data[-1]`** | Accesses the last element in the list |\n",
    "| **`data[1:]`** | Accesses the second-through-end elements in the list |\n",
    "| **`data[1] = 7`** | Replaces with second element in the list with the element `7` |\n",
    "| **`data.append(100)`** | Append a new element `100` on to the end of the list |\n",
    "\n"
   ]
  },
  {
   "cell_type": "markdown",
   "metadata": {},
   "source": [
    "**Exercises**"
   ]
  },
  {
   "cell_type": "markdown",
   "metadata": {},
   "source": [
    "**Example**: Make a list of three names of European countries."
   ]
  },
  {
   "cell_type": "code",
   "execution_count": null,
   "metadata": {},
   "outputs": [],
   "source": [
    "countries = ['Germany', 'France', 'England']\n",
    "countries"
   ]
  },
  {
   "cell_type": "markdown",
   "metadata": {},
   "source": [
    "Make a list of three scientists."
   ]
  },
  {
   "cell_type": "code",
   "execution_count": null,
   "metadata": {},
   "outputs": [],
   "source": []
  },
  {
   "cell_type": "markdown",
   "metadata": {},
   "source": [
    "Display the second scientist in your list"
   ]
  },
  {
   "cell_type": "code",
   "execution_count": null,
   "metadata": {},
   "outputs": [],
   "source": []
  },
  {
   "cell_type": "markdown",
   "metadata": {},
   "source": [
    "Replace the third scientist with `\"Wilhelm Wundt\"`"
   ]
  },
  {
   "cell_type": "code",
   "execution_count": null,
   "metadata": {},
   "outputs": [],
   "source": []
  },
  {
   "cell_type": "markdown",
   "metadata": {},
   "source": [
    "Use the list's `.append()` method to put Max Planck onto the end of the list."
   ]
  },
  {
   "cell_type": "code",
   "execution_count": null,
   "metadata": {},
   "outputs": [],
   "source": []
  },
  {
   "cell_type": "markdown",
   "metadata": {},
   "source": [
    "\n",
    "### Dicts\n",
    "\n",
    "| Code | Description |\n",
    "| :-- | :-- |\n",
    "| **`data = {}`** | Makes an empty Dict | \n",
    "| **`data = {'a': 3, 'b': 5}`** | Makes a Dict with two items: \"a\" and \"b\" |\n",
    "| **`data['a']`** | Accesses the value associated with key 'a' |\n",
    "| **`data['c'] = 7`** | Adds a new key-value pair 'c': 7 to the Dict |\n",
    "| **`list(data.keys())`** | Retrieves a list of all keys in the Dict |\n",
    "| **`list(data.values())`** | Retrieves a list of all values in the Dict |"
   ]
  },
  {
   "cell_type": "markdown",
   "metadata": {},
   "source": [
    "**Exercises**"
   ]
  },
  {
   "cell_type": "markdown",
   "metadata": {},
   "source": [
    "The `image` dict describes how researcher Tom's recording is formatted:"
   ]
  },
  {
   "cell_type": "code",
   "execution_count": null,
   "metadata": {},
   "outputs": [],
   "source": [
    "image = {'height': 1920, 'width': 1080, 'format': 'RGB', 'order': 'F'}\n",
    "image"
   ]
  },
  {
   "cell_type": "markdown",
   "metadata": {},
   "source": [
    "**Example**: Write the code to print out the width of the image, by accessing the `\"width\"` key:"
   ]
  },
  {
   "cell_type": "code",
   "execution_count": null,
   "metadata": {},
   "outputs": [],
   "source": [
    "image['width']"
   ]
  },
  {
   "cell_type": "markdown",
   "metadata": {},
   "source": [
    "What is the height of the image?"
   ]
  },
  {
   "cell_type": "code",
   "execution_count": null,
   "metadata": {},
   "outputs": [],
   "source": []
  },
  {
   "cell_type": "markdown",
   "metadata": {},
   "source": [
    "How are the pixel data in the image formatted?"
   ]
  },
  {
   "cell_type": "code",
   "execution_count": null,
   "metadata": {},
   "outputs": [],
   "source": []
  },
  {
   "cell_type": "markdown",
   "metadata": {},
   "source": [
    "What keys are in the `image` dict?"
   ]
  },
  {
   "cell_type": "code",
   "execution_count": null,
   "metadata": {},
   "outputs": [],
   "source": []
  },
  {
   "cell_type": "markdown",
   "metadata": {},
   "source": [
    "### Python Review: File Objects in Python\n",
    "\n",
    "The `open()` function gives us `file` objects, which we can use to read from or write to files. \n",
    "\n",
    "| **Code** | **Description** |\n",
    "| :-- | :-- |\n",
    "| **`f = open('newfile', 'w')`** | Makes a file object that is linked to a newly-opened file called 'newfile' that expects to do text writing. |\n",
    "| **`f = open('oldfile', 'r')`** | Makes a file object that is linked to an existing file called 'oldfile' that expects to do text reading. **Note**: the 'r' is optional, as it is the default \"file mode\" for the `open()` function.|\n",
    "| **`f.write(text)`** | Writes the string in `text` to the text file linked to `f` |\n",
    "| **`text = f.read()`** | Reads all the text stored in the text file linked to `f` |\n",
    "| **`f.close()`** | Closes the file that is linked to the file object `f`. |"
   ]
  },
  {
   "cell_type": "markdown",
   "metadata": {},
   "source": [
    "**Exercises**"
   ]
  },
  {
   "cell_type": "markdown",
   "metadata": {},
   "source": [
    "**Example**: Write the text, \"Hello, World!\" into a text file called `hello.txt`, then close the file."
   ]
  },
  {
   "cell_type": "code",
   "execution_count": null,
   "metadata": {},
   "outputs": [],
   "source": [
    "f = open('hello.txt', 'w')\n",
    "f.write('Hello, World!')\n",
    "f.close()"
   ]
  },
  {
   "cell_type": "markdown",
   "metadata": {},
   "source": [
    "Write the text, \"Goodbye, everyone.' into a text file called `bye.txt`, then close the file."
   ]
  },
  {
   "cell_type": "code",
   "execution_count": null,
   "metadata": {},
   "outputs": [],
   "source": [
    "f = open('bye.txt', 'w')\n",
    "f.write('Goodbye, everyone.')\n",
    "f.close()"
   ]
  },
  {
   "cell_type": "markdown",
   "metadata": {},
   "source": [
    "Try writing the text, \"Does this work?\" to the file object after it has already been closed.  You should see an error (after all, the file is not open to writing!)  What type of error do you get?"
   ]
  },
  {
   "cell_type": "code",
   "execution_count": null,
   "metadata": {},
   "outputs": [],
   "source": [
    "f.write('Does this work?')"
   ]
  },
  {
   "cell_type": "markdown",
   "metadata": {},
   "source": [
    "Read the text from the file `bye.txt` into the string variable `text`."
   ]
  },
  {
   "cell_type": "code",
   "execution_count": null,
   "metadata": {},
   "outputs": [],
   "source": [
    "f = open('bye.txt')\n",
    "print(f.read())\n",
    "f.close()"
   ]
  },
  {
   "cell_type": "markdown",
   "metadata": {},
   "source": [
    "Python has a nice system for auto-running certain code, including closing a file object, called a \"context manager.\"  Besides being a bit shorter, it also ensures that file closing will happen even if an error comes up.  Let's try out that syntax for the following exercises:\n",
    "\n",
    "```python\n",
    "with open('aa.txt', 'w') as f:\n",
    "    f.write('hi')\n",
    "```\n",
    "\n",
    "Write the string 'Emma' into a the file \"subj001.txt\":"
   ]
  },
  {
   "cell_type": "code",
   "execution_count": null,
   "metadata": {},
   "outputs": [],
   "source": [
    "with open('subj001.txt', 'w') as f:\n",
    "    f.write('Emma')"
   ]
  },
  {
   "cell_type": "markdown",
   "metadata": {},
   "source": [
    "Write the number `10` into the file `ten.txt`. (Note: need to make it a string first with `str()`)"
   ]
  },
  {
   "cell_type": "code",
   "execution_count": null,
   "metadata": {},
   "outputs": [],
   "source": [
    "with open('ten.txt', 'w') as f:\n",
    "    f.write(str(10))"
   ]
  },
  {
   "cell_type": "markdown",
   "metadata": {},
   "source": [
    "Read the number from `ten.txt` into the integer variable `data`. (Note: need to make it an `int` after reading it.)"
   ]
  },
  {
   "cell_type": "code",
   "execution_count": null,
   "metadata": {},
   "outputs": [],
   "source": [
    "with open('ten.txt') as f:\n",
    "    print(int(f.read()))"
   ]
  },
  {
   "cell_type": "markdown",
   "metadata": {},
   "source": [
    "---"
   ]
  },
  {
   "cell_type": "markdown",
   "metadata": {},
   "source": [
    "### The JSON and YAML File Formats\n",
    "\n",
    "Serialization libraries have functions to change data into their data structure; these functions usually come in pairs to indicate writing and reading:\n",
    "  - `serialize()` and `deserialize()`\n",
    "  - `parse()` and `unparse()`\n",
    "  - `dump()` and `load()`\n",
    "\n",
    "Which pair of terms is used depends on the libary.  \n",
    "\n",
    "Here, we'll try out YAML and JSON, two very-popular text-based file formats, to take complex dict- and list- data structures and read and write them to files.  A nice reference sheet showing how YAML and JSON syntaxes are related to each other: https://quickref.me/yaml.html  . \n",
    "\n",
    "\n",
    "| Code | Description |\n",
    "| :-- | :-- |\n",
    "| **Reading** |\n",
    "| **`data = json.load(f)`** | Read a file object storing JSON data. |\n",
    "| **`data = yaml.load(f, loader=yaml.Loader)`**  | Read a file object storing YAML data. |\n",
    "| --- | --- |\n",
    "| **Writing** | |\n",
    "| **`json.dump(data, f, indent=3)`** | Write data into a JSON text file. (indent=3 is optional, it makes it easiser to read visually in a text editor)| \n",
    "| **`yaml.dump(mdata, f)`** | Write data into a YAML text file.  |\n",
    "\n"
   ]
  },
  {
   "cell_type": "markdown",
   "metadata": {},
   "source": [
    "**Exercises**"
   ]
  },
  {
   "cell_type": "code",
   "execution_count": null,
   "metadata": {},
   "outputs": [],
   "source": [
    "%pip install PyYAML"
   ]
  },
  {
   "cell_type": "code",
   "execution_count": null,
   "metadata": {},
   "outputs": [],
   "source": [
    "import json\n",
    "import yaml"
   ]
  },
  {
   "cell_type": "markdown",
   "metadata": {},
   "source": [
    "**Exercises**: All of the following exercises use the metdata data structure below:"
   ]
  },
  {
   "cell_type": "code",
   "execution_count": null,
   "metadata": {},
   "outputs": [],
   "source": [
    "mdata = {\n",
    "    'metadata': {\n",
    "        'height': 1080, \n",
    "        'width': 1920, \n",
    "        'order': 'RGB', \n",
    "        'date': '2024-12-24', \n",
    "        'subject': {\n",
    "            'id': 'x134', \n",
    "            'name': 'Scratchy', \n",
    "            'sources': ['Cartoon', 'The Simpsons Lab, Springfield']\n",
    "        }, \n",
    "        'researchers': ['Itchy', 'Bart', 'Lisa']\n",
    "    }\n",
    "} \n",
    "mdata"
   ]
  },
  {
   "cell_type": "markdown",
   "metadata": {},
   "source": [
    "**Example**: Write the metadata a JSON file called `recording1.json`:"
   ]
  },
  {
   "cell_type": "code",
   "execution_count": null,
   "metadata": {},
   "outputs": [],
   "source": [
    "with open('recording1.json', 'w') as f:\n",
    "    json.dump(mdata, f, indent=3)"
   ]
  },
  {
   "cell_type": "markdown",
   "metadata": {},
   "source": [
    "Once the `recording1.json` file is created, try opening it up in  a text editor, and get a sense of how the file is written.  "
   ]
  },
  {
   "cell_type": "markdown",
   "metadata": {},
   "source": [
    "Read the file back into a variable called `data_from_json`.   Was the data read back in correctly?"
   ]
  },
  {
   "cell_type": "code",
   "execution_count": null,
   "metadata": {},
   "outputs": [],
   "source": [
    "with open('recording1.json') as f:\n",
    "    data = json.load(f)\n",
    "data"
   ]
  },
  {
   "cell_type": "markdown",
   "metadata": {},
   "source": [
    "Write the metadata to a YAML file called `recording1.yml`:"
   ]
  },
  {
   "cell_type": "code",
   "execution_count": null,
   "metadata": {},
   "outputs": [],
   "source": [
    "with open('recording1.yml', 'w') as f:\n",
    "    yaml.dump(data, f)"
   ]
  },
  {
   "cell_type": "markdown",
   "metadata": {},
   "source": [
    "Take a look at the text file in the text editor.  Can you see how the data has been encoded in YAML?"
   ]
  },
  {
   "cell_type": "markdown",
   "metadata": {},
   "source": [
    "Read the data from the YAML file.  Was it read back correctly?  (Note: `yaml.load()` will need `Loader=yaml.Loader`)"
   ]
  },
  {
   "cell_type": "code",
   "execution_count": null,
   "metadata": {},
   "outputs": [],
   "source": [
    "with open('recording1.yml') as f:\n",
    "    data = yaml.load(f, Loader=yaml.Loader)\n",
    "data"
   ]
  },
  {
   "cell_type": "markdown",
   "metadata": {},
   "source": [
    "Translate the following sentence to a Python data structure and save it to either a JSON or YAML file called `capture.json` or `capture.yml`: *\"The image has a width of 1080 pixels, a height of 720 pixels, saved data in RGB format. The camera settings had an exposure time of 8 milliseconds, an aperture of 2.8 f-stops, and an ISO setting of 100.\"*"
   ]
  },
  {
   "cell_type": "code",
   "execution_count": null,
   "metadata": {},
   "outputs": [],
   "source": [
    "image = {\n",
    "    'width': 1080, \n",
    "    'height': 720, \n",
    "    'format': 'RGB',\n",
    "    'settings': {\n",
    "        'exposure_ms': 8,\n",
    "        'aperture': 2.8,\n",
    "        'iso': 100\n",
    "    }\n",
    "}\n",
    "with open('capture.yml', 'w') as f:\n",
    "    yaml.dump(image, f)"
   ]
  },
  {
   "cell_type": "markdown",
   "metadata": {},
   "source": [
    "---"
   ]
  },
  {
   "cell_type": "markdown",
   "metadata": {},
   "source": [
    "### The XML File Format\n",
    "\n",
    "The XML file format is also used to store data, and is extremely popular; it's even used to store OdML data, which is the metadata format used by Nix!  Here, we'll get a sense of what XML looks like, so that when we see richer metadata files, we can more-easily grok what Nix and OdML are doing.\n",
    "\n",
    "Even though Python has an `xml` package included in its standard library, it can be quite complex to use.  Here, we're using the simpler `xmltodict` package to do basic reading and writing to xml.\n",
    "\n",
    "| **Code** | **Description** |\n",
    "| :--  | :-- |\n",
    "| **`f = open('file.xml', 'wb')`** | Open a writable file in \"binary\" mode |\n",
    "| **`f = open('file.xml', 'rb')`** | Open a readable file in \"binary\" mode |\n",
    "| **`xmltodict.unparse(data, f)`** | Write the data to the binary file linked to `f` |\n",
    "| **`data = xmltodict.parse(f.read())`** | Read the data in the binary file linked to `f`. |"
   ]
  },
  {
   "cell_type": "code",
   "execution_count": null,
   "metadata": {},
   "outputs": [],
   "source": [
    "%pip install xmltodict"
   ]
  },
  {
   "cell_type": "code",
   "execution_count": null,
   "metadata": {},
   "outputs": [],
   "source": [
    "import xmltodict"
   ]
  },
  {
   "cell_type": "markdown",
   "metadata": {},
   "source": [
    "**Exercises**"
   ]
  },
  {
   "cell_type": "markdown",
   "metadata": {},
   "source": [
    "Here is our metadata structure again:"
   ]
  },
  {
   "cell_type": "code",
   "execution_count": null,
   "metadata": {},
   "outputs": [],
   "source": [
    "mdata = {\n",
    "    'metadata': {\n",
    "        'height': 1080, \n",
    "        'width': 1920, \n",
    "        'order': 'RGB', \n",
    "        'date': '2024-12-24', \n",
    "        'subject': {\n",
    "            'id': 'x134', \n",
    "            'name': 'Scratchy', \n",
    "            'sources': ['Cartoon', 'The Simpsons Lab, Springfield']\n",
    "        }, \n",
    "        'researchers': ['Itchy', 'Bart', 'Lisa']\n",
    "    }\n",
    "} \n",
    "mdata"
   ]
  },
  {
   "cell_type": "markdown",
   "metadata": {},
   "source": [
    "Write this `mdata` data structure to `data.xml`."
   ]
  },
  {
   "cell_type": "code",
   "execution_count": null,
   "metadata": {},
   "outputs": [],
   "source": [
    "with open('data.xml', 'w') as f:\n",
    "    xmltodict.unparse(mdata, f)"
   ]
  },
  {
   "cell_type": "markdown",
   "metadata": {},
   "source": [
    "Take a look at the text file.  Can you see how the data has been encoded in XML?"
   ]
  },
  {
   "cell_type": "markdown",
   "metadata": {},
   "source": [
    "Read the `data.xml` file back into Python.  Did it read correctly?  (Note: the `xmltodict.parse()` function requires a \"bytes\" file, so use `'rb'` as the )"
   ]
  },
  {
   "cell_type": "code",
   "execution_count": null,
   "metadata": {},
   "outputs": [],
   "source": [
    "with open('data.xml') as f:\n",
    "    data = xmltodict.parse(f.read())\n",
    "data"
   ]
  },
  {
   "cell_type": "markdown",
   "metadata": {},
   "source": [
    "XML also allows for more-complex structures.  For example, the text below is valid xml:"
   ]
  },
  {
   "cell_type": "code",
   "execution_count": null,
   "metadata": {},
   "outputs": [],
   "source": [
    "text_xml = \"\"\"\n",
    "<root>\n",
    "  <stimuli>\n",
    "    <redleftc color=\"red\" form=\"circle\" side=\"left\">Red Circle on the Left Side</redleftc>\n",
    "    <redrights color=\"red\" form=\"square\" side=\"right\">Red Square on the Right Side</redrights>\n",
    "  </stimuli>\n",
    "</root>\n",
    "\"\"\"\n"
   ]
  },
  {
   "cell_type": "markdown",
   "metadata": {},
   "source": [
    "Parse the `text_xml` string into a Python variable called `dset`, and get the side that the \"redrights\" stimuli appears on the screen:"
   ]
  },
  {
   "cell_type": "code",
   "execution_count": null,
   "metadata": {},
   "outputs": [],
   "source": [
    "dset = xmltodict.parse(text_xml)\n",
    "dset['root']['stimuli']['redrights']['@side']"
   ]
  },
  {
   "cell_type": "markdown",
   "metadata": {},
   "source": [
    "This \"@\" syntax is something special that the `xmltodict` library uses; it's not part of the XML syntax, and is just a workaround from the `xmltodict` developers to make it easier to build a valid Python dict from the xml code. \n",
    "\n",
    "Try it out: What shape (\"form\") stimulus does the `redrights` stimulus show?"
   ]
  },
  {
   "cell_type": "code",
   "execution_count": null,
   "metadata": {},
   "outputs": [],
   "source": [
    "xmltodict.parse(text_xml)['root']['stimuli']['redrights']['@form']"
   ]
  }
 ],
 "metadata": {
  "kernelspec": {
   "display_name": "default",
   "language": "python",
   "name": "python3"
  },
  "language_info": {
   "codemirror_mode": {
    "name": "ipython",
    "version": 3
   },
   "file_extension": ".py",
   "mimetype": "text/x-python",
   "name": "python",
   "nbconvert_exporter": "python",
   "pygments_lexer": "ipython3",
   "version": "3.13.3"
  }
 },
 "nbformat": 4,
 "nbformat_minor": 2
}

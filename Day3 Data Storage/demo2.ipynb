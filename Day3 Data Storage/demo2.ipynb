{
 "cells": [
  {
   "cell_type": "code",
   "execution_count": 6,
   "id": "0c04954e",
   "metadata": {},
   "outputs": [],
   "source": [
    "import yaml\n",
    "import json"
   ]
  },
  {
   "cell_type": "code",
   "execution_count": 5,
   "id": "18ca0710",
   "metadata": {},
   "outputs": [
    {
     "data": {
      "text/plain": [
       "{'subject': 'Pinky',\n",
       " 'condition': {'a': 3, 'b': 4},\n",
       " 'trials': ['left', 'right', 'right']}"
      ]
     },
     "execution_count": 5,
     "metadata": {},
     "output_type": "execute_result"
    }
   ],
   "source": [
    "with open('session.yaml') as f:\n",
    "    text = f.read()\n",
    "\n",
    "yaml.load(text, Loader=yaml.Loader)"
   ]
  },
  {
   "cell_type": "code",
   "execution_count": 8,
   "id": "e906b2dd",
   "metadata": {},
   "outputs": [
    {
     "data": {
      "text/plain": [
       "{'subject': 'Pinky',\n",
       " 'condition': {'a': 3, 'b': 4},\n",
       " 'trials': ['left', 'right', 'right']}"
      ]
     },
     "execution_count": 8,
     "metadata": {},
     "output_type": "execute_result"
    }
   ],
   "source": [
    "with open('session.json') as f:\n",
    "    text = f.read()\n",
    "\n",
    "json.loads(text)"
   ]
  }
 ],
 "metadata": {
  "kernelspec": {
   "display_name": "default",
   "language": "python",
   "name": "python3"
  },
  "language_info": {
   "codemirror_mode": {
    "name": "ipython",
    "version": 3
   },
   "file_extension": ".py",
   "mimetype": "text/x-python",
   "name": "python",
   "nbconvert_exporter": "python",
   "pygments_lexer": "ipython3",
   "version": "3.13.3"
  }
 },
 "nbformat": 4,
 "nbformat_minor": 5
}

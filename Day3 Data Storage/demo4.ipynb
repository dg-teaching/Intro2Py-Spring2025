{
 "cells": [
  {
   "cell_type": "code",
   "execution_count": 3,
   "id": "407a3026",
   "metadata": {},
   "outputs": [],
   "source": [
    "import numpy as np\n",
    "import h5py"
   ]
  },
  {
   "cell_type": "code",
   "execution_count": 4,
   "id": "fe677f0c",
   "metadata": {},
   "outputs": [],
   "source": [
    "with h5py.File('data.h5', 'w') as f:\n",
    "    f['trial1'] = np.arange(12)\n",
    "    f['trial2'] = np.arange(12) * 100\n",
    "    f['image/camera1'] = np.random.randint(0, 255, size=(200, 100))\n",
    "    f['image/camera1'].attrs.update({\n",
    "        'brand': \"Fuji\",\n",
    "        \"model\": \"11\",\n",
    "    })\n",
    "    f['image/camera2'] = np.random.randint(0, 255, size=(200, 100))\n",
    "    f['image/camera3'] = np.random.randint(0, 255, size=(200, 100))\n",
    "    f.attrs.update({\n",
    "        'name': \"Nick\",\n",
    "        \"date\": \"May Something, 2025\",\n",
    "    })\n"
   ]
  }
 ],
 "metadata": {
  "kernelspec": {
   "display_name": "default",
   "language": "python",
   "name": "python3"
  },
  "language_info": {
   "codemirror_mode": {
    "name": "ipython",
    "version": 3
   },
   "file_extension": ".py",
   "mimetype": "text/x-python",
   "name": "python",
   "nbconvert_exporter": "python",
   "pygments_lexer": "ipython3",
   "version": "3.13.3"
  }
 },
 "nbformat": 4,
 "nbformat_minor": 5
}

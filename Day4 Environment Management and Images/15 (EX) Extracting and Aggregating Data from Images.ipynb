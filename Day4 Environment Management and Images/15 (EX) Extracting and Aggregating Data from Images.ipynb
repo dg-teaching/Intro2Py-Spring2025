{
 "cells": [
  {
   "cell_type": "code",
   "execution_count": null,
   "metadata": {},
   "outputs": [],
   "source": [
    "# %pip install numpy tifffile matplotlib scikit-image pyocclient"
   ]
  },
  {
   "cell_type": "code",
   "execution_count": null,
   "metadata": {},
   "outputs": [],
   "source": [
    "import tifffile\n",
    "import numpy as np\n",
    "import matplotlib.pyplot as plt\n",
    "from skimage.morphology import dilation, disk"
   ]
  },
  {
   "cell_type": "code",
   "execution_count": null,
   "metadata": {},
   "outputs": [],
   "source": [
    "import owncloud\n",
    "import os\n",
    "\n",
    "if not os.path.exists('data'):\n",
    "    print('Creating directory for data')\n",
    "    os.mkdir('data')\n",
    "\n",
    "if not os.path.exists('data/single_cell.tif'):\n",
    "    oc = owncloud.Client.from_public_link('https://uni-bonn.sciebo.de/s/QXTKzW6UGeozcUN')\n",
    "    oc.get_file('/', 'data/single_cell.tif');"
   ]
  },
  {
   "cell_type": "code",
   "execution_count": null,
   "metadata": {},
   "outputs": [],
   "source": [
    "data = tifffile.imread('data/single_cell.tif')"
   ]
  },
  {
   "cell_type": "markdown",
   "metadata": {},
   "source": [
    "# **Multi-Pixel Data Extraction to 1D Calcium Trace**  \n",
    "\n",
    "In this unit, we focus on a common task in calcium imaging: converting multi-pixel fluorescence data from a single neuron into a single 1D trace over time. While each image frame may contain dozens or hundreds of pixels representing a cell, our goal is to summarize this data into a trace that reflects the neuron’s activity. \n",
    "\n",
    "---"
   ]
  },
  {
   "cell_type": "markdown",
   "metadata": {},
   "source": [
    "## **Identifying Active Pixels Using Thresholding**  \n",
    "\n",
    "To generate a meaningful 1D trace from an image, the first step is to determine which pixels represent the cell’s signal. This involves thresholding fluorescence values to distinguish cell-related activity from background noise. Thresholding helps isolate the most relevant parts of the cell, so that analysis is based on pixels that contribute meaningful information. \n",
    "\n",
    "\n",
    "| **Code**                              | **Description**                                                                       |\n",
    "| :------------------------------------ | :------------------------------------------------------------------------------------ |\n",
    "| `np.std(data, axis=0)`                | Compute the **standard deviation** projection across all frames.                      |\n",
    "| `projection > 1000`                   | Create a **binary mask** where the projection exceeds 1000.                           |\n",
    "| `plt.imshow(projection, cmap='gray')` | Display the **projection** as an image using grayscale.                               |\n",
    "| `plt.contour(mask_abs, colors='red')` | Plot the **contour** of the mask.                                |\n",
    "| `np.percentile(projection, 10)`       | Compute the **10th percentile** of the projection.                                    |\n",
    "| `np.where(mask)`                      | Get the **coordinates** of pixels where the mask is True.                             |\n",
    "| `plt.scatter(x_pixels, y_pixels)`     | Plot the **coordinates** of the pixels from the mask as a scatter plot.               |\n",
    "| `dilation(mask, disk(3))`             | Perform **dilation** on the mask with a disk of size 3.                               |\n",
    "| `outer & ~inner`                      | Create a **neuropil mask** by subtracting the inner dilation from the outer dilation. |"
   ]
  },
  {
   "cell_type": "markdown",
   "metadata": {},
   "source": [
    "*How do I identify cell boundaries with manual thresholding?*\n",
    "\n",
    "**Example** Create a contour mask over regions where the standard deviation across time exceeds 1000."
   ]
  },
  {
   "cell_type": "code",
   "execution_count": null,
   "metadata": {},
   "outputs": [],
   "source": [
    "projection = np.std(data, axis=0)\n",
    "mask_abs = projection > 1000\n",
    "plt.imshow(projection, cmap='gray')\n",
    "plt.contour(mask_abs, colors='red')"
   ]
  },
  {
   "cell_type": "markdown",
   "metadata": {},
   "source": [
    "Create a contour mask over regions where the mean across time exceeds 2000."
   ]
  },
  {
   "cell_type": "code",
   "execution_count": null,
   "metadata": {},
   "outputs": [],
   "source": []
  },
  {
   "cell_type": "markdown",
   "metadata": {},
   "source": [
    "Create a contour mask over regions where the median across time exceeds 2000."
   ]
  },
  {
   "cell_type": "code",
   "execution_count": null,
   "metadata": {},
   "outputs": [],
   "source": []
  },
  {
   "cell_type": "markdown",
   "metadata": {},
   "source": [
    "Create a contour mask over regions where the standard deviation across time exceeds 500."
   ]
  },
  {
   "cell_type": "code",
   "execution_count": null,
   "metadata": {},
   "outputs": [],
   "source": []
  },
  {
   "cell_type": "markdown",
   "metadata": {},
   "source": [
    "*How do I identify cell boundaries with automatic thresholding?*\n",
    "\n",
    "**Example** Create a contour mask over regions where the standard deviation exceeds 3-Sigma threshold."
   ]
  },
  {
   "cell_type": "code",
   "execution_count": null,
   "metadata": {},
   "outputs": [],
   "source": [
    "projection = np.std(data, axis=0)\n",
    "threshold_val = np.mean(projection) + 3.*np.std(projection)\n",
    "mask_percentile = projection > threshold_val\n",
    "plt.imshow(projection, cmap='gray')\n",
    "plt.contour(mask_percentile, colors='red')"
   ]
  },
  {
   "cell_type": "markdown",
   "metadata": {},
   "source": [
    "Create a contour mask over regions where the standard deviation across time is above the 10th percentile."
   ]
  },
  {
   "cell_type": "code",
   "execution_count": null,
   "metadata": {},
   "outputs": [],
   "source": []
  },
  {
   "cell_type": "markdown",
   "metadata": {},
   "source": [
    "Create a contour mask over regions where the standard deviation across time is above the 80th percentile."
   ]
  },
  {
   "cell_type": "code",
   "execution_count": null,
   "metadata": {},
   "outputs": [],
   "source": []
  },
  {
   "cell_type": "markdown",
   "metadata": {},
   "source": [
    "*How do I make sure that I have all the pixels within the cell?*\n",
    "\n",
    "**Example** Show all the pixels where the below projection exceeds 1000."
   ]
  },
  {
   "cell_type": "code",
   "execution_count": null,
   "metadata": {},
   "outputs": [],
   "source": [
    "projection = np.std(data, axis=0)"
   ]
  },
  {
   "cell_type": "code",
   "execution_count": null,
   "metadata": {},
   "outputs": [],
   "source": [
    "mask = projection > 1000\n",
    "y_pixels, x_pixels = np.where(mask)\n",
    "plt.imshow(projection, cmap='gray')\n",
    "plt.scatter(x_pixels, y_pixels)"
   ]
  },
  {
   "cell_type": "markdown",
   "metadata": {},
   "source": [
    "Show all the pixels where the projection is above 5th percentile."
   ]
  },
  {
   "cell_type": "code",
   "execution_count": null,
   "metadata": {},
   "outputs": [],
   "source": []
  },
  {
   "cell_type": "markdown",
   "metadata": {},
   "source": [
    "Show all the pixels where the projection is above 80th percentile."
   ]
  },
  {
   "cell_type": "code",
   "execution_count": null,
   "metadata": {},
   "outputs": [],
   "source": []
  },
  {
   "cell_type": "markdown",
   "metadata": {},
   "source": [
    "*How do I set neuropil area around the cell?*\n",
    "\n",
    "**Example** Create a 1-pixel-wide neuropil ring around the cell mask and 2-pixel away."
   ]
  },
  {
   "cell_type": "code",
   "execution_count": null,
   "metadata": {},
   "outputs": [],
   "source": [
    "mask = projection > 1000"
   ]
  },
  {
   "cell_type": "code",
   "execution_count": null,
   "metadata": {},
   "outputs": [],
   "source": [
    "outer = dilation(mask, disk(3))\n",
    "inner = dilation(mask, disk(2))\n",
    "npil = outer & ~inner\n",
    "\n",
    "npil_y, npil_x = np.where(npil)\n",
    "cell_y, cell_x = np.where(mask)\n",
    "\n",
    "\n",
    "plt.imshow(projection, cmap='gray')\n",
    "plt.scatter(cell_x, cell_y)\n",
    "plt.scatter(npil_x, npil_y)"
   ]
  },
  {
   "cell_type": "markdown",
   "metadata": {},
   "source": [
    "Create a 1-pixel-wide neuropil ring 7 pixels away from the cell mask."
   ]
  },
  {
   "cell_type": "code",
   "execution_count": null,
   "metadata": {},
   "outputs": [],
   "source": [
    "threshold_val = np.mean(projection) + 3.*np.std(projection)\n",
    "mask = projection > threshold_val"
   ]
  },
  {
   "cell_type": "code",
   "execution_count": null,
   "metadata": {},
   "outputs": [],
   "source": []
  },
  {
   "cell_type": "markdown",
   "metadata": {},
   "source": [
    "Create a 3-pixel-wide neuropil ring starting 2 pixels away from the cell mask"
   ]
  },
  {
   "cell_type": "code",
   "execution_count": null,
   "metadata": {},
   "outputs": [],
   "source": [
    "threshold_val = np.percentile(projection, 80)\n",
    "mask = projection > threshold_val"
   ]
  },
  {
   "cell_type": "code",
   "execution_count": null,
   "metadata": {},
   "outputs": [],
   "source": []
  },
  {
   "cell_type": "markdown",
   "metadata": {},
   "source": [
    "## **Extracting Pixel Time Series**  \n",
    "\n",
    "Once the active pixels have been identified, the next step is to extract their fluorescence values across all time frames. Since cells often have irregular shapes, their pixels are not arranged in a rectangular block. This requires the use of advanced indexing techniques to selectively access those pixel values. In this section, we demonstrate how to use `numpy`'s fancy indexing to extract pixel-wise time series from a 3D calcium imaging dataset. The result is a 2D matrix where each row corresponds to a pixel and each column to a time point.\n",
    "\n",
    "| **Code**                                  | **Description**                                                                                       |\n",
    "| :---------------------------------------- | :---------------------------------------------------------------------------------------------------- |\n",
    "| `data[:, y_pixels[0], x_pixels[0]]`       | Access the data for the specific pixel located at (`x_pixels[0]`, `y_pixels[0]`) across all frames.   |\n",
    "| `plt.plot(trace)`                         | Plot the **trace** of the selected data.                                                              |\n",
    "| `traces1.shape`                           | Get the **shape** of the `traces1` array, showing its dimensions (number of frames, number of pixels.). \n",
    "\n",
    "Let us use pixels from three different masks defined based on different thresholds."
   ]
  },
  {
   "cell_type": "code",
   "execution_count": null,
   "metadata": {},
   "outputs": [],
   "source": [
    "mask1 = projection > 1000\n",
    "\n",
    "projection = np.std(data, axis=0)\n",
    "threshold_val = np.mean(projection) + 3.*np.std(projection)\n",
    "mask2 = projection > threshold_val\n",
    "\n",
    "threshold_val = np.percentile(projection, 80)\n",
    "mask3 = projection > threshold_val"
   ]
  },
  {
   "cell_type": "markdown",
   "metadata": {},
   "source": [
    "*How do I extract calcium trace from one of the active pixels?*\n",
    "\n",
    "*Example* Plot the time series of the first pixel inside the mask 1. "
   ]
  },
  {
   "cell_type": "code",
   "execution_count": null,
   "metadata": {},
   "outputs": [],
   "source": [
    "y_pixels, x_pixels = np.where(mask1)\n",
    "trace = data[:, y_pixels[0], x_pixels[0]]\n",
    "plt.plot(trace)"
   ]
  },
  {
   "cell_type": "markdown",
   "metadata": {},
   "source": [
    "Plot the time series (frame 300–750) of the first pixel inside the mask 2."
   ]
  },
  {
   "cell_type": "code",
   "execution_count": null,
   "metadata": {},
   "outputs": [],
   "source": []
  },
  {
   "cell_type": "markdown",
   "metadata": {},
   "source": [
    "Plot the time series of the last pixel inside the mask 3."
   ]
  },
  {
   "cell_type": "code",
   "execution_count": null,
   "metadata": {},
   "outputs": [],
   "source": []
  },
  {
   "cell_type": "markdown",
   "metadata": {},
   "source": [
    "*How do I extract calcium traces from all of the active pixels?*\n",
    "\n",
    "**Example** How many pixel traces are extracted from mask 1?"
   ]
  },
  {
   "cell_type": "code",
   "execution_count": null,
   "metadata": {},
   "outputs": [],
   "source": [
    "y_pixels, x_pixels = np.where(mask1)\n",
    "traces1 = data[:, y_pixels, x_pixels]\n",
    "traces1.shape"
   ]
  },
  {
   "cell_type": "markdown",
   "metadata": {},
   "source": [
    "How many pixel traces are extracted from mask 2?"
   ]
  },
  {
   "cell_type": "code",
   "execution_count": null,
   "metadata": {},
   "outputs": [],
   "source": []
  },
  {
   "cell_type": "markdown",
   "metadata": {},
   "source": [
    "How many pixel traces are extracted from mask 3?"
   ]
  },
  {
   "cell_type": "code",
   "execution_count": null,
   "metadata": {},
   "outputs": [],
   "source": []
  },
  {
   "cell_type": "markdown",
   "metadata": {},
   "source": [
    "## **Averaging Pixel Values to Create a 1D Trace**  \n",
    "\n",
    "With the pixel-wise fluorescence time series in hand, we now reduce this information to a single trace that summarizes the cell's activity. This is commonly done by averaging the fluorescence across all pixels in the ROI at each time point. This section shows how to compute and visualize a mean trace using `numpy`. \n",
    "\n",
    "| **Code**                               | **Description**                                                                                                  |\n",
    "| :------------------------------------- | :--------------------------------------------------------------------------------------------------------------- |\n",
    "| `np.mean(traces1, axis=1)` | Compute the **mean trace** across all pixels for each **time point** |"
   ]
  },
  {
   "cell_type": "code",
   "execution_count": null,
   "metadata": {},
   "outputs": [],
   "source": [
    "y_pixels1, x_pixels1 = np.where(mask1)\n",
    "traces1 = data[:, y_pixels1, x_pixels1]\n",
    "\n",
    "y_pixels2, x_pixels2 = np.where(mask2)\n",
    "traces2 = data[:, y_pixels2, x_pixels2]\n",
    "\n",
    "y_pixels3, x_pixels3 = np.where(mask3)\n",
    "traces3 = data[:, y_pixels3, x_pixels3]"
   ]
  },
  {
   "cell_type": "markdown",
   "metadata": {},
   "source": [
    "*How do I get cell trace averaging all the traces from pixels?*\n",
    "\n",
    "`traces1`, `traces2`, and `traces3` contain the time series of all pixels defined by `mask1`, `mask2`, and `mask3`.\n",
    "\n",
    "**Example** Plot the mean cell trace from all pixels defined by mask 1."
   ]
  },
  {
   "cell_type": "code",
   "execution_count": null,
   "metadata": {},
   "outputs": [],
   "source": [
    "avg_trace = np.mean(traces1, axis=1)\n",
    "plt.plot(avg_trace)"
   ]
  },
  {
   "cell_type": "markdown",
   "metadata": {},
   "source": [
    "Plot the median cell trace from all pixels defined by mask 1."
   ]
  },
  {
   "cell_type": "code",
   "execution_count": null,
   "metadata": {},
   "outputs": [],
   "source": []
  },
  {
   "cell_type": "markdown",
   "metadata": {},
   "source": [
    "Plot the mean cell trace from all pixels defined by mask 3."
   ]
  },
  {
   "cell_type": "code",
   "execution_count": null,
   "metadata": {},
   "outputs": [],
   "source": []
  },
  {
   "cell_type": "markdown",
   "metadata": {},
   "source": [
    "*How do I get neuropil trace?*\n",
    "\n",
    "**Example** Obtain neuropil trace for mask 1 from ring 1px wide and 7px away."
   ]
  },
  {
   "cell_type": "code",
   "execution_count": null,
   "metadata": {},
   "outputs": [],
   "source": [
    "# cell pixels\n",
    "y_pixels, x_pixels = np.where(mask1)\n",
    "traces = data[:, y_pixels, x_pixels]\n",
    "\n",
    "# neuropil pixels\n",
    "y_npil, x_npil = np.where(npil)\n",
    "outer = dilation(mask1, disk(8))\n",
    "inner = dilation(mask1, disk(7))\n",
    "npil = outer & ~inner\n",
    "npil_traces = data[:, y_npil, x_npil]\n",
    "\n",
    "# plotting average cell and neuropil traces\n",
    "plt.plot(np.median(traces, axis=1))\n",
    "plt.plot(np.median(npil_traces, axis=1))"
   ]
  },
  {
   "cell_type": "markdown",
   "metadata": {},
   "source": [
    "Obtain neuropil trace for mask 3 from ring 1px wide and 1px away."
   ]
  },
  {
   "cell_type": "code",
   "execution_count": null,
   "metadata": {},
   "outputs": [],
   "source": []
  },
  {
   "cell_type": "markdown",
   "metadata": {},
   "source": [
    "Obtain neuropil trace for mask 3 from ring 3px wide and 2px away."
   ]
  },
  {
   "cell_type": "code",
   "execution_count": null,
   "metadata": {},
   "outputs": [],
   "source": []
  },
  {
   "cell_type": "markdown",
   "metadata": {},
   "source": [
    "## **Using Weighted and Robust Aggregation Methods**  \n",
    "\n",
    "While averaging is often sufficient, not all pixels in the ROI may contribute equally to the signal. Some may be on the edge, poorly illuminated, or contain more noise. Weighted aggregation methods can improve the quality of the final trace by accounting for pixel-level differences. In this section, we introduce weighted averaging using `numpy` to compute a single representative fluorescence trace by taking a weighted average of multiple pixel traces, where the weights are proportional to the average brightness of each pixel. This is done by\n",
    "\n",
    "- Compute the average fluorescence intensity over time for each pixel trace.\n",
    "- Use these average values to determine weights and normalize them.\n",
    "- Apply the weights to combine all pixel traces into a single weighted-average trace, where more active pixels contribute more strongly.\n",
    "\n",
    "| **Code**                                        | **Description**                                                                                                                                              |\n",
    "| :---------------------------------------------- | :----------------------------------------------------------------------------------------------------------------------------------------------------------- |\n",
    "| `np.mean(traces1, axis=0)`                      | Compute the **mean trace** for each pixel across all frames (axis 0 corresponds to the frames). The result will be a 1D array with one mean value per pixel. |\n",
    "| `np.zeros_like(mask1, dtype=float)`             | Create an array of **zeros** with the same shape as `mask1`, but with a **float** data type.                                                                 |\n",
    "| `plt.colorbar()`                                | Display a **colorbar** for the current plot to indicate the scale of values.                                                                                 |\n",
    "| `np.average(traces1, axis=1, weights=weights1)` | Compute the **weighted average** of `traces1` using weights1 of each pixel.                |"
   ]
  },
  {
   "cell_type": "code",
   "execution_count": null,
   "metadata": {},
   "outputs": [],
   "source": [
    "y_pixels1, x_pixels1 = np.where(mask1)\n",
    "traces1 = data[:, y_pixels1, x_pixels1]\n",
    "\n",
    "y_pixels2, x_pixels2 = np.where(mask2)\n",
    "traces2 = data[:, y_pixels2, x_pixels2]\n",
    "\n",
    "y_pixels3, x_pixels3 = np.where(mask3)\n",
    "traces3 = data[:, y_pixels3, x_pixels3]"
   ]
  },
  {
   "cell_type": "markdown",
   "metadata": {},
   "source": [
    "*How do I assign weights for pixels depending on how bright it is?*\n",
    "\n",
    "**Example** Visualize pixel-wise weights for a region by normalizing the mean fluorescence intensity of each pixel in mask1."
   ]
  },
  {
   "cell_type": "code",
   "execution_count": null,
   "metadata": {},
   "outputs": [],
   "source": [
    "means1 = np.mean(traces1, axis=0)\n",
    "weights1 = means1 / np.sum(means1)\n",
    "\n",
    "weights_image = np.zeros_like(mask1, dtype=float)\n",
    "y_pixels1, x_pixels1 = np.where(mask1)\n",
    "weights_image[y_pixels1, x_pixels1] = weights1\n",
    "\n",
    "plt.imshow(weights_image, cmap='gray')\n",
    "plt.colorbar()"
   ]
  },
  {
   "cell_type": "markdown",
   "metadata": {},
   "source": [
    "Visualize pixel-wise weights for a region by normalizing the mean fluorescence intensity of each pixel in mask2."
   ]
  },
  {
   "cell_type": "code",
   "execution_count": null,
   "metadata": {},
   "outputs": [],
   "source": []
  },
  {
   "cell_type": "markdown",
   "metadata": {},
   "source": [
    "Visualize pixel-wise weights for a region by normalizing the mean fluorescence intensity of each pixel in mask3."
   ]
  },
  {
   "cell_type": "code",
   "execution_count": null,
   "metadata": {},
   "outputs": [],
   "source": []
  },
  {
   "cell_type": "markdown",
   "metadata": {},
   "source": [
    "*How do I get weighted average?*\n",
    "\n",
    "**Example** Plot the weighted average time series of pixels in mask1."
   ]
  },
  {
   "cell_type": "code",
   "execution_count": null,
   "metadata": {},
   "outputs": [],
   "source": [
    "weighted_trace1 = np.average(traces1, axis=1, weights=weights1)\n",
    "plt.plot(weighted_trace1)"
   ]
  },
  {
   "cell_type": "markdown",
   "metadata": {},
   "source": [
    "Plot the weighted average time series of pixels in mask2."
   ]
  },
  {
   "cell_type": "code",
   "execution_count": null,
   "metadata": {},
   "outputs": [],
   "source": []
  },
  {
   "cell_type": "markdown",
   "metadata": {},
   "source": [
    "Plot the weighted average time series of pixels in mask3."
   ]
  },
  {
   "cell_type": "code",
   "execution_count": null,
   "metadata": {},
   "outputs": [],
   "source": []
  },
  {
   "cell_type": "markdown",
   "metadata": {},
   "source": [
    "**Bonus** Compare traces obtained with and without doing weighted average"
   ]
  }
 ],
 "metadata": {
  "kernelspec": {
   "display_name": "calim",
   "language": "python",
   "name": "python3"
  },
  "language_info": {
   "codemirror_mode": {
    "name": "ipython",
    "version": 3
   },
   "file_extension": ".py",
   "mimetype": "text/x-python",
   "name": "python",
   "nbconvert_exporter": "python",
   "pygments_lexer": "ipython3",
   "version": "3.12.3"
  }
 },
 "nbformat": 4,
 "nbformat_minor": 2
}
